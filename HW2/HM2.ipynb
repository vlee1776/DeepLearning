{
 "cells": [
  {
   "cell_type": "markdown",
   "metadata": {},
   "source": [
    "# HM2: Numerical Optimization for Logistic Regression.\n",
    "\n",
    "### Name: Vincent Lee\n"
   ]
  },
  {
   "cell_type": "markdown",
   "metadata": {},
   "source": [
    "## 0. You will do the following:\n",
    "\n",
    "1. Read the lecture note: [click here](https://github.com/wangshusen/DeepLearning/blob/master/LectureNotes/Logistic/paper/logistic.pdf)\n",
    "\n",
    "2. Read, complete, and run my code.\n",
    "\n",
    "3. **Implement mini-batch SGD** and evaluate the performance.\n",
    "\n",
    "4. Convert the .IPYNB file to .HTML file.\n",
    "\n",
    "    * The HTML file must contain **the code** and **the output after execution**.\n",
    "    \n",
    "    * Missing **the output after execution** will not be graded.\n",
    "    \n",
    "5. Upload this .HTML file to your Google Drive, Dropbox, or your Github repo.  (If you submit the file to Google Drive or Dropbox, you must make the file \"open-access\". The delay caused by \"deny of access\" may result in late penalty.)\n",
    "\n",
    "6. Submit the link to this .HTML file to Canvas.\n",
    "\n",
    "    * Example: https://github.com/wangshusen/CS583-2020S/blob/master/homework/HM2/HM2.html\n",
    "\n",
    "\n",
    "## Grading criteria:\n",
    "\n",
    "1. When computing the ```gradient``` and ```objective function value``` using a batch of samples, use **matrix-vector multiplication** rather than a FOR LOOP of **vector-vector multiplications**.\n",
    "\n",
    "2. Plot ```objective function value``` against ```epochs```. In the plot, compare GD, SGD, and MB-SGD (with $b=8$ and $b=64$). The plot must look reasonable."
   ]
  },
  {
   "cell_type": "code",
   "execution_count": null,
   "metadata": {},
   "outputs": [],
   "source": []
  },
  {
   "cell_type": "markdown",
   "metadata": {},
   "source": [
    "# 1. Data processing\n",
    "\n",
    "- Download the Diabete dataset from https://www.csie.ntu.edu.tw/~cjlin/libsvmtools/datasets/binary/diabetes\n",
    "- Load the data using sklearn.\n",
    "- Preprocess the data."
   ]
  },
  {
   "cell_type": "markdown",
   "metadata": {},
   "source": [
    "## 1.1. Load the data"
   ]
  },
  {
   "cell_type": "code",
   "execution_count": 1,
   "metadata": {},
   "outputs": [
    {
     "name": "stdout",
     "output_type": "stream",
     "text": [
      "Shape of x: (768, 8)\n",
      "Shape of y: (768,)\n"
     ]
    }
   ],
   "source": [
    "from sklearn import datasets\n",
    "import numpy\n",
    "\n",
    "x_sparse, y = datasets.load_svmlight_file('diabetes')\n",
    "x = x_sparse.todense()\n",
    "\n",
    "print('Shape of x: ' + str(x.shape))\n",
    "print('Shape of y: ' + str(y.shape))"
   ]
  },
  {
   "cell_type": "markdown",
   "metadata": {},
   "source": [
    "## 1.2. Partition to training and test sets"
   ]
  },
  {
   "cell_type": "code",
   "execution_count": 2,
   "metadata": {},
   "outputs": [
    {
     "name": "stdout",
     "output_type": "stream",
     "text": [
      "Shape of x_train: (640, 8)\n",
      "Shape of x_test: (128, 8)\n",
      "Shape of y_train: (640, 1)\n",
      "Shape of y_test: (128, 1)\n"
     ]
    }
   ],
   "source": [
    "# partition the data to training and test sets\n",
    "n = x.shape[0]\n",
    "n_train = 640\n",
    "n_test = n - n_train\n",
    "\n",
    "rand_indices = numpy.random.permutation(n)\n",
    "train_indices = rand_indices[0:n_train]\n",
    "test_indices = rand_indices[n_train:n]\n",
    "\n",
    "x_train = x[train_indices, :]\n",
    "x_test = x[test_indices, :]\n",
    "y_train = y[train_indices].reshape(n_train, 1)\n",
    "y_test = y[test_indices].reshape(n_test, 1)\n",
    "\n",
    "print('Shape of x_train: ' + str(x_train.shape))\n",
    "print('Shape of x_test: ' + str(x_test.shape))\n",
    "print('Shape of y_train: ' + str(y_train.shape))\n",
    "print('Shape of y_test: ' + str(y_test.shape))"
   ]
  },
  {
   "cell_type": "markdown",
   "metadata": {},
   "source": [
    "## 1.3. Feature scaling"
   ]
  },
  {
   "cell_type": "markdown",
   "metadata": {},
   "source": [
    "Use the standardization to trainsform both training and test features"
   ]
  },
  {
   "cell_type": "code",
   "execution_count": 3,
   "metadata": {},
   "outputs": [
    {
     "name": "stdout",
     "output_type": "stream",
     "text": [
      "test mean = \n",
      "[[-0.08854186 -0.08430218  0.07027727 -0.02524652 -0.05923962  0.00594898\n",
      "  -0.07147775 -0.23235968]]\n",
      "test std = \n",
      "[[0.92661667 1.0140942  0.89124873 0.89383095 0.81009921 0.80920254\n",
      "  0.80184708 0.73693754]]\n"
     ]
    }
   ],
   "source": [
    "# Standardization\n",
    "import numpy\n",
    "\n",
    "# calculate mu and sig using the training set\n",
    "d = x_train.shape[1]\n",
    "mu = numpy.mean(x_train, axis=0).reshape(1, d)\n",
    "sig = numpy.std(x_train, axis=0).reshape(1, d)\n",
    "\n",
    "# transform the training features\n",
    "x_train = (x_train - mu) / (sig + 1E-6)\n",
    "\n",
    "# transform the test features\n",
    "x_test = (x_test - mu) / (sig + 1E-6)\n",
    "\n",
    "print('test mean = ')\n",
    "print(numpy.mean(x_test, axis=0))\n",
    "\n",
    "print('test std = ')\n",
    "print(numpy.std(x_test, axis=0))"
   ]
  },
  {
   "cell_type": "markdown",
   "metadata": {},
   "source": [
    "## 1.4. Add a dimension of all ones"
   ]
  },
  {
   "cell_type": "code",
   "execution_count": 4,
   "metadata": {},
   "outputs": [
    {
     "name": "stdout",
     "output_type": "stream",
     "text": [
      "Shape of x_train: (640, 9)\n",
      "Shape of x_test: (128, 9)\n"
     ]
    }
   ],
   "source": [
    "n_train, d = x_train.shape\n",
    "x_train = numpy.concatenate((x_train, numpy.ones((n_train, 1))), axis=1)\n",
    "\n",
    "n_test, d = x_test.shape\n",
    "x_test = numpy.concatenate((x_test, numpy.ones((n_test, 1))), axis=1)\n",
    "\n",
    "print('Shape of x_train: ' + str(x_train.shape))\n",
    "print('Shape of x_test: ' + str(x_test.shape))"
   ]
  },
  {
   "cell_type": "markdown",
   "metadata": {},
   "source": [
    "# 2. Logistic regression model\n",
    "\n",
    "The objective function is $Q (w; X, y) = \\frac{1}{n} \\sum_{i=1}^n \\log \\Big( 1 + \\exp \\big( - y_i x_i^T w \\big) \\Big) + \\frac{\\lambda}{2} \\| w \\|_2^2 $."
   ]
  },
  {
   "cell_type": "code",
   "execution_count": 5,
   "metadata": {},
   "outputs": [],
   "source": [
    "# Calculate the objective function value\n",
    "# Inputs:\n",
    "#     w: d-by-1 matrix\n",
    "#     x: n-by-d matrix\n",
    "#     y: n-by-1 matrix\n",
    "#     lam: scalar, the regularization parameter\n",
    "# Return:\n",
    "#     objective function value (scalar)\n",
    "def objective(w, x, y, lam):\n",
    "    n, d = x.shape\n",
    "    yx = numpy.multiply(y, x) # n-by-d matrix\n",
    "    yxw = numpy.dot(yx, w) # n-by-1 matrix\n",
    "    vec1 = numpy.exp(-yxw) # n-by-1 matrix\n",
    "    vec2 = numpy.log(1 + vec1) # n-by-1 matrix\n",
    "    loss = numpy.mean(vec2) # scalar\n",
    "    reg = lam / 2 * numpy.sum(w * w) # scalar\n",
    "    return loss + reg\n",
    "    "
   ]
  },
  {
   "cell_type": "code",
   "execution_count": 6,
   "metadata": {},
   "outputs": [
    {
     "name": "stdout",
     "output_type": "stream",
     "text": [
      "Initial objective function value = 0.6931471805599453\n"
     ]
    }
   ],
   "source": [
    "# initialize w\n",
    "d = x_train.shape[1]\n",
    "w = numpy.zeros((d, 1))\n",
    "\n",
    "# evaluate the objective function value at w\n",
    "lam = 1E-6\n",
    "objval0 = objective(w, x_train, y_train, lam)\n",
    "print('Initial objective function value = ' + str(objval0))"
   ]
  },
  {
   "cell_type": "markdown",
   "metadata": {},
   "source": [
    "# 3. Numerical optimization"
   ]
  },
  {
   "cell_type": "markdown",
   "metadata": {},
   "source": [
    "## 3.1. Gradient descent\n"
   ]
  },
  {
   "cell_type": "markdown",
   "metadata": {},
   "source": [
    "The gradient at $w$ is $g = - \\frac{1}{n} \\sum_{i=1}^n \\frac{y_i x_i }{1 + \\exp ( y_i x_i^T w)} + \\lambda w$"
   ]
  },
  {
   "cell_type": "code",
   "execution_count": 7,
   "metadata": {},
   "outputs": [],
   "source": [
    "# Calculate the gradient\n",
    "# Inputs:\n",
    "#     w: d-by-1 matrix\n",
    "#     x: n-by-d matrix\n",
    "#     y: n-by-1 matrix\n",
    "#     lam: scalar, the regularization parameter\n",
    "# Return:\n",
    "#     g: g: d-by-1 matrix, full gradient\n",
    "def gradient(w, x, y, lam):\n",
    "    n, d = x.shape\n",
    "    yx = numpy.multiply(y, x) # n-by-d matrix\n",
    "    yxw = numpy.dot(yx, w) # n-by-1 matrix\n",
    "    vec1 = numpy.exp(yxw) # n-by-1 matrix\n",
    "    vec2 = numpy.divide(yx, 1+vec1) # n-by-d matrix\n",
    "    vec3 = -numpy.mean(vec2, axis=0).reshape(d, 1) # d-by-1 matrix\n",
    "    g = vec3 + lam * w\n",
    "    return g"
   ]
  },
  {
   "cell_type": "code",
   "execution_count": 8,
   "metadata": {},
   "outputs": [],
   "source": [
    "# Gradient descent for solving logistic regression\n",
    "# Inputs:\n",
    "#     x: n-by-d matrix\n",
    "#     y: n-by-1 matrix\n",
    "#     lam: scalar, the regularization parameter\n",
    "#     stepsize: scalar\n",
    "#     max_iter: integer, the maximal iterations\n",
    "#     w: d-by-1 matrix, initialization of w\n",
    "# Return:\n",
    "#     w: d-by-1 matrix, the solution\n",
    "#     objvals: a record of each iteration's objective value\n",
    "def grad_descent(x, y, lam, stepsize, max_iter=100, w=None):\n",
    "    n, d = x.shape\n",
    "    objvals = numpy.zeros(max_iter) # store the objective values\n",
    "    if w is None:\n",
    "        w = numpy.zeros((d, 1)) # zero initialization\n",
    "    \n",
    "    for t in range(max_iter):\n",
    "        objval = objective(w, x, y, lam)\n",
    "        objvals[t] = objval\n",
    "        print('Objective value at t=' + str(t) + ' is ' + str(objval))\n",
    "        g = gradient(w, x, y, lam)\n",
    "        w -= stepsize * g\n",
    "    \n",
    "    return w, objvals"
   ]
  },
  {
   "cell_type": "markdown",
   "metadata": {},
   "source": [
    "Run gradient descent."
   ]
  },
  {
   "cell_type": "code",
   "execution_count": 34,
   "metadata": {},
   "outputs": [
    {
     "name": "stdout",
     "output_type": "stream",
     "text": [
      "Objective value at t=0 is 0.6931471805599453\n",
      "Objective value at t=1 is 0.5952718469849477\n",
      "Objective value at t=2 is 0.5546421858617253\n",
      "Objective value at t=3 is 0.5326023618073956\n",
      "Objective value at t=4 is 0.5187918109550153\n",
      "Objective value at t=5 is 0.5094161672165941\n",
      "Objective value at t=6 is 0.5027270700226505\n",
      "Objective value at t=7 is 0.4977904699129754\n",
      "Objective value at t=8 is 0.4940557871543751\n",
      "Objective value at t=9 is 0.4911757077203414\n",
      "Objective value at t=10 is 0.48892019995911845\n",
      "Objective value at t=11 is 0.4871312287136751\n",
      "Objective value at t=12 is 0.48569705790753903\n",
      "Objective value at t=13 is 0.4845368170943795\n",
      "Objective value at t=14 is 0.4835908160939777\n",
      "Objective value at t=15 is 0.4828142513002776\n",
      "Objective value at t=16 is 0.4821729979083524\n",
      "Objective value at t=17 is 0.4816407286819068\n",
      "Objective value at t=18 is 0.4811969000265447\n",
      "Objective value at t=19 is 0.4808253185941168\n",
      "Objective value at t=20 is 0.4805131044690396\n",
      "Objective value at t=21 is 0.4802499302074173\n",
      "Objective value at t=22 is 0.4800274548905177\n",
      "Objective value at t=23 is 0.47983889809251273\n",
      "Objective value at t=24 is 0.47967871559751146\n",
      "Objective value at t=25 is 0.47954235003995893\n",
      "Objective value at t=26 is 0.47942603735561695\n",
      "Objective value at t=27 is 0.47932665525360735\n",
      "Objective value at t=28 is 0.4792416036434512\n",
      "Objective value at t=29 is 0.47916870958819613\n",
      "Objective value at t=30 is 0.47910615124446987\n",
      "Objective value at t=31 is 0.4790523966194279\n",
      "Objective value at t=32 is 0.47900615397680857\n",
      "Objective value at t=33 is 0.47896633146520334\n",
      "Objective value at t=34 is 0.4789320040944097\n",
      "Objective value at t=35 is 0.4789023866017533\n",
      "Objective value at t=36 is 0.4788768110659546\n",
      "Objective value at t=37 is 0.47885470836756794\n",
      "Objective value at t=38 is 0.47883559278103144\n",
      "Objective value at t=39 is 0.47881904912769807\n",
      "Objective value at t=40 is 0.4788047220319335\n",
      "Objective value at t=41 is 0.47879230691094676\n",
      "Objective value at t=42 is 0.47878154239904325\n",
      "Objective value at t=43 is 0.47877220396265513\n",
      "Objective value at t=44 is 0.4787640985069849\n",
      "Objective value at t=45 is 0.4787570598108185\n",
      "Objective value at t=46 is 0.47875094465488705\n",
      "Objective value at t=47 is 0.4787456295325166\n",
      "Objective value at t=48 is 0.4787410078503053\n",
      "Objective value at t=49 is 0.4787369875421076\n",
      "Objective value at t=50 is 0.4787334890323296\n",
      "Objective value at t=51 is 0.4787304434950227\n",
      "Objective value at t=52 is 0.4787277913639165\n",
      "Objective value at t=53 is 0.4787254810556898\n",
      "Objective value at t=54 is 0.47872346787473546\n",
      "Objective value at t=55 is 0.47872171307262734\n",
      "Objective value at t=56 is 0.47872018303963904\n",
      "Objective value at t=57 is 0.47871884860912506\n",
      "Objective value at t=58 is 0.4787176844584852\n",
      "Objective value at t=59 is 0.4787166685928756\n",
      "Objective value at t=60 is 0.4787157818998882\n",
      "Objective value at t=61 is 0.4787150077651638\n",
      "Objective value at t=62 is 0.4787143317403636\n",
      "Objective value at t=63 is 0.478713741256187\n",
      "Objective value at t=64 is 0.4787132253741612\n",
      "Objective value at t=65 is 0.47871277457184314\n",
      "Objective value at t=66 is 0.47871238055682785\n",
      "Objective value at t=67 is 0.47871203610561663\n",
      "Objective value at t=68 is 0.4787117349239492\n",
      "Objective value at t=69 is 0.4787114715256837\n",
      "Objective value at t=70 is 0.4787112411277113\n",
      "Objective value at t=71 is 0.4787110395587439\n",
      "Objective value at t=72 is 0.47871086318010897\n",
      "Objective value at t=73 is 0.478710708816944\n",
      "Objective value at t=74 is 0.4787105736984016\n",
      "Objective value at t=75 is 0.4787104554056655\n",
      "Objective value at t=76 is 0.478710351826742\n",
      "Objective value at t=77 is 0.4787102611171305\n",
      "Objective value at t=78 is 0.4787101816655955\n",
      "Objective value at t=79 is 0.47871011206437103\n",
      "Objective value at t=80 is 0.4787100510832145\n",
      "Objective value at t=81 is 0.47870999764680644\n",
      "Objective value at t=82 is 0.4787099508150588\n",
      "Objective value at t=83 is 0.478709909765952\n",
      "Objective value at t=84 is 0.4787098737805743\n",
      "Objective value at t=85 is 0.4787098422300757\n",
      "Objective value at t=86 is 0.4787098145642873\n",
      "Objective value at t=87 is 0.478709790301795\n",
      "Objective value at t=88 is 0.4787097690212763\n",
      "Objective value at t=89 is 0.478709750353938\n",
      "Objective value at t=90 is 0.47870973397691596\n",
      "Objective value at t=91 is 0.4787097196075097\n",
      "Objective value at t=92 is 0.4787097069981489\n",
      "Objective value at t=93 is 0.4787096959319945\n",
      "Objective value at t=94 is 0.4787096862190959\n",
      "Objective value at t=95 is 0.4787096776930326\n",
      "Objective value at t=96 is 0.47870967020797917\n",
      "Objective value at t=97 is 0.4787096636361381\n",
      "Objective value at t=98 is 0.478709657865496\n",
      "Objective value at t=99 is 0.4787096527978611\n"
     ]
    }
   ],
   "source": [
    "lam = 1E-6\n",
    "stepsize = 1.0\n",
    "w, objvals_gd = grad_descent(x_train, y_train, lam, stepsize)"
   ]
  },
  {
   "cell_type": "markdown",
   "metadata": {},
   "source": [
    "## 3.2. Stochastic gradient descent (SGD)\n",
    "\n",
    "Define $Q_i (w) = \\log \\Big( 1 + \\exp \\big( - y_i x_i^T w \\big) \\Big) + \\frac{\\lambda}{2} \\| w \\|_2^2 $.\n",
    "\n",
    "The stochastic gradient at $w$ is $g_i = \\frac{\\partial Q_i }{ \\partial w} = -\\frac{y_i x_i }{1 + \\exp ( y_i x_i^T w)} + \\lambda w$."
   ]
  },
  {
   "cell_type": "code",
   "execution_count": 10,
   "metadata": {},
   "outputs": [],
   "source": [
    "# Calculate the objective Q_i and the gradient of Q_i\n",
    "# Inputs:\n",
    "#     w: d-by-1 matrix\n",
    "#     xi: 1-by-d matrix\n",
    "#     yi: scalar\n",
    "#     lam: scalar, the regularization parameter\n",
    "# Return:\n",
    "#     obj: scalar, the objective Q_i\n",
    "#     g: d-by-1 matrix, gradient of Q_i\n",
    "def stochastic_objective_gradient(w, xi, yi, lam):\n",
    "    d = xi.shape[0]\n",
    "    yx = yi * xi # 1-by-d matrix\n",
    "    yxw = float(numpy.dot(yx, w)) # scalar\n",
    "    \n",
    "    # calculate objective function Q_i\n",
    "    loss = numpy.log(1 + numpy.exp(-yxw)) # scalar\n",
    "    reg = lam / 2 * numpy.sum(w * w) # scalar\n",
    "    obj = loss + reg\n",
    "    \n",
    "    # calculate stochastic gradient\n",
    "    g_loss = -yx.T / (1 + numpy.exp(yxw)) # d-by-1 matrix\n",
    "    g = g_loss + lam * w # d-by-1 matrix\n",
    "    \n",
    "    return obj, g"
   ]
  },
  {
   "cell_type": "code",
   "execution_count": 11,
   "metadata": {},
   "outputs": [],
   "source": [
    "# SGD for solving logistic regression\n",
    "# Inputs:\n",
    "#     x: n-by-d matrix\n",
    "#     y: n-by-1 matrix\n",
    "#     lam: scalar, the regularization parameter\n",
    "#     stepsize: scalar\n",
    "#     max_epoch: integer, the maximal epochs\n",
    "#     w: d-by-1 matrix, initialization of w\n",
    "# Return:\n",
    "#     w: the solution\n",
    "#     objvals: record of each iteration's objective value\n",
    "def sgd(x, y, lam, stepsize, max_epoch=100, w=None):\n",
    "    n, d = x.shape\n",
    "    objvals = numpy.zeros(max_epoch) # store the objective values\n",
    "    if w is None:\n",
    "        w = numpy.zeros((d, 1)) # zero initialization\n",
    "    \n",
    "    for t in range(max_epoch):\n",
    "        # randomly shuffle the samples\n",
    "        rand_indices = numpy.random.permutation(n)\n",
    "        x_rand = x[rand_indices, :]\n",
    "        y_rand = y[rand_indices, :]\n",
    "        \n",
    "        objval = 0 # accumulate the objective values\n",
    "        for i in range(n):\n",
    "            xi = x_rand[i, :] # 1-by-d matrix\n",
    "            yi = float(y_rand[i, :]) # scalar\n",
    "            obj, g = stochastic_objective_gradient(w, xi, yi, lam)\n",
    "            objval += obj\n",
    "            w -= stepsize * g\n",
    "        \n",
    "        stepsize *= 0.9 # decrease step size\n",
    "        objval /= n\n",
    "        objvals[t] = objval\n",
    "        print('Objective value at epoch t=' + str(t) + ' is ' + str(objval))\n",
    "    \n",
    "    return w, objvals"
   ]
  },
  {
   "cell_type": "markdown",
   "metadata": {},
   "source": [
    "Run SGD."
   ]
  },
  {
   "cell_type": "code",
   "execution_count": 35,
   "metadata": {},
   "outputs": [
    {
     "name": "stdout",
     "output_type": "stream",
     "text": [
      "Objective value at epoch t=0 is 0.5379035564228872\n",
      "Objective value at epoch t=1 is 0.5253452236820628\n",
      "Objective value at epoch t=2 is 0.5230535284263912\n",
      "Objective value at epoch t=3 is 0.5160741417612058\n",
      "Objective value at epoch t=4 is 0.519527413329417\n",
      "Objective value at epoch t=5 is 0.5086836264933087\n",
      "Objective value at epoch t=6 is 0.5089259502069197\n",
      "Objective value at epoch t=7 is 0.5029421138640336\n",
      "Objective value at epoch t=8 is 0.5048224208551085\n",
      "Objective value at epoch t=9 is 0.5045158354320879\n",
      "Objective value at epoch t=10 is 0.4958262785760975\n",
      "Objective value at epoch t=11 is 0.49998337717083274\n",
      "Objective value at epoch t=12 is 0.49576815560483684\n",
      "Objective value at epoch t=13 is 0.4953760237033037\n",
      "Objective value at epoch t=14 is 0.493364897521992\n",
      "Objective value at epoch t=15 is 0.4893657106170344\n",
      "Objective value at epoch t=16 is 0.4897196788347916\n",
      "Objective value at epoch t=17 is 0.4888758722566425\n",
      "Objective value at epoch t=18 is 0.4883573545802027\n",
      "Objective value at epoch t=19 is 0.4871227817982791\n",
      "Objective value at epoch t=20 is 0.486501026250282\n",
      "Objective value at epoch t=21 is 0.48615067846374815\n",
      "Objective value at epoch t=22 is 0.48501546730549566\n",
      "Objective value at epoch t=23 is 0.48507601321636395\n",
      "Objective value at epoch t=24 is 0.4840317098726571\n",
      "Objective value at epoch t=25 is 0.4836462874639558\n",
      "Objective value at epoch t=26 is 0.4829446799907277\n",
      "Objective value at epoch t=27 is 0.48278354157775516\n",
      "Objective value at epoch t=28 is 0.48230687426099106\n",
      "Objective value at epoch t=29 is 0.4819943107661732\n",
      "Objective value at epoch t=30 is 0.4818282525049805\n",
      "Objective value at epoch t=31 is 0.4814482852213196\n",
      "Objective value at epoch t=32 is 0.4811282659264774\n",
      "Objective value at epoch t=33 is 0.48087896707135414\n",
      "Objective value at epoch t=34 is 0.4806845740991692\n",
      "Objective value at epoch t=35 is 0.4805670636916465\n",
      "Objective value at epoch t=36 is 0.48029605408853415\n",
      "Objective value at epoch t=37 is 0.4801776075161186\n",
      "Objective value at epoch t=38 is 0.4800480901029981\n",
      "Objective value at epoch t=39 is 0.4799276104963397\n",
      "Objective value at epoch t=40 is 0.47979161326506875\n",
      "Objective value at epoch t=41 is 0.479685141094652\n",
      "Objective value at epoch t=42 is 0.479600610955901\n",
      "Objective value at epoch t=43 is 0.47951331703662553\n",
      "Objective value at epoch t=44 is 0.4794352986858558\n",
      "Objective value at epoch t=45 is 0.4793634820806297\n",
      "Objective value at epoch t=46 is 0.47929593303502094\n",
      "Objective value at epoch t=47 is 0.47923642815264883\n",
      "Objective value at epoch t=48 is 0.4791838625327681\n",
      "Objective value at epoch t=49 is 0.47913507471589734\n",
      "Objective value at epoch t=50 is 0.47909655676531526\n",
      "Objective value at epoch t=51 is 0.4790549183407826\n",
      "Objective value at epoch t=52 is 0.4790224304718308\n",
      "Objective value at epoch t=53 is 0.47898986512391756\n",
      "Objective value at epoch t=54 is 0.47896290614543063\n",
      "Objective value at epoch t=55 is 0.47893870219789314\n",
      "Objective value at epoch t=56 is 0.4789159165453927\n",
      "Objective value at epoch t=57 is 0.478894619056737\n",
      "Objective value at epoch t=58 is 0.4788767246016457\n",
      "Objective value at epoch t=59 is 0.478860444840158\n",
      "Objective value at epoch t=60 is 0.4788453123365005\n",
      "Objective value at epoch t=61 is 0.4788317849766893\n",
      "Objective value at epoch t=62 is 0.47881958519411116\n",
      "Objective value at epoch t=63 is 0.47880874582586275\n",
      "Objective value at epoch t=64 is 0.4787988589431267\n",
      "Objective value at epoch t=65 is 0.47878986174535854\n",
      "Objective value at epoch t=66 is 0.4787818414219389\n",
      "Objective value at epoch t=67 is 0.4787747835520749\n",
      "Objective value at epoch t=68 is 0.47876824199491336\n",
      "Objective value at epoch t=69 is 0.4787624425603922\n",
      "Objective value at epoch t=70 is 0.4787572298189452\n",
      "Objective value at epoch t=71 is 0.4787524860000292\n",
      "Objective value at epoch t=72 is 0.4787482400032451\n",
      "Objective value at epoch t=73 is 0.47874438006009834\n",
      "Objective value at epoch t=74 is 0.47874094011186286\n",
      "Objective value at epoch t=75 is 0.4787378483959627\n",
      "Objective value at epoch t=76 is 0.478735052862765\n",
      "Objective value at epoch t=77 is 0.47873251345373485\n",
      "Objective value at epoch t=78 is 0.4787302757130125\n",
      "Objective value at epoch t=79 is 0.47872823454419955\n",
      "Objective value at epoch t=80 is 0.4787264068448859\n",
      "Objective value at epoch t=81 is 0.47872474931525766\n",
      "Objective value at epoch t=82 is 0.4787232658367796\n",
      "Objective value at epoch t=83 is 0.4787219346955299\n",
      "Objective value at epoch t=84 is 0.4787207309926552\n",
      "Objective value at epoch t=85 is 0.4787196445539329\n",
      "Objective value at epoch t=86 is 0.4787186722599894\n",
      "Objective value at epoch t=87 is 0.47871779646381774\n",
      "Objective value at epoch t=88 is 0.4787170066302463\n",
      "Objective value at epoch t=89 is 0.4787162959370983\n",
      "Objective value at epoch t=90 is 0.47871565695881513\n",
      "Objective value at epoch t=91 is 0.478715080977649\n",
      "Objective value at epoch t=92 is 0.4787145630222224\n",
      "Objective value at epoch t=93 is 0.47871409689977096\n",
      "Objective value at epoch t=94 is 0.47871367721717484\n",
      "Objective value at epoch t=95 is 0.4787132995720663\n",
      "Objective value at epoch t=96 is 0.4787129595319738\n",
      "Objective value at epoch t=97 is 0.4787126537523312\n",
      "Objective value at epoch t=98 is 0.4787123783853137\n",
      "Objective value at epoch t=99 is 0.4787121304327594\n"
     ]
    }
   ],
   "source": [
    "lam = 1E-6\n",
    "stepsize = 0.1\n",
    "w, objvals_sgd = sgd(x_train, y_train, lam, stepsize)"
   ]
  },
  {
   "cell_type": "markdown",
   "metadata": {},
   "source": [
    "# 4. Compare GD with SGD\n",
    "\n",
    "Plot objective function values against epochs."
   ]
  },
  {
   "cell_type": "code",
   "execution_count": 14,
   "metadata": {},
   "outputs": [
    {
     "data": {
      "image/png": "[encoded data removed]",
      "text/plain": [
       "<Figure size 432x288 with 1 Axes>"
      ]
     },
     "metadata": {
      "needs_background": "light"
     },
     "output_type": "display_data"
    }
   ],
   "source": [
    "import matplotlib.pyplot as plt\n",
    "%matplotlib inline\n",
    "\n",
    "fig = plt.figure(figsize=(6, 4))\n",
    "\n",
    "epochs_gd = range(len(objvals_gd))\n",
    "epochs_sgd = range(len(objvals_sgd))\n",
    "\n",
    "line0, = plt.plot(epochs_gd, objvals_gd, '--b', LineWidth=4)\n",
    "line1, = plt.plot(epochs_sgd, objvals_sgd, '-r', LineWidth=2)\n",
    "plt.xlabel('Epochs', FontSize=20)\n",
    "plt.ylabel('Objective Value', FontSize=20)\n",
    "plt.xticks(FontSize=16)\n",
    "plt.yticks(FontSize=16)\n",
    "plt.legend([line0, line1], ['GD', 'SGD'], fontsize=20)\n",
    "plt.tight_layout()\n",
    "plt.show()\n",
    "fig.savefig('compare_gd_sgd.pdf', format='pdf', dpi=1200)"
   ]
  },
  {
   "cell_type": "markdown",
   "metadata": {},
   "source": [
    "# 5. Prediction"
   ]
  },
  {
   "cell_type": "code",
   "execution_count": 15,
   "metadata": {},
   "outputs": [],
   "source": [
    "# Predict class label\n",
    "# Inputs:\n",
    "#     w: d-by-1 matrix\n",
    "#     X: m-by-d matrix\n",
    "# Return:\n",
    "#     f: m-by-1 matrix, the predictions\n",
    "def predict(w, X):\n",
    "    xw = numpy.dot(X, w)\n",
    "    f = numpy.sign(xw)\n",
    "    return f"
   ]
  },
  {
   "cell_type": "code",
   "execution_count": 16,
   "metadata": {},
   "outputs": [
    {
     "name": "stdout",
     "output_type": "stream",
     "text": [
      "Training classification error is 0.2265625\n"
     ]
    }
   ],
   "source": [
    "# evaluate training error\n",
    "f_train = predict(w, x_train)\n",
    "diff = numpy.abs(f_train - y_train) / 2\n",
    "error_train = numpy.mean(diff)\n",
    "print('Training classification error is ' + str(error_train))"
   ]
  },
  {
   "cell_type": "code",
   "execution_count": 17,
   "metadata": {},
   "outputs": [
    {
     "name": "stdout",
     "output_type": "stream",
     "text": [
      "Test classification error is 0.203125\n"
     ]
    }
   ],
   "source": [
    "# evaluate test error\n",
    "f_test = predict(w, x_test)\n",
    "diff = numpy.abs(f_test - y_test) / 2\n",
    "error_test = numpy.mean(diff)\n",
    "print('Test classification error is ' + str(error_test))"
   ]
  },
  {
   "cell_type": "markdown",
   "metadata": {},
   "source": [
    "# 6. Mini-batch SGD (fill the code)\n",
    "\n"
   ]
  },
  {
   "cell_type": "markdown",
   "metadata": {},
   "source": [
    "## 6.1. Compute the objective $Q_I$ and its gradient using a batch of samples\n",
    "\n",
    "Define $Q_I (w) = \\frac{1}{b} \\sum_{i \\in I} \\log \\Big( 1 + \\exp \\big( - y_i x_i^T w \\big) \\Big) + \\frac{\\lambda}{2} \\| w \\|_2^2 $, where $I$ is a set containing $b$ indices randomly drawn from $\\{ 1, \\cdots , n \\}$ without replacement.\n",
    "\n",
    "The stochastic gradient at $w$ is $g_I = \\frac{\\partial Q_I }{ \\partial w} = \\frac{1}{b} \\sum_{i \\in I} \\frac{- y_i x_i }{1 + \\exp ( y_i x_i^T w)} + \\lambda w$."
   ]
  },
  {
   "cell_type": "code",
   "execution_count": 18,
   "metadata": {},
   "outputs": [],
   "source": [
    "# Calculate the objective Q_I and the gradient of Q_I\n",
    "# Inputs:\n",
    "#     w: d-by-1 matrix\n",
    "#     xi: b-by-d matrix\n",
    "#     yi: b-by-1 matrix\n",
    "#     lam: scalar, the regularization parameter\n",
    "#     b: integer, the batch size\n",
    "# Return:\n",
    "#     obj: scalar, the objective Q_i\n",
    "#     g: d-by-1 matrix, gradient of Q_i\n",
    "def mb_stochastic_objective_gradient(w, xi, yi, lam, b):\n",
    "    b, d = xi.shape\n",
    "    yx = numpy.multiply(yi,xi) # b by d matrix\n",
    "    yxw = numpy.dot(yx,w) # b by 1 vector\n",
    "    vec1 = numpy.exp(-1 * yxw) \n",
    "    vec2 = numpy.log(1+vec1) \n",
    "    loss = numpy.mean(vec2)\n",
    "    reg = lam / 2 * numpy.sum(w * w)\n",
    "    obj = loss + reg\n",
    "    \n",
    "    g_vec = -yx / (1 + numpy.exp(yxw))\n",
    "    g = numpy.mean(g_vec,axis=0).reshape(d,1)\n",
    "    g += lam * w\n",
    "    \n",
    "    return obj, g"
   ]
  },
  {
   "cell_type": "markdown",
   "metadata": {},
   "source": [
    "## 6.2. Implement mini-batch SGD\n",
    "\n",
    "Hints:\n",
    "1. In every epoch, randomly permute the $n$ samples (just like SGD).\n",
    "2. Each epoch has $\\frac{n}{b}$ iterations. In every iteration, use $b$ samples, and compute the gradient and objective using the ``mb_stochastic_objective_gradient`` function. In the next iteration, use the next $b$ samples, and so on.\n"
   ]
  },
  {
   "cell_type": "code",
   "execution_count": 28,
   "metadata": {},
   "outputs": [],
   "source": [
    "# Mini-Batch SGD for solving logistic regression\n",
    "# Inputs:\n",
    "#     x: n-by-d matrix\n",
    "#     y: n-by-1 matrix\n",
    "#     lam: scalar, the regularization parameter\n",
    "#     b: integer, the batch size\n",
    "#     stepsize: scalar\n",
    "#     max_epoch: integer, the maximal epochs\n",
    "#     w: d-by-1 matrix, initialization of w\n",
    "# Return:\n",
    "#     w: the solution\n",
    "#     objvals: record of each iteration's objective value\n",
    "def mb_sgd(x, y, lam, b, stepsize, max_epoch=100, w=None):\n",
    "    # Fill the function\n",
    "    # Follow the implementation of sgd\n",
    "    # Record one objective value per epoch (not per iteration!)\n",
    "    n,d = x.shape\n",
    "    objvals = []\n",
    "    \n",
    "    chunks = n // b\n",
    "    # in the case of bad chunk size\n",
    "    if n % b != 0:\n",
    "        chunks += 1\n",
    "    \n",
    "    # intialization to 0\n",
    "    if w == None:\n",
    "        w = numpy.zeros((d,1))\n",
    "    # iterate through max_epochs\n",
    "    for t in range(max_epoch):\n",
    "        # randomly shuffle the training data and labels\n",
    "        epoch_obj = 0\n",
    "        rand_indices = numpy.random.permutation(n)\n",
    "        x_rand = x[rand_indices, :]\n",
    "        y_rand = y[rand_indices, :]\n",
    "        # divide into minibatches and get the gradient and objval\n",
    "        for i in range(chunks):\n",
    "            # start and stop for the batch\n",
    "            start = i * b\n",
    "            end = (i+1) * b\n",
    "            # acquire a minibatch\n",
    "            xi = x_rand[start:end,:]\n",
    "            yi = y_rand[start:end,:]\n",
    "            \n",
    "            obj, gradient = mb_stochastic_objective_gradient(w,xi,yi,lam,b)\n",
    "            \n",
    "            #update obj_val and gradient\n",
    "            epoch_obj += obj\n",
    "            w -= stepsize * gradient\n",
    "        stepsize *= .9\n",
    "        epoch_obj /= chunks\n",
    "        objvals.append(epoch_obj)\n",
    "        print('Objective value at epoch t=' + str(t) + ' is ' + str(epoch_obj))\n",
    "        \n",
    "    return w, objvals"
   ]
  },
  {
   "cell_type": "markdown",
   "metadata": {},
   "source": [
    "## 6.3. Run MB-SGD"
   ]
  },
  {
   "cell_type": "code",
   "execution_count": 46,
   "metadata": {},
   "outputs": [
    {
     "name": "stdout",
     "output_type": "stream",
     "text": [
      "Objective value at epoch t=0 is 0.5243320189211326\n",
      "Objective value at epoch t=1 is 0.5045725093846494\n",
      "Objective value at epoch t=2 is 0.5034218193025439\n",
      "Objective value at epoch t=3 is 0.4967404242753262\n",
      "Objective value at epoch t=4 is 0.4982801460144871\n",
      "Objective value at epoch t=5 is 0.4950394004547973\n",
      "Objective value at epoch t=6 is 0.4954942989459285\n",
      "Objective value at epoch t=7 is 0.49395114412328817\n",
      "Objective value at epoch t=8 is 0.4918962824939275\n",
      "Objective value at epoch t=9 is 0.4903761875581917\n",
      "Objective value at epoch t=10 is 0.4880542129008809\n",
      "Objective value at epoch t=11 is 0.48981006040256964\n",
      "Objective value at epoch t=12 is 0.4880215832339987\n",
      "Objective value at epoch t=13 is 0.4867521298997361\n",
      "Objective value at epoch t=14 is 0.48600913451271827\n",
      "Objective value at epoch t=15 is 0.4862098869708795\n",
      "Objective value at epoch t=16 is 0.48451845183688036\n",
      "Objective value at epoch t=17 is 0.484150693641901\n",
      "Objective value at epoch t=18 is 0.4838399382172741\n",
      "Objective value at epoch t=19 is 0.4828739401825584\n",
      "Objective value at epoch t=20 is 0.4833670663889163\n",
      "Objective value at epoch t=21 is 0.4824437834472387\n",
      "Objective value at epoch t=22 is 0.48204026920554277\n",
      "Objective value at epoch t=23 is 0.48162931573117695\n",
      "Objective value at epoch t=24 is 0.4812865557593864\n",
      "Objective value at epoch t=25 is 0.4812356896811109\n",
      "Objective value at epoch t=26 is 0.48129819379778455\n",
      "Objective value at epoch t=27 is 0.4808373624267824\n",
      "Objective value at epoch t=28 is 0.48069670269535847\n",
      "Objective value at epoch t=29 is 0.48057933988921525\n",
      "Objective value at epoch t=30 is 0.480227431643889\n",
      "Objective value at epoch t=31 is 0.4800562633065687\n",
      "Objective value at epoch t=32 is 0.4800167481497626\n",
      "Objective value at epoch t=33 is 0.4798467707137323\n",
      "Objective value at epoch t=34 is 0.47966055457736656\n",
      "Objective value at epoch t=35 is 0.4796325560020481\n",
      "Objective value at epoch t=36 is 0.4795008785066326\n",
      "Objective value at epoch t=37 is 0.4794948524895891\n",
      "Objective value at epoch t=38 is 0.4793600594751096\n",
      "Objective value at epoch t=39 is 0.4793247746938847\n",
      "Objective value at epoch t=40 is 0.4792978760176491\n",
      "Objective value at epoch t=41 is 0.47923937363505137\n",
      "Objective value at epoch t=42 is 0.4791445724072734\n",
      "Objective value at epoch t=43 is 0.4790893169101659\n",
      "Objective value at epoch t=44 is 0.4790339369562835\n",
      "Objective value at epoch t=45 is 0.4790239179121471\n",
      "Objective value at epoch t=46 is 0.4789819219613901\n",
      "Objective value at epoch t=47 is 0.47897609460430945\n",
      "Objective value at epoch t=48 is 0.4789266671988452\n",
      "Objective value at epoch t=49 is 0.478923881840037\n",
      "Objective value at epoch t=50 is 0.47890292238623094\n",
      "Objective value at epoch t=51 is 0.4788759556970602\n",
      "Objective value at epoch t=52 is 0.478859506199537\n",
      "Objective value at epoch t=53 is 0.4788561492850668\n",
      "Objective value at epoch t=54 is 0.4788324976738485\n",
      "Objective value at epoch t=55 is 0.47882225266584416\n",
      "Objective value at epoch t=56 is 0.47880542024593026\n",
      "Objective value at epoch t=57 is 0.4788034958617933\n",
      "Objective value at epoch t=58 is 0.47878736756943924\n",
      "Objective value at epoch t=59 is 0.4787805631952976\n",
      "Objective value at epoch t=60 is 0.47878013093148547\n",
      "Objective value at epoch t=61 is 0.47876569328686625\n",
      "Objective value at epoch t=62 is 0.47876753579212056\n",
      "Objective value at epoch t=63 is 0.4787605361434961\n",
      "Objective value at epoch t=64 is 0.4787545708384691\n",
      "Objective value at epoch t=65 is 0.4787530033485316\n",
      "Objective value at epoch t=66 is 0.47874416946262766\n",
      "Objective value at epoch t=67 is 0.47874358246489246\n",
      "Objective value at epoch t=68 is 0.47873840980609483\n",
      "Objective value at epoch t=69 is 0.47873633363114837\n",
      "Objective value at epoch t=70 is 0.4787334873757845\n",
      "Objective value at epoch t=71 is 0.4787319993603608\n",
      "Objective value at epoch t=72 is 0.47872810913681346\n",
      "Objective value at epoch t=73 is 0.4787263100992658\n",
      "Objective value at epoch t=74 is 0.4787248073457094\n",
      "Objective value at epoch t=75 is 0.4787231214341852\n",
      "Objective value at epoch t=76 is 0.47872400099303\n",
      "Objective value at epoch t=77 is 0.47872043734992314\n",
      "Objective value at epoch t=78 is 0.4787202029244585\n",
      "Objective value at epoch t=79 is 0.47871821710292817\n",
      "Objective value at epoch t=80 is 0.478718083412489\n",
      "Objective value at epoch t=81 is 0.47871821858714486\n",
      "Objective value at epoch t=82 is 0.4787165067071652\n",
      "Objective value at epoch t=83 is 0.47871554347773165\n",
      "Objective value at epoch t=84 is 0.4787150814518978\n",
      "Objective value at epoch t=85 is 0.4787145140569993\n",
      "Objective value at epoch t=86 is 0.4787139388653796\n",
      "Objective value at epoch t=87 is 0.47871372145958474\n",
      "Objective value at epoch t=88 is 0.4787136889297837\n",
      "Objective value at epoch t=89 is 0.4787126272108548\n",
      "Objective value at epoch t=90 is 0.478712880138219\n",
      "Objective value at epoch t=91 is 0.47871229133008775\n",
      "Objective value at epoch t=92 is 0.47871209045808527\n",
      "Objective value at epoch t=93 is 0.4787119602609919\n",
      "Objective value at epoch t=94 is 0.47871174014762846\n",
      "Objective value at epoch t=95 is 0.47871139893437614\n",
      "Objective value at epoch t=96 is 0.4787112376263294\n",
      "Objective value at epoch t=97 is 0.47871120869889083\n",
      "Objective value at epoch t=98 is 0.478711121239441\n",
      "Objective value at epoch t=99 is 0.4787109336281639\n"
     ]
    }
   ],
   "source": [
    "# MB-SGD with batch size b=8\n",
    "lam = 1E-6 # do not change\n",
    "b = 8 # do not change\n",
    "stepsize = 0.4 # you must tune this parameter\n",
    "\n",
    "w, objvals_mbsgd8 = mb_sgd(x_train, y_train, lam, b, stepsize)"
   ]
  },
  {
   "cell_type": "code",
   "execution_count": 41,
   "metadata": {},
   "outputs": [
    {
     "name": "stdout",
     "output_type": "stream",
     "text": [
      "Objective value at epoch t=0 is 0.5523330873969348\n",
      "Objective value at epoch t=1 is 0.4908958898469806\n",
      "Objective value at epoch t=2 is 0.48773560371876246\n",
      "Objective value at epoch t=3 is 0.4863838456170958\n",
      "Objective value at epoch t=4 is 0.487462852384957\n",
      "Objective value at epoch t=5 is 0.48439298970883804\n",
      "Objective value at epoch t=6 is 0.48376862598411396\n",
      "Objective value at epoch t=7 is 0.48292381129972295\n",
      "Objective value at epoch t=8 is 0.48298995193716204\n",
      "Objective value at epoch t=9 is 0.4814678092815442\n",
      "Objective value at epoch t=10 is 0.48203949747143754\n",
      "Objective value at epoch t=11 is 0.48142321939396265\n",
      "Objective value at epoch t=12 is 0.48210232944437326\n",
      "Objective value at epoch t=13 is 0.48126771585133205\n",
      "Objective value at epoch t=14 is 0.4809166090220092\n",
      "Objective value at epoch t=15 is 0.4808192055610526\n",
      "Objective value at epoch t=16 is 0.4808271159134181\n",
      "Objective value at epoch t=17 is 0.4804317023182184\n",
      "Objective value at epoch t=18 is 0.48012256868866876\n",
      "Objective value at epoch t=19 is 0.4800302199701128\n",
      "Objective value at epoch t=20 is 0.4795280120784682\n",
      "Objective value at epoch t=21 is 0.4799415984898193\n",
      "Objective value at epoch t=22 is 0.4793593918643924\n",
      "Objective value at epoch t=23 is 0.47991924979443823\n",
      "Objective value at epoch t=24 is 0.4795479891545047\n",
      "Objective value at epoch t=25 is 0.47926678306567727\n",
      "Objective value at epoch t=26 is 0.47949704209488064\n",
      "Objective value at epoch t=27 is 0.479310094680988\n",
      "Objective value at epoch t=28 is 0.479279168742529\n",
      "Objective value at epoch t=29 is 0.47924214393380027\n",
      "Objective value at epoch t=30 is 0.4791301050039206\n",
      "Objective value at epoch t=31 is 0.47905788332380544\n",
      "Objective value at epoch t=32 is 0.47897203367974645\n",
      "Objective value at epoch t=33 is 0.4791010551530965\n",
      "Objective value at epoch t=34 is 0.47898178675845393\n",
      "Objective value at epoch t=35 is 0.47892711446103364\n",
      "Objective value at epoch t=36 is 0.47891001845502146\n",
      "Objective value at epoch t=37 is 0.47886760744075074\n",
      "Objective value at epoch t=38 is 0.4789066658022456\n",
      "Objective value at epoch t=39 is 0.4788803181245867\n",
      "Objective value at epoch t=40 is 0.4788336268602749\n",
      "Objective value at epoch t=41 is 0.4788507397555685\n",
      "Objective value at epoch t=42 is 0.47880451388887507\n",
      "Objective value at epoch t=43 is 0.4788401075311303\n",
      "Objective value at epoch t=44 is 0.4788145068651207\n",
      "Objective value at epoch t=45 is 0.47879033432162477\n",
      "Objective value at epoch t=46 is 0.47878324422583185\n",
      "Objective value at epoch t=47 is 0.47878176375790343\n",
      "Objective value at epoch t=48 is 0.47876298088699665\n",
      "Objective value at epoch t=49 is 0.47876861651535335\n",
      "Objective value at epoch t=50 is 0.4787717012533611\n",
      "Objective value at epoch t=51 is 0.47875618399984426\n",
      "Objective value at epoch t=52 is 0.4787482607488567\n",
      "Objective value at epoch t=53 is 0.4787514471680547\n",
      "Objective value at epoch t=54 is 0.47874656492571493\n",
      "Objective value at epoch t=55 is 0.47874672551531106\n",
      "Objective value at epoch t=56 is 0.4787329363447005\n",
      "Objective value at epoch t=57 is 0.47873908312332364\n",
      "Objective value at epoch t=58 is 0.47873031054474496\n",
      "Objective value at epoch t=59 is 0.47872783148577625\n",
      "Objective value at epoch t=60 is 0.4787259558963345\n",
      "Objective value at epoch t=61 is 0.4787279236824459\n",
      "Objective value at epoch t=62 is 0.47872646970685134\n",
      "Objective value at epoch t=63 is 0.47872460284480944\n",
      "Objective value at epoch t=64 is 0.4787233648492107\n",
      "Objective value at epoch t=65 is 0.4787182930459343\n",
      "Objective value at epoch t=66 is 0.4787196618668287\n",
      "Objective value at epoch t=67 is 0.4787189021885019\n",
      "Objective value at epoch t=68 is 0.47871766143358896\n",
      "Objective value at epoch t=69 is 0.4787166251490859\n",
      "Objective value at epoch t=70 is 0.4787158573503638\n",
      "Objective value at epoch t=71 is 0.47871617895917334\n",
      "Objective value at epoch t=72 is 0.47871426990325416\n",
      "Objective value at epoch t=73 is 0.478713876523179\n",
      "Objective value at epoch t=74 is 0.4787148684060667\n",
      "Objective value at epoch t=75 is 0.47871392178593286\n",
      "Objective value at epoch t=76 is 0.47871337804834163\n",
      "Objective value at epoch t=77 is 0.4787133899894155\n",
      "Objective value at epoch t=78 is 0.47871373339237666\n",
      "Objective value at epoch t=79 is 0.4787120299126203\n",
      "Objective value at epoch t=80 is 0.47871204828771263\n",
      "Objective value at epoch t=81 is 0.4787114781349846\n",
      "Objective value at epoch t=82 is 0.47871158631052513\n",
      "Objective value at epoch t=83 is 0.47871127176543754\n",
      "Objective value at epoch t=84 is 0.4787110792524638\n",
      "Objective value at epoch t=85 is 0.47871100947454115\n",
      "Objective value at epoch t=86 is 0.47871098083918584\n",
      "Objective value at epoch t=87 is 0.4787111730885515\n",
      "Objective value at epoch t=88 is 0.4787108494334148\n",
      "Objective value at epoch t=89 is 0.47871086556655185\n",
      "Objective value at epoch t=90 is 0.47871074634940863\n",
      "Objective value at epoch t=91 is 0.4787104034508373\n",
      "Objective value at epoch t=92 is 0.47871039769864343\n",
      "Objective value at epoch t=93 is 0.47871041748430854\n",
      "Objective value at epoch t=94 is 0.4787104276181989\n",
      "Objective value at epoch t=95 is 0.47871032085355913\n",
      "Objective value at epoch t=96 is 0.47871022481736514\n",
      "Objective value at epoch t=97 is 0.47871026508314707\n",
      "Objective value at epoch t=98 is 0.47871014651588856\n",
      "Objective value at epoch t=99 is 0.47871020430962546\n"
     ]
    }
   ],
   "source": [
    "# MB-SGD with batch size b=64\n",
    "lam = 1E-6 # do not change\n",
    "b = 64 # do not change\n",
    "stepsize = 1.0 # you must tune this parameter\n",
    "\n",
    "w, objvals_mbsgd64 = mb_sgd(x_train, y_train, lam, b, stepsize)"
   ]
  },
  {
   "cell_type": "markdown",
   "metadata": {},
   "source": [
    "# 7. Plot and compare GD, SGD, and MB-SGD"
   ]
  },
  {
   "cell_type": "markdown",
   "metadata": {},
   "source": [
    "You are required to compare the following algorithms:\n",
    "\n",
    "- Gradient descent (GD)\n",
    "\n",
    "- SGD\n",
    "\n",
    "- MB-SGD with b=8\n",
    "\n",
    "- MB-SGD with b=64\n",
    "\n",
    "Follow the code in Section 4 to plot ```objective function value``` against ```epochs```. There should be four curves in the plot; each curve corresponds to one algorithm."
   ]
  },
  {
   "cell_type": "markdown",
   "metadata": {},
   "source": [
    "Hint: Logistic regression with $\\ell_2$-norm regularization is a strongly convex optimization problem. All the algorithms will converge to the same solution. **In the end, the ``objective function value`` of the 4 algorithms will be the same. If not the same, your implementation must be wrong. Do NOT submit wrong code and wrong result!**"
   ]
  },
  {
   "cell_type": "code",
   "execution_count": null,
   "metadata": {},
   "outputs": [],
   "source": [
    "# plot the 4 curves:"
   ]
  },
  {
   "cell_type": "markdown",
   "metadata": {},
   "source": []
  }
 ],
 "metadata": {
  "kernelspec": {
   "display_name": "Python 3",
   "language": "python",
   "name": "python3"
  },
  "language_info": {
   "codemirror_mode": {
    "name": "ipython",
    "version": 3
   },
   "file_extension": ".py",
   "mimetype": "text/x-python",
   "name": "python",
   "nbconvert_exporter": "python",
   "pygments_lexer": "ipython3",
   "version": "3.7.4"
  }
 },
 "nbformat": 4,
 "nbformat_minor": 2
}
