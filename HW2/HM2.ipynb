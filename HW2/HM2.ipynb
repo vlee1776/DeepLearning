{
 "cells": [
  {
   "cell_type": "markdown",
   "metadata": {},
   "source": [
    "# HM2: Numerical Optimization for Logistic Regression.\n",
    "\n",
    "### Name: Vincent Lee\n"
   ]
  },
  {
   "cell_type": "markdown",
   "metadata": {},
   "source": [
    "## 0. You will do the following:\n",
    "\n",
    "1. Read the lecture note: [click here](https://github.com/wangshusen/DeepLearning/blob/master/LectureNotes/Logistic/paper/logistic.pdf)\n",
    "\n",
    "2. Read, complete, and run my code.\n",
    "\n",
    "3. **Implement mini-batch SGD** and evaluate the performance.\n",
    "\n",
    "4. Convert the .IPYNB file to .HTML file.\n",
    "\n",
    "    * The HTML file must contain **the code** and **the output after execution**.\n",
    "    \n",
    "    * Missing **the output after execution** will not be graded.\n",
    "    \n",
    "5. Upload this .HTML file to your Google Drive, Dropbox, or your Github repo.  (If you submit the file to Google Drive or Dropbox, you must make the file \"open-access\". The delay caused by \"deny of access\" may result in late penalty.)\n",
    "\n",
    "6. Submit the link to this .HTML file to Canvas.\n",
    "\n",
    "    * Example: https://github.com/wangshusen/CS583-2020S/blob/master/homework/HM2/HM2.html\n",
    "\n",
    "\n",
    "## Grading criteria:\n",
    "\n",
    "1. When computing the ```gradient``` and ```objective function value``` using a batch of samples, use **matrix-vector multiplication** rather than a FOR LOOP of **vector-vector multiplications**.\n",
    "\n",
    "2. Plot ```objective function value``` against ```epochs```. In the plot, compare GD, SGD, and MB-SGD (with $b=8$ and $b=64$). The plot must look reasonable."
   ]
  },
  {
   "cell_type": "code",
   "execution_count": null,
   "metadata": {},
   "outputs": [],
   "source": []
  },
  {
   "cell_type": "markdown",
   "metadata": {},
   "source": [
    "# 1. Data processing\n",
    "\n",
    "- Download the Diabete dataset from https://www.csie.ntu.edu.tw/~cjlin/libsvmtools/datasets/binary/diabetes\n",
    "- Load the data using sklearn.\n",
    "- Preprocess the data."
   ]
  },
  {
   "cell_type": "markdown",
   "metadata": {},
   "source": [
    "## 1.1. Load the data"
   ]
  },
  {
   "cell_type": "code",
   "execution_count": 1,
   "metadata": {},
   "outputs": [
    {
     "name": "stdout",
     "output_type": "stream",
     "text": [
      "Shape of x: (768, 8)\n",
      "Shape of y: (768,)\n"
     ]
    }
   ],
   "source": [
    "from sklearn import datasets\n",
    "import numpy\n",
    "\n",
    "x_sparse, y = datasets.load_svmlight_file('diabetes')\n",
    "x = x_sparse.todense()\n",
    "\n",
    "print('Shape of x: ' + str(x.shape))\n",
    "print('Shape of y: ' + str(y.shape))"
   ]
  },
  {
   "cell_type": "markdown",
   "metadata": {},
   "source": [
    "## 1.2. Partition to training and test sets"
   ]
  },
  {
   "cell_type": "code",
   "execution_count": 2,
   "metadata": {},
   "outputs": [
    {
     "name": "stdout",
     "output_type": "stream",
     "text": [
      "Shape of x_train: (640, 8)\n",
      "Shape of x_test: (128, 8)\n",
      "Shape of y_train: (640, 1)\n",
      "Shape of y_test: (128, 1)\n"
     ]
    }
   ],
   "source": [
    "# partition the data to training and test sets\n",
    "n = x.shape[0]\n",
    "n_train = 640\n",
    "n_test = n - n_train\n",
    "\n",
    "rand_indices = numpy.random.permutation(n)\n",
    "train_indices = rand_indices[0:n_train]\n",
    "test_indices = rand_indices[n_train:n]\n",
    "\n",
    "x_train = x[train_indices, :]\n",
    "x_test = x[test_indices, :]\n",
    "y_train = y[train_indices].reshape(n_train, 1)\n",
    "y_test = y[test_indices].reshape(n_test, 1)\n",
    "\n",
    "print('Shape of x_train: ' + str(x_train.shape))\n",
    "print('Shape of x_test: ' + str(x_test.shape))\n",
    "print('Shape of y_train: ' + str(y_train.shape))\n",
    "print('Shape of y_test: ' + str(y_test.shape))"
   ]
  },
  {
   "cell_type": "markdown",
   "metadata": {},
   "source": [
    "## 1.3. Feature scaling"
   ]
  },
  {
   "cell_type": "markdown",
   "metadata": {},
   "source": [
    "Use the standardization to trainsform both training and test features"
   ]
  },
  {
   "cell_type": "code",
   "execution_count": 3,
   "metadata": {},
   "outputs": [
    {
     "name": "stdout",
     "output_type": "stream",
     "text": [
      "test mean = \n",
      "[[-0.14924127 -0.21567996 -0.07532215 -0.06293993 -0.05009473 -0.11096226\n",
      "  -0.06916175 -0.13838417]]\n",
      "test std = \n",
      "[[0.92617003 0.87377647 1.03256174 1.0184789  0.86799405 0.86090272\n",
      "  0.83699911 0.90800578]]\n"
     ]
    }
   ],
   "source": [
    "# Standardization\n",
    "import numpy\n",
    "\n",
    "# calculate mu and sig using the training set\n",
    "d = x_train.shape[1]\n",
    "mu = numpy.mean(x_train, axis=0).reshape(1, d)\n",
    "sig = numpy.std(x_train, axis=0).reshape(1, d)\n",
    "\n",
    "# transform the training features\n",
    "x_train = (x_train - mu) / (sig + 1E-6)\n",
    "\n",
    "# transform the test features\n",
    "x_test = (x_test - mu) / (sig + 1E-6)\n",
    "\n",
    "print('test mean = ')\n",
    "print(numpy.mean(x_test, axis=0))\n",
    "\n",
    "print('test std = ')\n",
    "print(numpy.std(x_test, axis=0))"
   ]
  },
  {
   "cell_type": "markdown",
   "metadata": {},
   "source": [
    "## 1.4. Add a dimension of all ones"
   ]
  },
  {
   "cell_type": "code",
   "execution_count": 4,
   "metadata": {},
   "outputs": [
    {
     "name": "stdout",
     "output_type": "stream",
     "text": [
      "Shape of x_train: (640, 9)\n",
      "Shape of x_test: (128, 9)\n"
     ]
    }
   ],
   "source": [
    "n_train, d = x_train.shape\n",
    "x_train = numpy.concatenate((x_train, numpy.ones((n_train, 1))), axis=1)\n",
    "\n",
    "n_test, d = x_test.shape\n",
    "x_test = numpy.concatenate((x_test, numpy.ones((n_test, 1))), axis=1)\n",
    "\n",
    "print('Shape of x_train: ' + str(x_train.shape))\n",
    "print('Shape of x_test: ' + str(x_test.shape))"
   ]
  },
  {
   "cell_type": "markdown",
   "metadata": {},
   "source": [
    "# 2. Logistic regression model\n",
    "\n",
    "The objective function is $Q (w; X, y) = \\frac{1}{n} \\sum_{i=1}^n \\log \\Big( 1 + \\exp \\big( - y_i x_i^T w \\big) \\Big) + \\frac{\\lambda}{2} \\| w \\|_2^2 $."
   ]
  },
  {
   "cell_type": "code",
   "execution_count": 5,
   "metadata": {},
   "outputs": [],
   "source": [
    "# Calculate the objective function value\n",
    "# Inputs:\n",
    "#     w: d-by-1 matrix\n",
    "#     x: n-by-d matrix\n",
    "#     y: n-by-1 matrix\n",
    "#     lam: scalar, the regularization parameter\n",
    "# Return:\n",
    "#     objective function value (scalar)\n",
    "def objective(w, x, y, lam):\n",
    "    n, d = x.shape\n",
    "    yx = numpy.multiply(y, x) # n-by-d matrix\n",
    "    yxw = numpy.dot(yx, w) # n-by-1 matrix\n",
    "    vec1 = numpy.exp(-yxw) # n-by-1 matrix\n",
    "    vec2 = numpy.log(1 + vec1) # n-by-1 matrix\n",
    "    loss = numpy.mean(vec2) # scalar\n",
    "    reg = lam / 2 * numpy.sum(w * w) # scalar\n",
    "    return loss + reg\n",
    "    "
   ]
  },
  {
   "cell_type": "code",
   "execution_count": 6,
   "metadata": {},
   "outputs": [
    {
     "name": "stdout",
     "output_type": "stream",
     "text": [
      "Initial objective function value = 0.6931471805599453\n"
     ]
    }
   ],
   "source": [
    "# initialize w\n",
    "d = x_train.shape[1]\n",
    "w = numpy.zeros((d, 1))\n",
    "\n",
    "# evaluate the objective function value at w\n",
    "lam = 1E-6\n",
    "objval0 = objective(w, x_train, y_train, lam)\n",
    "print('Initial objective function value = ' + str(objval0))"
   ]
  },
  {
   "cell_type": "markdown",
   "metadata": {},
   "source": [
    "# 3. Numerical optimization"
   ]
  },
  {
   "cell_type": "markdown",
   "metadata": {},
   "source": [
    "## 3.1. Gradient descent\n"
   ]
  },
  {
   "cell_type": "markdown",
   "metadata": {},
   "source": [
    "The gradient at $w$ is $g = - \\frac{1}{n} \\sum_{i=1}^n \\frac{y_i x_i }{1 + \\exp ( y_i x_i^T w)} + \\lambda w$"
   ]
  },
  {
   "cell_type": "code",
   "execution_count": 7,
   "metadata": {},
   "outputs": [],
   "source": [
    "# Calculate the gradient\n",
    "# Inputs:\n",
    "#     w: d-by-1 matrix\n",
    "#     x: n-by-d matrix\n",
    "#     y: n-by-1 matrix\n",
    "#     lam: scalar, the regularization parameter\n",
    "# Return:\n",
    "#     g: g: d-by-1 matrix, full gradient\n",
    "def gradient(w, x, y, lam):\n",
    "    n, d = x.shape\n",
    "    yx = numpy.multiply(y, x) # n-by-d matrix\n",
    "    yxw = numpy.dot(yx, w) # n-by-1 matrix\n",
    "    vec1 = numpy.exp(yxw) # n-by-1 matrix\n",
    "    vec2 = numpy.divide(yx, 1+vec1) # n-by-d matrix\n",
    "    vec3 = -numpy.mean(vec2, axis=0).reshape(d, 1) # d-by-1 matrix\n",
    "    g = vec3 + lam * w\n",
    "    return g"
   ]
  },
  {
   "cell_type": "code",
   "execution_count": 8,
   "metadata": {},
   "outputs": [],
   "source": [
    "# Gradient descent for solving logistic regression\n",
    "# Inputs:\n",
    "#     x: n-by-d matrix\n",
    "#     y: n-by-1 matrix\n",
    "#     lam: scalar, the regularization parameter\n",
    "#     stepsize: scalar\n",
    "#     max_iter: integer, the maximal iterations\n",
    "#     w: d-by-1 matrix, initialization of w\n",
    "# Return:\n",
    "#     w: d-by-1 matrix, the solution\n",
    "#     objvals: a record of each iteration's objective value\n",
    "def grad_descent(x, y, lam, stepsize, max_iter=100, w=None):\n",
    "    n, d = x.shape\n",
    "    objvals = numpy.zeros(max_iter) # store the objective values\n",
    "    if w is None:\n",
    "        w = numpy.zeros((d, 1)) # zero initialization\n",
    "    \n",
    "    for t in range(max_iter):\n",
    "        objval = objective(w, x, y, lam)\n",
    "        objvals[t] = objval\n",
    "        print('Objective value at t=' + str(t) + ' is ' + str(objval))\n",
    "        g = gradient(w, x, y, lam)\n",
    "        w -= stepsize * g\n",
    "    \n",
    "    return w, objvals"
   ]
  },
  {
   "cell_type": "markdown",
   "metadata": {},
   "source": [
    "Run gradient descent."
   ]
  },
  {
   "cell_type": "code",
   "execution_count": 9,
   "metadata": {},
   "outputs": [
    {
     "name": "stdout",
     "output_type": "stream",
     "text": [
      "Objective value at t=0 is 0.6931471805599453\n",
      "Objective value at t=1 is 0.5856282360734223\n",
      "Objective value at t=2 is 0.5442893095514285\n",
      "Objective value at t=3 is 0.5224762553336538\n",
      "Objective value at t=4 is 0.5089680836168259\n",
      "Objective value at t=5 is 0.49984411640376736\n",
      "Objective value at t=6 is 0.4933456098801908\n",
      "Objective value at t=7 is 0.488549691597148\n",
      "Objective value at t=8 is 0.4849187198119005\n",
      "Objective value at t=9 is 0.48211586133750467\n",
      "Objective value at t=10 is 0.4799187481489129\n",
      "Objective value at t=11 is 0.47817473018867646\n",
      "Objective value at t=12 is 0.47677580132527747\n",
      "Objective value at t=13 is 0.4756436716202353\n",
      "Objective value at t=14 is 0.47472044839515226\n",
      "Objective value at t=15 is 0.47396259526785983\n",
      "Objective value at t=16 is 0.4733368947275355\n",
      "Objective value at t=17 is 0.4728176806578403\n",
      "Objective value at t=18 is 0.4723849002835961\n",
      "Objective value at t=19 is 0.4720227315907128\n",
      "Objective value at t=20 is 0.47171858081378926\n",
      "Objective value at t=21 is 0.4714623448751681\n",
      "Objective value at t=22 is 0.4712458616044132\n",
      "Objective value at t=23 is 0.47106249503401026\n",
      "Objective value at t=24 is 0.4709068191768805\n",
      "Objective value at t=25 is 0.47077437449544773\n",
      "Objective value at t=26 is 0.4706614786377132\n",
      "Objective value at t=27 is 0.47056507811235604\n",
      "Objective value at t=28 is 0.47048263114947225\n",
      "Objective value at t=29 is 0.47041201453221776\n",
      "Objective value at t=30 is 0.47035144900864384\n",
      "Objective value at t=31 is 0.4702994392178614\n",
      "Objective value at t=32 is 0.47025472503681087\n",
      "Objective value at t=33 is 0.47021624197410583\n",
      "Objective value at t=34 is 0.4701830887758022\n",
      "Objective value at t=35 is 0.47015450081385435\n",
      "Objective value at t=36 is 0.470129828136532\n",
      "Objective value at t=37 is 0.47010851729634046\n",
      "Objective value at t=38 is 0.4700900962532434\n",
      "Objective value at t=39 is 0.47007416179252437\n",
      "Objective value at t=40 is 0.47006036900726766\n",
      "Objective value at t=41 is 0.4700484224824381\n",
      "Objective value at t=42 is 0.47003806888636135\n",
      "Objective value at t=43 is 0.47002909073012367\n",
      "Objective value at t=44 is 0.47002130109916496\n",
      "Objective value at t=45 is 0.4700145391964665\n",
      "Objective value at t=46 is 0.47000866656509166\n",
      "Objective value at t=47 is 0.47000356388081227\n",
      "Objective value at t=48 is 0.46999912822425405\n",
      "Objective value at t=49 is 0.4699952707572624\n",
      "Objective value at t=50 is 0.46999191474071744\n",
      "Objective value at t=51 is 0.4699889938413243\n",
      "Objective value at t=52 is 0.46998645068341205\n",
      "Objective value at t=53 is 0.46998423560880925\n",
      "Objective value at t=54 is 0.46998230561371174\n",
      "Objective value at t=55 is 0.4699806234363257\n",
      "Objective value at t=56 is 0.46997915677312724\n",
      "Objective value at t=57 is 0.46997787760498194\n",
      "Objective value at t=58 is 0.46997676161721674\n",
      "Objective value at t=59 is 0.46997578770013115\n",
      "Objective value at t=60 is 0.4699749375184569\n",
      "Objective value at t=61 is 0.46997419513997213\n",
      "Objective value at t=62 is 0.4699735467149178\n",
      "Objective value at t=63 is 0.4699729801990863\n",
      "Objective value at t=64 is 0.4699724851144786\n",
      "Objective value at t=65 is 0.4699720523423123\n",
      "Objective value at t=66 is 0.4699716739439024\n",
      "Objective value at t=67 is 0.46997134300558085\n",
      "Objective value at t=68 is 0.4699710535043564\n",
      "Objective value at t=69 is 0.4699708001914838\n",
      "Objective value at t=70 is 0.4699705784915079\n",
      "Objective value at t=71 is 0.46997038441468425\n",
      "Objective value at t=72 is 0.4699702144809725\n",
      "Objective value at t=73 is 0.4699700656540439\n",
      "Objective value at t=74 is 0.4699699352839615\n",
      "Objective value at t=75 is 0.4699698210573728\n",
      "Objective value at t=76 is 0.4699697209542155\n",
      "Objective value at t=77 is 0.46996963321006946\n",
      "Objective value at t=78 is 0.46996955628340725\n",
      "Objective value at t=79 is 0.46996948882709644\n",
      "Objective value at t=80 is 0.4699694296635948\n",
      "Objective value at t=81 is 0.4699693777633488\n",
      "Objective value at t=82 is 0.46996933222598164\n",
      "Objective value at t=83 is 0.4699692922638994\n",
      "Objective value at t=84 is 0.46996925718800625\n",
      "Objective value at t=85 is 0.4699692263952485\n",
      "Objective value at t=86 is 0.46996919935775333\n",
      "Objective value at t=87 is 0.4699691756133557\n",
      "Objective value at t=88 is 0.46996915475733075\n",
      "Objective value at t=89 is 0.46996913643518046\n",
      "Objective value at t=90 is 0.4699691203363346\n",
      "Objective value at t=91 is 0.46996910618865134\n",
      "Objective value at t=92 is 0.46996909375361423\n",
      "Objective value at t=93 is 0.4699690828221352\n",
      "Objective value at t=94 is 0.46996907321088743\n",
      "Objective value at t=95 is 0.4699690647591003\n",
      "Objective value at t=96 is 0.4699690573257569\n",
      "Objective value at t=97 is 0.4699690507871432\n",
      "Objective value at t=98 is 0.4699690450347054\n",
      "Objective value at t=99 is 0.46996903997317374\n"
     ]
    }
   ],
   "source": [
    "lam = 1E-6\n",
    "stepsize = 1.0\n",
    "w, objvals_gd = grad_descent(x_train, y_train, lam, stepsize)"
   ]
  },
  {
   "cell_type": "markdown",
   "metadata": {},
   "source": [
    "## 3.2. Stochastic gradient descent (SGD)\n",
    "\n",
    "Define $Q_i (w) = \\log \\Big( 1 + \\exp \\big( - y_i x_i^T w \\big) \\Big) + \\frac{\\lambda}{2} \\| w \\|_2^2 $.\n",
    "\n",
    "The stochastic gradient at $w$ is $g_i = \\frac{\\partial Q_i }{ \\partial w} = -\\frac{y_i x_i }{1 + \\exp ( y_i x_i^T w)} + \\lambda w$."
   ]
  },
  {
   "cell_type": "code",
   "execution_count": 10,
   "metadata": {},
   "outputs": [],
   "source": [
    "# Calculate the objective Q_i and the gradient of Q_i\n",
    "# Inputs:\n",
    "#     w: d-by-1 matrix\n",
    "#     xi: 1-by-d matrix\n",
    "#     yi: scalar\n",
    "#     lam: scalar, the regularization parameter\n",
    "# Return:\n",
    "#     obj: scalar, the objective Q_i\n",
    "#     g: d-by-1 matrix, gradient of Q_i\n",
    "def stochastic_objective_gradient(w, xi, yi, lam):\n",
    "    d = xi.shape[0]\n",
    "    yx = yi * xi # 1-by-d matrix\n",
    "    yxw = float(numpy.dot(yx, w)) # scalar\n",
    "    \n",
    "    # calculate objective function Q_i\n",
    "    loss = numpy.log(1 + numpy.exp(-yxw)) # scalar\n",
    "    reg = lam / 2 * numpy.sum(w * w) # scalar\n",
    "    obj = loss + reg\n",
    "    \n",
    "    # calculate stochastic gradient\n",
    "    g_loss = -yx.T / (1 + numpy.exp(yxw)) # d-by-1 matrix\n",
    "    g = g_loss + lam * w # d-by-1 matrix\n",
    "    \n",
    "    return obj, g"
   ]
  },
  {
   "cell_type": "code",
   "execution_count": 11,
   "metadata": {},
   "outputs": [],
   "source": [
    "# SGD for solving logistic regression\n",
    "# Inputs:\n",
    "#     x: n-by-d matrix\n",
    "#     y: n-by-1 matrix\n",
    "#     lam: scalar, the regularization parameter\n",
    "#     stepsize: scalar\n",
    "#     max_epoch: integer, the maximal epochs\n",
    "#     w: d-by-1 matrix, initialization of w\n",
    "# Return:\n",
    "#     w: the solution\n",
    "#     objvals: record of each iteration's objective value\n",
    "def sgd(x, y, lam, stepsize, max_epoch=100, w=None):\n",
    "    n, d = x.shape\n",
    "    objvals = numpy.zeros(max_epoch) # store the objective values\n",
    "    if w is None:\n",
    "        w = numpy.zeros((d, 1)) # zero initialization\n",
    "    \n",
    "    for t in range(max_epoch):\n",
    "        # randomly shuffle the samples\n",
    "        rand_indices = numpy.random.permutation(n)\n",
    "        x_rand = x[rand_indices, :]\n",
    "        y_rand = y[rand_indices, :]\n",
    "        \n",
    "        objval = 0 # accumulate the objective values\n",
    "        for i in range(n):\n",
    "            xi = x_rand[i, :] # 1-by-d matrix\n",
    "            yi = float(y_rand[i, :]) # scalar\n",
    "            obj, g = stochastic_objective_gradient(w, xi, yi, lam)\n",
    "            objval += obj\n",
    "            w -= stepsize * g\n",
    "        \n",
    "        stepsize *= 0.9 # decrease step size\n",
    "        objval /= n\n",
    "        objvals[t] = objval\n",
    "        print('Objective value at epoch t=' + str(t) + ' is ' + str(objval))\n",
    "    \n",
    "    return w, objvals"
   ]
  },
  {
   "cell_type": "markdown",
   "metadata": {},
   "source": [
    "Run SGD."
   ]
  },
  {
   "cell_type": "code",
   "execution_count": 12,
   "metadata": {},
   "outputs": [
    {
     "name": "stdout",
     "output_type": "stream",
     "text": [
      "Objective value at epoch t=0 is 0.5331251552667939\n",
      "Objective value at epoch t=1 is 0.5048582105397041\n",
      "Objective value at epoch t=2 is 0.5105918606136732\n",
      "Objective value at epoch t=3 is 0.5124140270915183\n",
      "Objective value at epoch t=4 is 0.49923430037894523\n",
      "Objective value at epoch t=5 is 0.5052140577238096\n",
      "Objective value at epoch t=6 is 0.4978936703676883\n",
      "Objective value at epoch t=7 is 0.4979077776891841\n",
      "Objective value at epoch t=8 is 0.495226118623299\n",
      "Objective value at epoch t=9 is 0.485632910496898\n",
      "Objective value at epoch t=10 is 0.48825093620180093\n",
      "Objective value at epoch t=11 is 0.4803456204294988\n",
      "Objective value at epoch t=12 is 0.4872066663243667\n",
      "Objective value at epoch t=13 is 0.48585672116983947\n",
      "Objective value at epoch t=14 is 0.47467287204475533\n",
      "Objective value at epoch t=15 is 0.48598695321187674\n",
      "Objective value at epoch t=16 is 0.4819579020199736\n",
      "Objective value at epoch t=17 is 0.4795675355534839\n",
      "Objective value at epoch t=18 is 0.4765586134703096\n",
      "Objective value at epoch t=19 is 0.4799159914377499\n",
      "Objective value at epoch t=20 is 0.47707651709271187\n",
      "Objective value at epoch t=21 is 0.47597248799191216\n",
      "Objective value at epoch t=22 is 0.4766437969581916\n",
      "Objective value at epoch t=23 is 0.4763441593103262\n",
      "Objective value at epoch t=24 is 0.47463379102388814\n",
      "Objective value at epoch t=25 is 0.4749843835267827\n",
      "Objective value at epoch t=26 is 0.4744292205913176\n",
      "Objective value at epoch t=27 is 0.47354660938181103\n",
      "Objective value at epoch t=28 is 0.47384314558637125\n",
      "Objective value at epoch t=29 is 0.47332311258668397\n",
      "Objective value at epoch t=30 is 0.47282154598710735\n",
      "Objective value at epoch t=31 is 0.4725765275766044\n",
      "Objective value at epoch t=32 is 0.4723811312177326\n",
      "Objective value at epoch t=33 is 0.47201968135944583\n",
      "Objective value at epoch t=34 is 0.47195506293162454\n",
      "Objective value at epoch t=35 is 0.4717544552378959\n",
      "Objective value at epoch t=36 is 0.4715930427870217\n",
      "Objective value at epoch t=37 is 0.4714255111551956\n",
      "Objective value at epoch t=38 is 0.471310291445117\n",
      "Objective value at epoch t=39 is 0.47117596787730054\n",
      "Objective value at epoch t=40 is 0.47102998943832103\n",
      "Objective value at epoch t=41 is 0.4709478525881151\n",
      "Objective value at epoch t=42 is 0.4708385926759073\n",
      "Objective value at epoch t=43 is 0.4707676404181861\n",
      "Objective value at epoch t=44 is 0.4706887949396553\n",
      "Objective value at epoch t=45 is 0.4706159367984468\n",
      "Objective value at epoch t=46 is 0.47055209641797263\n",
      "Objective value at epoch t=47 is 0.4704942720964239\n",
      "Objective value at epoch t=48 is 0.47043950039991794\n",
      "Objective value at epoch t=49 is 0.47039718437851274\n",
      "Objective value at epoch t=50 is 0.4703537123537062\n",
      "Objective value at epoch t=51 is 0.470316042125743\n",
      "Objective value at epoch t=52 is 0.470279613240565\n",
      "Objective value at epoch t=53 is 0.47025013789310854\n",
      "Objective value at epoch t=54 is 0.4702207795872522\n",
      "Objective value at epoch t=55 is 0.4701957621827221\n",
      "Objective value at epoch t=56 is 0.47017305756562544\n",
      "Objective value at epoch t=57 is 0.4701536104816902\n",
      "Objective value at epoch t=58 is 0.47013535718768856\n",
      "Objective value at epoch t=59 is 0.47011877267380237\n",
      "Objective value at epoch t=60 is 0.47010406086555967\n",
      "Objective value at epoch t=61 is 0.4700905655891775\n",
      "Objective value at epoch t=62 is 0.47007850815111973\n",
      "Objective value at epoch t=63 is 0.4700675633942869\n",
      "Objective value at epoch t=64 is 0.47005791043462536\n",
      "Objective value at epoch t=65 is 0.470049083708326\n",
      "Objective value at epoch t=66 is 0.4700409433360605\n",
      "Objective value at epoch t=67 is 0.4700339040351406\n",
      "Objective value at epoch t=68 is 0.4700275254171922\n",
      "Objective value at epoch t=69 is 0.4700217478280481\n",
      "Objective value at epoch t=70 is 0.47001651638807695\n",
      "Objective value at epoch t=71 is 0.47001183422025267\n",
      "Objective value at epoch t=72 is 0.47000762029125054\n",
      "Objective value at epoch t=73 is 0.4700037896286329\n",
      "Objective value at epoch t=74 is 0.4700003903322122\n",
      "Objective value at epoch t=75 is 0.4699973155208731\n",
      "Objective value at epoch t=76 is 0.4699945479742258\n",
      "Objective value at epoch t=77 is 0.46999205217493706\n",
      "Objective value at epoch t=78 is 0.4699898049694773\n",
      "Objective value at epoch t=79 is 0.46998778031301824\n",
      "Objective value at epoch t=80 is 0.46998596331609\n",
      "Objective value at epoch t=81 is 0.46998431401678353\n",
      "Objective value at epoch t=82 is 0.4699828508649289\n",
      "Objective value at epoch t=83 is 0.4699815280410268\n",
      "Objective value at epoch t=84 is 0.4699803319927778\n",
      "Objective value at epoch t=85 is 0.46997925988016903\n",
      "Objective value at epoch t=86 is 0.4699782915250769\n",
      "Objective value at epoch t=87 is 0.46997742234899054\n",
      "Objective value at epoch t=88 is 0.4699766385947471\n",
      "Objective value at epoch t=89 is 0.4699759342227585\n",
      "Objective value at epoch t=90 is 0.4699753000200915\n",
      "Objective value at epoch t=91 is 0.4699747283953724\n",
      "Objective value at epoch t=92 is 0.4699742150118058\n",
      "Objective value at epoch t=93 is 0.469973751716373\n",
      "Objective value at epoch t=94 is 0.46997333599816543\n",
      "Objective value at epoch t=95 is 0.4699729613009785\n",
      "Objective value at epoch t=96 is 0.469972624160821\n",
      "Objective value at epoch t=97 is 0.4699723207026715\n",
      "Objective value at epoch t=98 is 0.4699720475366854\n",
      "Objective value at epoch t=99 is 0.46997180168156366\n"
     ]
    }
   ],
   "source": [
    "lam = 1E-6\n",
    "stepsize = 0.1\n",
    "w, objvals_sgd = sgd(x_train, y_train, lam, stepsize)"
   ]
  },
  {
   "cell_type": "markdown",
   "metadata": {},
   "source": [
    "# 4. Compare GD with SGD\n",
    "\n",
    "Plot objective function values against epochs."
   ]
  },
  {
   "cell_type": "code",
   "execution_count": 13,
   "metadata": {},
   "outputs": [
    {
     "data": {
      "image/png": "[encoded data removed]",
      "text/plain": [
       "<Figure size 432x288 with 1 Axes>"
      ]
     },
     "metadata": {
      "needs_background": "light"
     },
     "output_type": "display_data"
    }
   ],
   "source": [
    "import matplotlib.pyplot as plt\n",
    "%matplotlib inline\n",
    "\n",
    "fig = plt.figure(figsize=(6, 4))\n",
    "\n",
    "epochs_gd = range(len(objvals_gd))\n",
    "epochs_sgd = range(len(objvals_sgd))\n",
    "\n",
    "line0, = plt.plot(epochs_gd, objvals_gd, '--b', LineWidth=4)\n",
    "line1, = plt.plot(epochs_sgd, objvals_sgd, '-r', LineWidth=2)\n",
    "plt.xlabel('Epochs', FontSize=20)\n",
    "plt.ylabel('Objective Value', FontSize=20)\n",
    "plt.xticks(FontSize=16)\n",
    "plt.yticks(FontSize=16)\n",
    "plt.legend([line0, line1], ['GD', 'SGD'], fontsize=20)\n",
    "plt.tight_layout()\n",
    "plt.show()\n",
    "fig.savefig('compare_gd_sgd.pdf', format='pdf', dpi=1200)"
   ]
  },
  {
   "cell_type": "markdown",
   "metadata": {},
   "source": [
    "# 5. Prediction"
   ]
  },
  {
   "cell_type": "code",
   "execution_count": 14,
   "metadata": {},
   "outputs": [],
   "source": [
    "# Predict class label\n",
    "# Inputs:\n",
    "#     w: d-by-1 matrix\n",
    "#     X: m-by-d matrix\n",
    "# Return:\n",
    "#     f: m-by-1 matrix, the predictions\n",
    "def predict(w, X):\n",
    "    xw = numpy.dot(X, w)\n",
    "    f = numpy.sign(xw)\n",
    "    return f"
   ]
  },
  {
   "cell_type": "code",
   "execution_count": 15,
   "metadata": {},
   "outputs": [
    {
     "name": "stdout",
     "output_type": "stream",
     "text": [
      "Training classification error is 0.2171875\n"
     ]
    }
   ],
   "source": [
    "# evaluate training error\n",
    "f_train = predict(w, x_train)\n",
    "diff = numpy.abs(f_train - y_train) / 2\n",
    "error_train = numpy.mean(diff)\n",
    "print('Training classification error is ' + str(error_train))"
   ]
  },
  {
   "cell_type": "code",
   "execution_count": 16,
   "metadata": {},
   "outputs": [
    {
     "name": "stdout",
     "output_type": "stream",
     "text": [
      "Test classification error is 0.2421875\n"
     ]
    }
   ],
   "source": [
    "# evaluate test error\n",
    "f_test = predict(w, x_test)\n",
    "diff = numpy.abs(f_test - y_test) / 2\n",
    "error_test = numpy.mean(diff)\n",
    "print('Test classification error is ' + str(error_test))"
   ]
  },
  {
   "cell_type": "markdown",
   "metadata": {},
   "source": [
    "# 6. Mini-batch SGD (fill the code)\n",
    "\n"
   ]
  },
  {
   "cell_type": "markdown",
   "metadata": {},
   "source": [
    "## 6.1. Compute the objective $Q_I$ and its gradient using a batch of samples\n",
    "\n",
    "Define $Q_I (w) = \\frac{1}{b} \\sum_{i \\in I} \\log \\Big( 1 + \\exp \\big( - y_i x_i^T w \\big) \\Big) + \\frac{\\lambda}{2} \\| w \\|_2^2 $, where $I$ is a set containing $b$ indices randomly drawn from $\\{ 1, \\cdots , n \\}$ without replacement.\n",
    "\n",
    "The stochastic gradient at $w$ is $g_I = \\frac{\\partial Q_I }{ \\partial w} = \\frac{1}{b} \\sum_{i \\in I} \\frac{- y_i x_i }{1 + \\exp ( y_i x_i^T w)} + \\lambda w$."
   ]
  },
  {
   "cell_type": "code",
   "execution_count": 17,
   "metadata": {},
   "outputs": [],
   "source": [
    "# Calculate the objective Q_I and the gradient of Q_I\n",
    "# Inputs:\n",
    "#     w: d-by-1 matrix\n",
    "#     xi: b-by-d matrix\n",
    "#     yi: b-by-1 matrix\n",
    "#     lam: scalar, the regularization parameter\n",
    "#     b: integer, the batch size\n",
    "# Return:\n",
    "#     obj: scalar, the objective Q_i\n",
    "#     g: d-by-1 matrix, gradient of Q_i\n",
    "def mb_stochastic_objective_gradient(w, xi, yi, lam, b):\n",
    "    b, d = xi.shape\n",
    "    yx = numpy.multiply(yi,xi) # b by d matrix\n",
    "    yxw = numpy.dot(yx,w) # b by 1 vector\n",
    "    vec1 = numpy.exp(-1 * yxw) \n",
    "    vec2 = numpy.log(1+vec1) \n",
    "    loss = numpy.mean(vec2)\n",
    "    reg = lam / 2 * numpy.sum(w * w)\n",
    "    obj = loss + reg\n",
    "    \n",
    "    g_vec = -yx / (1 + numpy.exp(yxw))\n",
    "    g = numpy.mean(g_vec,axis=0).reshape(d,1)\n",
    "    g += lam * w\n",
    "    \n",
    "    return obj, g"
   ]
  },
  {
   "cell_type": "markdown",
   "metadata": {},
   "source": [
    "## 6.2. Implement mini-batch SGD\n",
    "\n",
    "Hints:\n",
    "1. In every epoch, randomly permute the $n$ samples (just like SGD).\n",
    "2. Each epoch has $\\frac{n}{b}$ iterations. In every iteration, use $b$ samples, and compute the gradient and objective using the ``mb_stochastic_objective_gradient`` function. In the next iteration, use the next $b$ samples, and so on.\n"
   ]
  },
  {
   "cell_type": "code",
   "execution_count": 18,
   "metadata": {},
   "outputs": [],
   "source": [
    "# Mini-Batch SGD for solving logistic regression\n",
    "# Inputs:\n",
    "#     x: n-by-d matrix\n",
    "#     y: n-by-1 matrix\n",
    "#     lam: scalar, the regularization parameter\n",
    "#     b: integer, the batch size\n",
    "#     stepsize: scalar\n",
    "#     max_epoch: integer, the maximal epochs\n",
    "#     w: d-by-1 matrix, initialization of w\n",
    "# Return:\n",
    "#     w: the solution\n",
    "#     objvals: record of each iteration's objective value\n",
    "def mb_sgd(x, y, lam, b, stepsize, max_epoch=100, w=None):\n",
    "    # Fill the function\n",
    "    # Follow the implementation of sgd\n",
    "    # Record one objective value per epoch (not per iteration!)\n",
    "    n,d = x.shape\n",
    "    objvals = []\n",
    "    \n",
    "    # remove extra if chunks cannot be full\n",
    "    chunks = n // b\n",
    "    \n",
    "    # intialization to 0\n",
    "    if w == None:\n",
    "        w = numpy.zeros((d,1))\n",
    "    # iterate through max_epochs\n",
    "    for t in range(max_epoch):\n",
    "        # randomly shuffle the training data and labels\n",
    "        epoch_obj = 0\n",
    "        rand_indices = numpy.random.permutation(n)\n",
    "        x_rand = x[rand_indices, :]\n",
    "        y_rand = y[rand_indices, :]\n",
    "        # divide into minibatches and get the gradient and objval\n",
    "        for i in range(chunks):\n",
    "            # start and stop for the batch\n",
    "            start = i * b\n",
    "            end = (i+1) * b\n",
    "            # acquire a minibatch\n",
    "            xi = x_rand[start:end,:]\n",
    "            yi = y_rand[start:end,:]\n",
    "            \n",
    "            obj, gradient = mb_stochastic_objective_gradient(w,xi,yi,lam,b)\n",
    "            \n",
    "            #update obj_val and gradient\n",
    "            epoch_obj += obj\n",
    "            w -= stepsize * gradient\n",
    "        # decrease stepsize\n",
    "        stepsize *= .9\n",
    "        \n",
    "        # objval for each epoch\n",
    "        epoch_obj /= chunks\n",
    "        objvals.append(epoch_obj)\n",
    "        print('Objective value at epoch t=' + str(t) + ' is ' + str(epoch_obj))\n",
    "        \n",
    "    return w, objvals"
   ]
  },
  {
   "cell_type": "markdown",
   "metadata": {},
   "source": [
    "## 6.3. Run MB-SGD"
   ]
  },
  {
   "cell_type": "code",
   "execution_count": 19,
   "metadata": {},
   "outputs": [
    {
     "name": "stdout",
     "output_type": "stream",
     "text": [
      "Objective value at epoch t=0 is 0.5159343495872093\n",
      "Objective value at epoch t=1 is 0.4933714158553393\n",
      "Objective value at epoch t=2 is 0.496173546044208\n",
      "Objective value at epoch t=3 is 0.4895542491495547\n",
      "Objective value at epoch t=4 is 0.49185483487674125\n",
      "Objective value at epoch t=5 is 0.487911135161898\n",
      "Objective value at epoch t=6 is 0.48757867504162683\n",
      "Objective value at epoch t=7 is 0.48365549730808255\n",
      "Objective value at epoch t=8 is 0.484242690160902\n",
      "Objective value at epoch t=9 is 0.48372176527598054\n",
      "Objective value at epoch t=10 is 0.480892310937027\n",
      "Objective value at epoch t=11 is 0.4790185542875462\n",
      "Objective value at epoch t=12 is 0.4804182972990988\n",
      "Objective value at epoch t=13 is 0.47856888496823674\n",
      "Objective value at epoch t=14 is 0.4764043758603164\n",
      "Objective value at epoch t=15 is 0.4761498308945747\n",
      "Objective value at epoch t=16 is 0.47591769501320397\n",
      "Objective value at epoch t=17 is 0.47570420894656984\n",
      "Objective value at epoch t=18 is 0.4744887776337192\n",
      "Objective value at epoch t=19 is 0.4751766449911168\n",
      "Objective value at epoch t=20 is 0.47430071490690784\n",
      "Objective value at epoch t=21 is 0.474100646075592\n",
      "Objective value at epoch t=22 is 0.47334241760833856\n",
      "Objective value at epoch t=23 is 0.47302560485998\n",
      "Objective value at epoch t=24 is 0.4728313217146704\n",
      "Objective value at epoch t=25 is 0.4724524185835909\n",
      "Objective value at epoch t=26 is 0.47213587606987595\n",
      "Objective value at epoch t=27 is 0.4719596303808239\n",
      "Objective value at epoch t=28 is 0.4718481416109957\n",
      "Objective value at epoch t=29 is 0.4716341266407939\n",
      "Objective value at epoch t=30 is 0.47165061213179504\n",
      "Objective value at epoch t=31 is 0.4713764400175385\n",
      "Objective value at epoch t=32 is 0.4712502796894086\n",
      "Objective value at epoch t=33 is 0.4711275901597064\n",
      "Objective value at epoch t=34 is 0.47095031961760137\n",
      "Objective value at epoch t=35 is 0.4708633539408913\n",
      "Objective value at epoch t=36 is 0.47079155151287483\n",
      "Objective value at epoch t=37 is 0.47064616146677984\n",
      "Objective value at epoch t=38 is 0.4706270977059074\n",
      "Objective value at epoch t=39 is 0.4705334535887148\n",
      "Objective value at epoch t=40 is 0.4705594341688807\n",
      "Objective value at epoch t=41 is 0.4705089522535492\n",
      "Objective value at epoch t=42 is 0.4703859100622981\n",
      "Objective value at epoch t=43 is 0.4703833016819897\n",
      "Objective value at epoch t=44 is 0.47036125796382694\n",
      "Objective value at epoch t=45 is 0.4702596223294601\n",
      "Objective value at epoch t=46 is 0.47025687483297435\n",
      "Objective value at epoch t=47 is 0.47022201019305276\n",
      "Objective value at epoch t=48 is 0.4701905946182441\n",
      "Objective value at epoch t=49 is 0.4701928404129164\n",
      "Objective value at epoch t=50 is 0.4701606558666791\n",
      "Objective value at epoch t=51 is 0.4701515951363512\n",
      "Objective value at epoch t=52 is 0.47011813187754664\n",
      "Objective value at epoch t=53 is 0.47011170999282204\n",
      "Objective value at epoch t=54 is 0.4700908108523493\n",
      "Objective value at epoch t=55 is 0.4700897663087978\n",
      "Objective value at epoch t=56 is 0.47007523837753035\n",
      "Objective value at epoch t=57 is 0.4700711944168555\n",
      "Objective value at epoch t=58 is 0.47005203141558194\n",
      "Objective value at epoch t=59 is 0.4700461275487223\n",
      "Objective value at epoch t=60 is 0.47004156877773573\n",
      "Objective value at epoch t=61 is 0.4700315229254565\n",
      "Objective value at epoch t=62 is 0.4700264273494765\n",
      "Objective value at epoch t=63 is 0.47002044534155074\n",
      "Objective value at epoch t=64 is 0.47000830098406243\n",
      "Objective value at epoch t=65 is 0.4700104775062953\n",
      "Objective value at epoch t=66 is 0.47000251173201324\n",
      "Objective value at epoch t=67 is 0.4700014348981796\n",
      "Objective value at epoch t=68 is 0.46999892837129903\n",
      "Objective value at epoch t=69 is 0.4699933423206569\n",
      "Objective value at epoch t=70 is 0.4699935038967209\n",
      "Objective value at epoch t=71 is 0.4699890234760139\n",
      "Objective value at epoch t=72 is 0.4699878693658306\n",
      "Objective value at epoch t=73 is 0.46998700483070194\n",
      "Objective value at epoch t=74 is 0.46998481469427844\n",
      "Objective value at epoch t=75 is 0.4699833033775341\n",
      "Objective value at epoch t=76 is 0.469981415560937\n",
      "Objective value at epoch t=77 is 0.46998110035744184\n",
      "Objective value at epoch t=78 is 0.46997911750263555\n",
      "Objective value at epoch t=79 is 0.4699783458154025\n",
      "Objective value at epoch t=80 is 0.4699771193461844\n",
      "Objective value at epoch t=81 is 0.469976079584986\n",
      "Objective value at epoch t=82 is 0.46997572920731817\n",
      "Objective value at epoch t=83 is 0.4699749571163111\n",
      "Objective value at epoch t=84 is 0.46997434848480635\n",
      "Objective value at epoch t=85 is 0.4699736405104099\n",
      "Objective value at epoch t=86 is 0.4699733917626607\n",
      "Objective value at epoch t=87 is 0.46997315928538386\n",
      "Objective value at epoch t=88 is 0.46997242088041824\n",
      "Objective value at epoch t=89 is 0.4699721094910082\n",
      "Objective value at epoch t=90 is 0.46997193536076\n",
      "Objective value at epoch t=91 is 0.46997206260626995\n",
      "Objective value at epoch t=92 is 0.46997158899121355\n",
      "Objective value at epoch t=93 is 0.469971224423948\n",
      "Objective value at epoch t=94 is 0.46997105406995876\n",
      "Objective value at epoch t=95 is 0.46997090569982386\n",
      "Objective value at epoch t=96 is 0.46997081666532\n",
      "Objective value at epoch t=97 is 0.4699705226982004\n",
      "Objective value at epoch t=98 is 0.46997046202716575\n",
      "Objective value at epoch t=99 is 0.4699703165769552\n"
     ]
    }
   ],
   "source": [
    "# MB-SGD with batch size b=8\n",
    "lam = 1E-6 # do not change\n",
    "b = 8 # do not change\n",
    "stepsize = 0.4 # you must tune this parameter\n",
    "\n",
    "w, objvals_mbsgd8 = mb_sgd(x_train, y_train, lam, b, stepsize)"
   ]
  },
  {
   "cell_type": "code",
   "execution_count": 20,
   "metadata": {},
   "outputs": [
    {
     "name": "stdout",
     "output_type": "stream",
     "text": [
      "Objective value at epoch t=0 is 0.5444218736044114\n",
      "Objective value at epoch t=1 is 0.48266973896175813\n",
      "Objective value at epoch t=2 is 0.47810094339405007\n",
      "Objective value at epoch t=3 is 0.4794494094733907\n",
      "Objective value at epoch t=4 is 0.47800280783320953\n",
      "Objective value at epoch t=5 is 0.4757176542621676\n",
      "Objective value at epoch t=6 is 0.474219037341031\n",
      "Objective value at epoch t=7 is 0.4754654184128212\n",
      "Objective value at epoch t=8 is 0.47399028488632633\n",
      "Objective value at epoch t=9 is 0.47401918168126683\n",
      "Objective value at epoch t=10 is 0.47429447175345346\n",
      "Objective value at epoch t=11 is 0.47266430613681265\n",
      "Objective value at epoch t=12 is 0.4734985308827415\n",
      "Objective value at epoch t=13 is 0.47283752125890166\n",
      "Objective value at epoch t=14 is 0.47163634662431553\n",
      "Objective value at epoch t=15 is 0.4723973817807523\n",
      "Objective value at epoch t=16 is 0.47203982025675606\n",
      "Objective value at epoch t=17 is 0.4717007437611665\n",
      "Objective value at epoch t=18 is 0.47175651199965934\n",
      "Objective value at epoch t=19 is 0.4713489607504351\n",
      "Objective value at epoch t=20 is 0.4714202335413794\n",
      "Objective value at epoch t=21 is 0.47117605783139516\n",
      "Objective value at epoch t=22 is 0.47085501943615304\n",
      "Objective value at epoch t=23 is 0.47088007842335633\n",
      "Objective value at epoch t=24 is 0.47076271394369246\n",
      "Objective value at epoch t=25 is 0.470552576505077\n",
      "Objective value at epoch t=26 is 0.4705824924242464\n",
      "Objective value at epoch t=27 is 0.4705793442501046\n",
      "Objective value at epoch t=28 is 0.4706153331375457\n",
      "Objective value at epoch t=29 is 0.47051854290946915\n",
      "Objective value at epoch t=30 is 0.4703787285290576\n",
      "Objective value at epoch t=31 is 0.4703598413291921\n",
      "Objective value at epoch t=32 is 0.4702658160251751\n",
      "Objective value at epoch t=33 is 0.47033630092485534\n",
      "Objective value at epoch t=34 is 0.4702626623756996\n",
      "Objective value at epoch t=35 is 0.47025707821272855\n",
      "Objective value at epoch t=36 is 0.47018816060850044\n",
      "Objective value at epoch t=37 is 0.47015804745009004\n",
      "Objective value at epoch t=38 is 0.47017067539979596\n",
      "Objective value at epoch t=39 is 0.47020076371110503\n",
      "Objective value at epoch t=40 is 0.47010750631655196\n",
      "Objective value at epoch t=41 is 0.47013196650003153\n",
      "Objective value at epoch t=42 is 0.4700909055865859\n",
      "Objective value at epoch t=43 is 0.470063893250454\n",
      "Objective value at epoch t=44 is 0.4700969702145351\n",
      "Objective value at epoch t=45 is 0.4700685536844653\n",
      "Objective value at epoch t=46 is 0.47004790266337065\n",
      "Objective value at epoch t=47 is 0.4700701825610283\n",
      "Objective value at epoch t=48 is 0.4700304441698326\n",
      "Objective value at epoch t=49 is 0.47002748589950016\n",
      "Objective value at epoch t=50 is 0.470017942114604\n",
      "Objective value at epoch t=51 is 0.47000848183475596\n",
      "Objective value at epoch t=52 is 0.4700096099465826\n",
      "Objective value at epoch t=53 is 0.47000261763924145\n",
      "Objective value at epoch t=54 is 0.4700064514367247\n",
      "Objective value at epoch t=55 is 0.4700014845755417\n",
      "Objective value at epoch t=56 is 0.4700005619530284\n",
      "Objective value at epoch t=57 is 0.46999010574477185\n",
      "Objective value at epoch t=58 is 0.4700006933143556\n",
      "Objective value at epoch t=59 is 0.4699937045875943\n",
      "Objective value at epoch t=60 is 0.46998858637222796\n",
      "Objective value at epoch t=61 is 0.46998304264823804\n",
      "Objective value at epoch t=62 is 0.469985286237382\n",
      "Objective value at epoch t=63 is 0.46998104199378987\n",
      "Objective value at epoch t=64 is 0.4699820850683626\n",
      "Objective value at epoch t=65 is 0.469980606345347\n",
      "Objective value at epoch t=66 is 0.46997904659417705\n",
      "Objective value at epoch t=67 is 0.46997696956458873\n",
      "Objective value at epoch t=68 is 0.46997560591885035\n",
      "Objective value at epoch t=69 is 0.46997630402157353\n",
      "Objective value at epoch t=70 is 0.46997538643291803\n",
      "Objective value at epoch t=71 is 0.4699743703045877\n",
      "Objective value at epoch t=72 is 0.4699745975377341\n",
      "Objective value at epoch t=73 is 0.4699742058862989\n",
      "Objective value at epoch t=74 is 0.4699752761277812\n",
      "Objective value at epoch t=75 is 0.4699744328392946\n",
      "Objective value at epoch t=76 is 0.4699730244412095\n",
      "Objective value at epoch t=77 is 0.4699739205776513\n",
      "Objective value at epoch t=78 is 0.46997209652629685\n",
      "Objective value at epoch t=79 is 0.46997247550052423\n",
      "Objective value at epoch t=80 is 0.4699715058466136\n",
      "Objective value at epoch t=81 is 0.4699714409448581\n",
      "Objective value at epoch t=82 is 0.4699713856330332\n",
      "Objective value at epoch t=83 is 0.469971256282199\n",
      "Objective value at epoch t=84 is 0.4699710967137853\n",
      "Objective value at epoch t=85 is 0.4699710242690204\n",
      "Objective value at epoch t=86 is 0.46997047161242145\n",
      "Objective value at epoch t=87 is 0.46997042593745836\n",
      "Objective value at epoch t=88 is 0.46997058722307783\n",
      "Objective value at epoch t=89 is 0.4699704067550156\n",
      "Objective value at epoch t=90 is 0.4699703903885563\n",
      "Objective value at epoch t=91 is 0.4699702077061563\n",
      "Objective value at epoch t=92 is 0.46997026119057256\n",
      "Objective value at epoch t=93 is 0.46997016804336045\n",
      "Objective value at epoch t=94 is 0.4699701112457381\n",
      "Objective value at epoch t=95 is 0.46997002004997457\n",
      "Objective value at epoch t=96 is 0.4699699191318305\n",
      "Objective value at epoch t=97 is 0.46996994607297155\n",
      "Objective value at epoch t=98 is 0.4699698071931174\n",
      "Objective value at epoch t=99 is 0.46996989128240596\n"
     ]
    }
   ],
   "source": [
    "# MB-SGD with batch size b=64\n",
    "lam = 1E-6 # do not change\n",
    "b = 64 # do not change\n",
    "# there should be a theoretical value for step size\n",
    "# however reducing it by .9 in this case seems to work\n",
    "# similar to the decrease in SGD which also has a theoritical best step size\n",
    "stepsize = 1.0 # you must tune this parameter\n",
    "\n",
    "w, objvals_mbsgd64 = mb_sgd(x_train, y_train, lam, b, stepsize)"
   ]
  },
  {
   "cell_type": "markdown",
   "metadata": {},
   "source": [
    "# 7. Plot and compare GD, SGD, and MB-SGD"
   ]
  },
  {
   "cell_type": "markdown",
   "metadata": {},
   "source": [
    "You are required to compare the following algorithms:\n",
    "\n",
    "- Gradient descent (GD)\n",
    "\n",
    "- SGD\n",
    "\n",
    "- MB-SGD with b=8\n",
    "\n",
    "- MB-SGD with b=64\n",
    "\n",
    "Follow the code in Section 4 to plot ```objective function value``` against ```epochs```. There should be four curves in the plot; each curve corresponds to one algorithm."
   ]
  },
  {
   "cell_type": "markdown",
   "metadata": {},
   "source": [
    "Hint: Logistic regression with $\\ell_2$-norm regularization is a strongly convex optimization problem. All the algorithms will converge to the same solution. **In the end, the ``objective function value`` of the 4 algorithms will be the same. If not the same, your implementation must be wrong. Do NOT submit wrong code and wrong result!**"
   ]
  },
  {
   "cell_type": "code",
   "execution_count": 21,
   "metadata": {},
   "outputs": [
    {
     "data": {
      "image/png": "[encoded data removed]",
      "text/plain": [
       "<Figure size 432x288 with 1 Axes>"
      ]
     },
     "metadata": {
      "needs_background": "light"
     },
     "output_type": "display_data"
    }
   ],
   "source": [
    "# plot the 4 curves:\n",
    "import matplotlib.pyplot as plt\n",
    "%matplotlib inline\n",
    "\n",
    "fig = plt.figure(figsize=(6, 4))\n",
    "\n",
    "epochs_gd = range(len(objvals_gd))\n",
    "epochs_sgd = range(len(objvals_sgd))\n",
    "epochs_mb_8 = range(len(objvals_mbsgd8))\n",
    "epochs_mb_64 = range(len(objvals_mbsgd64))\n",
    "\n",
    "line0, = plt.plot(epochs_gd, objvals_gd, '--b', LineWidth=4)\n",
    "line1, = plt.plot(epochs_sgd, objvals_sgd, '-r', LineWidth=1)\n",
    "line2, = plt.plot(epochs_mb_8, objvals_mbsgd8, '-g', LineWidth=2)\n",
    "line3, = plt.plot(epochs_mb_64, objvals_mbsgd64, '-m', LineWidth=2)\n",
    "\n",
    "plt.xlabel('Epochs', FontSize=20)\n",
    "plt.ylabel('Objective Value', FontSize=20)\n",
    "plt.xticks(FontSize=16)\n",
    "plt.yticks(FontSize=16)\n",
    "plt.legend([line0, line1,line2,line3], ['GD', 'SGD','MB_8','MB_64'], fontsize=20)\n",
    "plt.tight_layout()\n",
    "plt.show()\n",
    "fig.savefig('compare_gd_sgd_mb8_mb64.pdf', format='pdf', dpi=1200)"
   ]
  },
  {
   "cell_type": "markdown",
   "metadata": {},
   "source": []
  }
 ],
 "metadata": {
  "kernelspec": {
   "display_name": "Python 3",
   "language": "python",
   "name": "python3"
  },
  "language_info": {
   "codemirror_mode": {
    "name": "ipython",
    "version": 3
   },
   "file_extension": ".py",
   "mimetype": "text/x-python",
   "name": "python",
   "nbconvert_exporter": "python",
   "pygments_lexer": "ipython3",
   "version": "3.7.5"
  }
 },
 "nbformat": 4,
 "nbformat_minor": 2
}
