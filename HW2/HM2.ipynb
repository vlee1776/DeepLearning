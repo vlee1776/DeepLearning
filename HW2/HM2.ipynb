{
 "cells": [
  {
   "cell_type": "markdown",
   "metadata": {},
   "source": [
    "# HM2: Numerical Optimization for Logistic Regression.\n",
    "\n",
    "### Name: Vincent Lee\n"
   ]
  },
  {
   "cell_type": "markdown",
   "metadata": {},
   "source": [
    "## 0. You will do the following:\n",
    "\n",
    "1. Read the lecture note: [click here](https://github.com/wangshusen/DeepLearning/blob/master/LectureNotes/Logistic/paper/logistic.pdf)\n",
    "\n",
    "2. Read, complete, and run my code.\n",
    "\n",
    "3. **Implement mini-batch SGD** and evaluate the performance.\n",
    "\n",
    "4. Convert the .IPYNB file to .HTML file.\n",
    "\n",
    "    * The HTML file must contain **the code** and **the output after execution**.\n",
    "    \n",
    "    * Missing **the output after execution** will not be graded.\n",
    "    \n",
    "5. Upload this .HTML file to your Google Drive, Dropbox, or your Github repo.  (If you submit the file to Google Drive or Dropbox, you must make the file \"open-access\". The delay caused by \"deny of access\" may result in late penalty.)\n",
    "\n",
    "6. Submit the link to this .HTML file to Canvas.\n",
    "\n",
    "    * Example: https://github.com/wangshusen/CS583-2020S/blob/master/homework/HM2/HM2.html\n",
    "\n",
    "\n",
    "## Grading criteria:\n",
    "\n",
    "1. When computing the ```gradient``` and ```objective function value``` using a batch of samples, use **matrix-vector multiplication** rather than a FOR LOOP of **vector-vector multiplications**.\n",
    "\n",
    "2. Plot ```objective function value``` against ```epochs```. In the plot, compare GD, SGD, and MB-SGD (with $b=8$ and $b=64$). The plot must look reasonable."
   ]
  },
  {
   "cell_type": "code",
   "execution_count": null,
   "metadata": {},
   "outputs": [],
   "source": []
  },
  {
   "cell_type": "markdown",
   "metadata": {},
   "source": [
    "# 1. Data processing\n",
    "\n",
    "- Download the Diabete dataset from https://www.csie.ntu.edu.tw/~cjlin/libsvmtools/datasets/binary/diabetes\n",
    "- Load the data using sklearn.\n",
    "- Preprocess the data."
   ]
  },
  {
   "cell_type": "markdown",
   "metadata": {},
   "source": [
    "## 1.1. Load the data"
   ]
  },
  {
   "cell_type": "code",
   "execution_count": 7,
   "metadata": {},
   "outputs": [
    {
     "name": "stdout",
     "output_type": "stream",
     "text": [
      "Shape of x: (768, 8)\n",
      "Shape of y: (768,)\n"
     ]
    }
   ],
   "source": [
    "from sklearn import datasets\n",
    "import numpy\n",
    "\n",
    "x_sparse, y = datasets.load_svmlight_file('diabetes')\n",
    "x = x_sparse.todense()\n",
    "\n",
    "print('Shape of x: ' + str(x.shape))\n",
    "print('Shape of y: ' + str(y.shape))"
   ]
  },
  {
   "cell_type": "markdown",
   "metadata": {},
   "source": [
    "## 1.2. Partition to training and test sets"
   ]
  },
  {
   "cell_type": "code",
   "execution_count": 8,
   "metadata": {},
   "outputs": [
    {
     "name": "stdout",
     "output_type": "stream",
     "text": [
      "Shape of x_train: (640, 8)\n",
      "Shape of x_test: (128, 8)\n",
      "Shape of y_train: (640, 1)\n",
      "Shape of y_test: (128, 1)\n"
     ]
    }
   ],
   "source": [
    "# partition the data to training and test sets\n",
    "n = x.shape[0]\n",
    "n_train = 640\n",
    "n_test = n - n_train\n",
    "\n",
    "rand_indices = numpy.random.permutation(n)\n",
    "train_indices = rand_indices[0:n_train]\n",
    "test_indices = rand_indices[n_train:n]\n",
    "\n",
    "x_train = x[train_indices, :]\n",
    "x_test = x[test_indices, :]\n",
    "y_train = y[train_indices].reshape(n_train, 1)\n",
    "y_test = y[test_indices].reshape(n_test, 1)\n",
    "\n",
    "print('Shape of x_train: ' + str(x_train.shape))\n",
    "print('Shape of x_test: ' + str(x_test.shape))\n",
    "print('Shape of y_train: ' + str(y_train.shape))\n",
    "print('Shape of y_test: ' + str(y_test.shape))"
   ]
  },
  {
   "cell_type": "markdown",
   "metadata": {},
   "source": [
    "## 1.3. Feature scaling"
   ]
  },
  {
   "cell_type": "markdown",
   "metadata": {},
   "source": [
    "Use the standardization to trainsform both training and test features"
   ]
  },
  {
   "cell_type": "code",
   "execution_count": 9,
   "metadata": {},
   "outputs": [
    {
     "name": "stdout",
     "output_type": "stream",
     "text": [
      "test mean = \n",
      "[[-0.20431559  0.06369718 -0.08417363  0.21243742  0.03708194 -0.0354605\n",
      "   0.02255901 -0.21633785]]\n",
      "test std = \n",
      "[[0.91642242 0.9869856  1.00304103 0.89261679 0.95777534 1.16504387\n",
      "  1.01422498 0.87249145]]\n"
     ]
    }
   ],
   "source": [
    "# Standardization\n",
    "import numpy\n",
    "\n",
    "# calculate mu and sig using the training set\n",
    "d = x_train.shape[1]\n",
    "mu = numpy.mean(x_train, axis=0).reshape(1, d)\n",
    "sig = numpy.std(x_train, axis=0).reshape(1, d)\n",
    "\n",
    "# transform the training features\n",
    "x_train = (x_train - mu) / (sig + 1E-6)\n",
    "\n",
    "# transform the test features\n",
    "x_test = (x_test - mu) / (sig + 1E-6)\n",
    "\n",
    "print('test mean = ')\n",
    "print(numpy.mean(x_test, axis=0))\n",
    "\n",
    "print('test std = ')\n",
    "print(numpy.std(x_test, axis=0))"
   ]
  },
  {
   "cell_type": "markdown",
   "metadata": {},
   "source": [
    "## 1.4. Add a dimension of all ones"
   ]
  },
  {
   "cell_type": "code",
   "execution_count": 10,
   "metadata": {},
   "outputs": [
    {
     "name": "stdout",
     "output_type": "stream",
     "text": [
      "Shape of x_train: (640, 9)\n",
      "Shape of x_test: (128, 9)\n"
     ]
    }
   ],
   "source": [
    "n_train, d = x_train.shape\n",
    "x_train = numpy.concatenate((x_train, numpy.ones((n_train, 1))), axis=1)\n",
    "\n",
    "n_test, d = x_test.shape\n",
    "x_test = numpy.concatenate((x_test, numpy.ones((n_test, 1))), axis=1)\n",
    "\n",
    "print('Shape of x_train: ' + str(x_train.shape))\n",
    "print('Shape of x_test: ' + str(x_test.shape))"
   ]
  },
  {
   "cell_type": "markdown",
   "metadata": {},
   "source": [
    "# 2. Logistic regression model\n",
    "\n",
    "The objective function is $Q (w; X, y) = \\frac{1}{n} \\sum_{i=1}^n \\log \\Big( 1 + \\exp \\big( - y_i x_i^T w \\big) \\Big) + \\frac{\\lambda}{2} \\| w \\|_2^2 $."
   ]
  },
  {
   "cell_type": "code",
   "execution_count": 11,
   "metadata": {},
   "outputs": [],
   "source": [
    "# Calculate the objective function value\n",
    "# Inputs:\n",
    "#     w: d-by-1 matrix\n",
    "#     x: n-by-d matrix\n",
    "#     y: n-by-1 matrix\n",
    "#     lam: scalar, the regularization parameter\n",
    "# Return:\n",
    "#     objective function value (scalar)\n",
    "def objective(w, x, y, lam):\n",
    "    n, d = x.shape\n",
    "    yx = numpy.multiply(y, x) # n-by-d matrix\n",
    "    yxw = numpy.dot(yx, w) # n-by-1 matrix\n",
    "    vec1 = numpy.exp(-yxw) # n-by-1 matrix\n",
    "    vec2 = numpy.log(1 + vec1) # n-by-1 matrix\n",
    "    loss = numpy.mean(vec2) # scalar\n",
    "    reg = lam / 2 * numpy.sum(w * w) # scalar\n",
    "    return loss + reg\n",
    "    "
   ]
  },
  {
   "cell_type": "code",
   "execution_count": 12,
   "metadata": {},
   "outputs": [
    {
     "name": "stdout",
     "output_type": "stream",
     "text": [
      "Initial objective function value = 0.6931471805599453\n"
     ]
    }
   ],
   "source": [
    "# initialize w\n",
    "d = x_train.shape[1]\n",
    "w = numpy.zeros((d, 1))\n",
    "\n",
    "# evaluate the objective function value at w\n",
    "lam = 1E-6\n",
    "objval0 = objective(w, x_train, y_train, lam)\n",
    "print('Initial objective function value = ' + str(objval0))"
   ]
  },
  {
   "cell_type": "markdown",
   "metadata": {},
   "source": [
    "# 3. Numerical optimization"
   ]
  },
  {
   "cell_type": "markdown",
   "metadata": {},
   "source": [
    "## 3.1. Gradient descent\n"
   ]
  },
  {
   "cell_type": "markdown",
   "metadata": {},
   "source": [
    "The gradient at $w$ is $g = - \\frac{1}{n} \\sum_{i=1}^n \\frac{y_i x_i }{1 + \\exp ( y_i x_i^T w)} + \\lambda w$"
   ]
  },
  {
   "cell_type": "code",
   "execution_count": 13,
   "metadata": {},
   "outputs": [],
   "source": [
    "# Calculate the gradient\n",
    "# Inputs:\n",
    "#     w: d-by-1 matrix\n",
    "#     x: n-by-d matrix\n",
    "#     y: n-by-1 matrix\n",
    "#     lam: scalar, the regularization parameter\n",
    "# Return:\n",
    "#     g: g: d-by-1 matrix, full gradient\n",
    "def gradient(w, x, y, lam):\n",
    "    n, d = x.shape\n",
    "    yx = numpy.multiply(y, x) # n-by-d matrix\n",
    "    yxw = numpy.dot(yx, w) # n-by-1 matrix\n",
    "    vec1 = numpy.exp(yxw) # n-by-1 matrix\n",
    "    vec2 = numpy.divide(yx, 1+vec1) # n-by-d matrix\n",
    "    vec3 = -numpy.mean(vec2, axis=0).reshape(d, 1) # d-by-1 matrix\n",
    "    g = vec3 + lam * w\n",
    "    return g"
   ]
  },
  {
   "cell_type": "code",
   "execution_count": 14,
   "metadata": {},
   "outputs": [],
   "source": [
    "# Gradient descent for solving logistic regression\n",
    "# Inputs:\n",
    "#     x: n-by-d matrix\n",
    "#     y: n-by-1 matrix\n",
    "#     lam: scalar, the regularization parameter\n",
    "#     stepsize: scalar\n",
    "#     max_iter: integer, the maximal iterations\n",
    "#     w: d-by-1 matrix, initialization of w\n",
    "# Return:\n",
    "#     w: d-by-1 matrix, the solution\n",
    "#     objvals: a record of each iteration's objective value\n",
    "def grad_descent(x, y, lam, stepsize, max_iter=100, w=None):\n",
    "    n, d = x.shape\n",
    "    objvals = numpy.zeros(max_iter) # store the objective values\n",
    "    if w is None:\n",
    "        w = numpy.zeros((d, 1)) # zero initialization\n",
    "    \n",
    "    for t in range(max_iter):\n",
    "        objval = objective(w, x, y, lam)\n",
    "        objvals[t] = objval\n",
    "        print('Objective value at t=' + str(t) + ' is ' + str(objval))\n",
    "        g = gradient(w, x, y, lam)\n",
    "        w -= stepsize * g\n",
    "    \n",
    "    return w, objvals"
   ]
  },
  {
   "cell_type": "markdown",
   "metadata": {},
   "source": [
    "Run gradient descent."
   ]
  },
  {
   "cell_type": "code",
   "execution_count": 13,
   "metadata": {},
   "outputs": [
    {
     "name": "stdout",
     "output_type": "stream",
     "text": [
      "Objective value at t=0 is 0.6931471805599453\n",
      "Objective value at t=1 is 0.5807033173373405\n",
      "Objective value at t=2 is 0.5358713049727934\n",
      "Objective value at t=3 is 0.5118227393482404\n",
      "Objective value at t=4 is 0.49676088306249744\n",
      "Objective value at t=5 is 0.48649118940897296\n",
      "Objective value at t=6 is 0.4791145598071483\n",
      "Objective value at t=7 is 0.4736275851601962\n",
      "Objective value at t=8 is 0.46944218406436256\n",
      "Objective value at t=9 is 0.4661878740275751\n",
      "Objective value at t=10 is 0.4636187880447292\n",
      "Objective value at t=11 is 0.4615652947371097\n",
      "Objective value at t=12 is 0.45990678604102364\n",
      "Objective value at t=13 is 0.4585554175114803\n",
      "Objective value at t=14 is 0.457445922544377\n",
      "Objective value at t=15 is 0.45652898743436016\n",
      "Objective value at t=16 is 0.45576680931864294\n",
      "Objective value at t=17 is 0.455130041644702\n",
      "Objective value at t=18 is 0.4545956482976352\n",
      "Objective value at t=19 is 0.4541453678683289\n",
      "Objective value at t=20 is 0.4537645964880712\n",
      "Objective value at t=21 is 0.45344156322578166\n",
      "Objective value at t=22 is 0.45316671339524467\n",
      "Objective value at t=23 is 0.45293224183227504\n",
      "Objective value at t=24 is 0.4527317358216633\n",
      "Objective value at t=25 is 0.45255989919179596\n",
      "Objective value at t=26 is 0.4524123371802348\n",
      "Objective value at t=27 is 0.4522853872788198\n",
      "Objective value at t=28 is 0.4521759852062063\n",
      "Objective value at t=29 is 0.4520815579594271\n",
      "Objective value at t=30 is 0.45199993791500875\n",
      "Objective value at t=31 is 0.4519292934200008\n",
      "Objective value at t=32 is 0.4518680723943738\n",
      "Objective value at t=33 is 0.4518149562690997\n",
      "Objective value at t=34 is 0.45176882218587233\n",
      "Objective value at t=35 is 0.45172871183914504\n",
      "Objective value at t=36 is 0.45169380568760176\n",
      "Objective value at t=37 is 0.45166340152813067\n",
      "Objective value at t=38 is 0.45163689663098955\n",
      "Objective value at t=39 is 0.45161377279491194\n",
      "Objective value at t=40 is 0.45159358380628034\n",
      "Objective value at t=41 is 0.45157594488530234\n",
      "Objective value at t=42 is 0.4515605237804406\n",
      "Objective value at t=43 is 0.4515470332347448\n",
      "Objective value at t=44 is 0.4515352245977165\n",
      "Objective value at t=45 is 0.4515248823965459\n",
      "Objective value at t=46 is 0.4515158197130814\n",
      "Objective value at t=47 is 0.4515078742392796\n",
      "Objective value at t=48 is 0.45150090490540623\n",
      "Objective value at t=49 is 0.4514947889928653\n",
      "Objective value at t=50 is 0.4514894196579975\n",
      "Objective value at t=51 is 0.4514847038051061\n",
      "Objective value at t=52 is 0.4514805602568309\n",
      "Objective value at t=53 is 0.45147691817816293\n",
      "Objective value at t=54 is 0.4514737157171947\n",
      "Objective value at t=55 is 0.45147089883138153\n",
      "Objective value at t=56 is 0.4514684202728285\n",
      "Objective value at t=57 is 0.45146623871010705\n",
      "Objective value at t=58 is 0.4514643179674479\n",
      "Objective value at t=59 is 0.4514626263649796\n",
      "Objective value at t=60 is 0.45146113614605965\n",
      "Objective value at t=61 is 0.4514598229797688\n",
      "Objective value at t=62 is 0.45145866552833774\n",
      "Objective value at t=63 is 0.45145764507073527\n",
      "Objective value at t=64 is 0.45145674517487605\n",
      "Objective value at t=65 is 0.45145595141196515\n",
      "Objective value at t=66 is 0.4514552511073889\n",
      "Objective value at t=67 is 0.4514546331233359\n",
      "Objective value at t=68 is 0.45145408766898737\n",
      "Objective value at t=69 is 0.4514536061346806\n",
      "Objective value at t=70 is 0.45145318094693565\n",
      "Objective value at t=71 is 0.4514528054416524\n",
      "Objective value at t=72 is 0.4514524737531395\n",
      "Objective value at t=73 is 0.451452180716953\n",
      "Objective value at t=74 is 0.45145192178478394\n",
      "Objective value at t=75 is 0.4514516929498665\n",
      "Objective value at t=76 is 0.4514514906815774\n",
      "Objective value at t=77 is 0.45145131186806975\n",
      "Objective value at t=78 is 0.45145115376593425\n",
      "Objective value at t=79 is 0.4514510139560087\n",
      "Objective value at t=80 is 0.4514508903045711\n",
      "Objective value at t=81 is 0.4514507809292477\n",
      "Objective value at t=82 is 0.45145068416905315\n",
      "Objective value at t=83 is 0.4514505985580522\n",
      "Objective value at t=84 is 0.4514505228021985\n",
      "Objective value at t=85 is 0.4514504557589607\n",
      "Objective value at t=86 is 0.45145039641939505\n",
      "Objective value at t=87 is 0.45145034389236544\n",
      "Objective value at t=88 is 0.45145029739065107\n",
      "Objective value at t=89 is 0.45145025621871165\n",
      "Objective value at t=90 is 0.4514502197619093\n",
      "Objective value at t=91 is 0.45145018747701293\n",
      "Objective value at t=92 is 0.45145015888382795\n",
      "Objective value at t=93 is 0.451450133557819\n",
      "Objective value at t=94 is 0.45145011112360356\n",
      "Objective value at t=95 is 0.4514500912492152\n",
      "Objective value at t=96 is 0.4514500736410415\n",
      "Objective value at t=97 is 0.4514500580393591\n",
      "Objective value at t=98 is 0.45145004421439244\n",
      "Objective value at t=99 is 0.45145003196283545\n"
     ]
    }
   ],
   "source": [
    "lam = 1E-6\n",
    "stepsize = 1.0\n",
    "w, objvals_gd = grad_descent(x_train, y_train, lam, stepsize)"
   ]
  },
  {
   "cell_type": "markdown",
   "metadata": {},
   "source": [
    "## 3.2. Stochastic gradient descent (SGD)\n",
    "\n",
    "Define $Q_i (w) = \\log \\Big( 1 + \\exp \\big( - y_i x_i^T w \\big) \\Big) + \\frac{\\lambda}{2} \\| w \\|_2^2 $.\n",
    "\n",
    "The stochastic gradient at $w$ is $g_i = \\frac{\\partial Q_i }{ \\partial w} = -\\frac{y_i x_i }{1 + \\exp ( y_i x_i^T w)} + \\lambda w$."
   ]
  },
  {
   "cell_type": "code",
   "execution_count": 14,
   "metadata": {},
   "outputs": [],
   "source": [
    "# Calculate the objective Q_i and the gradient of Q_i\n",
    "# Inputs:\n",
    "#     w: d-by-1 matrix\n",
    "#     xi: 1-by-d matrix\n",
    "#     yi: scalar\n",
    "#     lam: scalar, the regularization parameter\n",
    "# Return:\n",
    "#     obj: scalar, the objective Q_i\n",
    "#     g: d-by-1 matrix, gradient of Q_i\n",
    "def stochastic_objective_gradient(w, xi, yi, lam):\n",
    "    d = xi.shape[0]\n",
    "    yx = yi * xi # 1-by-d matrix\n",
    "    yxw = float(numpy.dot(yx, w)) # scalar\n",
    "    \n",
    "    # calculate objective function Q_i\n",
    "    loss = numpy.log(1 + numpy.exp(-yxw)) # scalar\n",
    "    reg = lam / 2 * numpy.sum(w * w) # scalar\n",
    "    obj = loss + reg\n",
    "    \n",
    "    # calculate stochastic gradient\n",
    "    g_loss = -yx.T / (1 + numpy.exp(yxw)) # d-by-1 matrix\n",
    "    g = g_loss + lam * w # d-by-1 matrix\n",
    "    \n",
    "    return obj, g"
   ]
  },
  {
   "cell_type": "code",
   "execution_count": 15,
   "metadata": {},
   "outputs": [],
   "source": [
    "# SGD for solving logistic regression\n",
    "# Inputs:\n",
    "#     x: n-by-d matrix\n",
    "#     y: n-by-1 matrix\n",
    "#     lam: scalar, the regularization parameter\n",
    "#     stepsize: scalar\n",
    "#     max_epoch: integer, the maximal epochs\n",
    "#     w: d-by-1 matrix, initialization of w\n",
    "# Return:\n",
    "#     w: the solution\n",
    "#     objvals: record of each iteration's objective value\n",
    "def sgd(x, y, lam, stepsize, max_epoch=100, w=None):\n",
    "    n, d = x.shape\n",
    "    objvals = numpy.zeros(max_epoch) # store the objective values\n",
    "    if w is None:\n",
    "        w = numpy.zeros((d, 1)) # zero initialization\n",
    "    \n",
    "    for t in range(max_epoch):\n",
    "        # randomly shuffle the samples\n",
    "        rand_indices = numpy.random.permutation(n)\n",
    "        x_rand = x[rand_indices, :]\n",
    "        y_rand = y[rand_indices, :]\n",
    "        \n",
    "        objval = 0 # accumulate the objective values\n",
    "        for i in range(n):\n",
    "            xi = x_rand[i, :] # 1-by-d matrix\n",
    "            yi = float(y_rand[i, :]) # scalar\n",
    "            obj, g = stochastic_objective_gradient(w, xi, yi, lam)\n",
    "            objval += obj\n",
    "            w -= stepsize * g\n",
    "        \n",
    "        stepsize *= 0.9 # decrease step size\n",
    "        objval /= n\n",
    "        objvals[t] = objval\n",
    "        print('Objective value at epoch t=' + str(t) + ' is ' + str(objval))\n",
    "    \n",
    "    return w, objvals"
   ]
  },
  {
   "cell_type": "markdown",
   "metadata": {},
   "source": [
    "Run SGD."
   ]
  },
  {
   "cell_type": "code",
   "execution_count": 16,
   "metadata": {},
   "outputs": [
    {
     "name": "stdout",
     "output_type": "stream",
     "text": [
      "Objective value at epoch t=0 is 0.5143082279814007\n",
      "Objective value at epoch t=1 is 0.47782390521538975\n",
      "Objective value at epoch t=2 is 0.487407944674927\n",
      "Objective value at epoch t=3 is 0.4824305760372378\n",
      "Objective value at epoch t=4 is 0.47512017816313434\n",
      "Objective value at epoch t=5 is 0.48185230646553556\n",
      "Objective value at epoch t=6 is 0.47865531179848997\n",
      "Objective value at epoch t=7 is 0.4793184975101714\n",
      "Objective value at epoch t=8 is 0.46940494967469215\n",
      "Objective value at epoch t=9 is 0.46855627768661307\n",
      "Objective value at epoch t=10 is 0.47457333703870247\n",
      "Objective value at epoch t=11 is 0.4688871356668461\n",
      "Objective value at epoch t=12 is 0.46932415833046387\n",
      "Objective value at epoch t=13 is 0.4659156820433797\n",
      "Objective value at epoch t=14 is 0.4655375650217869\n",
      "Objective value at epoch t=15 is 0.4635647560866514\n",
      "Objective value at epoch t=16 is 0.46314693110567895\n",
      "Objective value at epoch t=17 is 0.46057088470973107\n",
      "Objective value at epoch t=18 is 0.46022871385551883\n",
      "Objective value at epoch t=19 is 0.45963852756272494\n",
      "Objective value at epoch t=20 is 0.4582989164569694\n",
      "Objective value at epoch t=21 is 0.4589488615069561\n",
      "Objective value at epoch t=22 is 0.45726040915582933\n",
      "Objective value at epoch t=23 is 0.45706971857488526\n",
      "Objective value at epoch t=24 is 0.45669928098054696\n",
      "Objective value at epoch t=25 is 0.45615223033287966\n",
      "Objective value at epoch t=26 is 0.45585757288203493\n",
      "Objective value at epoch t=27 is 0.45522910686873097\n",
      "Objective value at epoch t=28 is 0.45491116789072494\n",
      "Objective value at epoch t=29 is 0.45472611650509387\n",
      "Objective value at epoch t=30 is 0.4543383079689061\n",
      "Objective value at epoch t=31 is 0.45400459563162165\n",
      "Objective value at epoch t=32 is 0.4538435951886335\n",
      "Objective value at epoch t=33 is 0.45356190635590093\n",
      "Objective value at epoch t=34 is 0.45330473829383894\n",
      "Objective value at epoch t=35 is 0.4531847322691645\n",
      "Objective value at epoch t=36 is 0.45302256871961744\n",
      "Objective value at epoch t=37 is 0.4528584536770131\n",
      "Objective value at epoch t=38 is 0.45273799847592766\n",
      "Objective value at epoch t=39 is 0.4526055190536458\n",
      "Objective value at epoch t=40 is 0.4525018408722124\n",
      "Objective value at epoch t=41 is 0.45238395638619905\n",
      "Objective value at epoch t=42 is 0.4522863183213944\n",
      "Objective value at epoch t=43 is 0.4522158981092946\n",
      "Objective value at epoch t=44 is 0.4521337843864088\n",
      "Objective value at epoch t=45 is 0.4520729966729797\n",
      "Objective value at epoch t=46 is 0.452004779475792\n",
      "Objective value at epoch t=47 is 0.4519495300298792\n",
      "Objective value at epoch t=48 is 0.4519029955220141\n",
      "Objective value at epoch t=49 is 0.45185806999783884\n",
      "Objective value at epoch t=50 is 0.4518185462154329\n",
      "Objective value at epoch t=51 is 0.4517815197483821\n",
      "Objective value at epoch t=52 is 0.4517476769659125\n",
      "Objective value at epoch t=53 is 0.45171895391924444\n",
      "Objective value at epoch t=54 is 0.45169128806577225\n",
      "Objective value at epoch t=55 is 0.45166804316032305\n",
      "Objective value at epoch t=56 is 0.45164536199606636\n",
      "Objective value at epoch t=57 is 0.4516266806085857\n",
      "Objective value at epoch t=58 is 0.4516087996402005\n",
      "Objective value at epoch t=59 is 0.45159325631433367\n",
      "Objective value at epoch t=60 is 0.45157868991053907\n",
      "Objective value at epoch t=61 is 0.45156607634083434\n",
      "Objective value at epoch t=62 is 0.4515544481441992\n",
      "Objective value at epoch t=63 is 0.4515439563871704\n",
      "Objective value at epoch t=64 is 0.45153474895337914\n",
      "Objective value at epoch t=65 is 0.45152618131663314\n",
      "Objective value at epoch t=66 is 0.45151861889822953\n",
      "Objective value at epoch t=67 is 0.45151173975314035\n",
      "Objective value at epoch t=68 is 0.4515056012239797\n",
      "Objective value at epoch t=69 is 0.45150009155860016\n",
      "Objective value at epoch t=70 is 0.4514950870819674\n",
      "Objective value at epoch t=71 is 0.45149061090412124\n",
      "Objective value at epoch t=72 is 0.45148655907870394\n",
      "Objective value at epoch t=73 is 0.45148286878357274\n",
      "Objective value at epoch t=74 is 0.4514796362725534\n",
      "Objective value at epoch t=75 is 0.45147668993672657\n",
      "Objective value at epoch t=76 is 0.4514740319228087\n",
      "Objective value at epoch t=77 is 0.45147164875740253\n",
      "Objective value at epoch t=78 is 0.4514694942088096\n",
      "Objective value at epoch t=79 is 0.4514675614149658\n",
      "Objective value at epoch t=80 is 0.45146581332724267\n",
      "Objective value at epoch t=81 is 0.45146424471888374\n",
      "Objective value at epoch t=82 is 0.4514628351458095\n",
      "Objective value at epoch t=83 is 0.4514615677366464\n",
      "Objective value at epoch t=84 is 0.45146042257745156\n",
      "Objective value at epoch t=85 is 0.4514593920575892\n",
      "Objective value at epoch t=86 is 0.45145846727030625\n",
      "Objective value at epoch t=87 is 0.4514576341668615\n",
      "Objective value at epoch t=88 is 0.45145688392795585\n",
      "Objective value at epoch t=89 is 0.4514562084808701\n",
      "Objective value at epoch t=90 is 0.4514556006143409\n",
      "Objective value at epoch t=91 is 0.4514550536794779\n",
      "Objective value at epoch t=92 is 0.4514545606005146\n",
      "Objective value at epoch t=93 is 0.45145411725807383\n",
      "Objective value at epoch t=94 is 0.4514537191801861\n",
      "Objective value at epoch t=95 is 0.4514533603252107\n",
      "Objective value at epoch t=96 is 0.4514530370377609\n",
      "Objective value at epoch t=97 is 0.45145274639211863\n",
      "Objective value at epoch t=98 is 0.4514524847348137\n",
      "Objective value at epoch t=99 is 0.4514522491919468\n"
     ]
    }
   ],
   "source": [
    "lam = 1E-6\n",
    "stepsize = 0.1\n",
    "w, objvals_sgd = sgd(x_train, y_train, lam, stepsize)"
   ]
  },
  {
   "cell_type": "markdown",
   "metadata": {},
   "source": [
    "# 4. Compare GD with SGD\n",
    "\n",
    "Plot objective function values against epochs."
   ]
  },
  {
   "cell_type": "code",
   "execution_count": 17,
   "metadata": {},
   "outputs": [
    {
     "data": {
      "image/png": "[encoded data removed]",
      "text/plain": [
       "<Figure size 432x288 with 1 Axes>"
      ]
     },
     "metadata": {
      "needs_background": "light"
     },
     "output_type": "display_data"
    }
   ],
   "source": [
    "import matplotlib.pyplot as plt\n",
    "%matplotlib inline\n",
    "\n",
    "fig = plt.figure(figsize=(6, 4))\n",
    "\n",
    "epochs_gd = range(len(objvals_gd))\n",
    "epochs_sgd = range(len(objvals_sgd))\n",
    "\n",
    "line0, = plt.plot(epochs_gd, objvals_gd, '--b', LineWidth=4)\n",
    "line1, = plt.plot(epochs_sgd, objvals_sgd, '-r', LineWidth=2)\n",
    "plt.xlabel('Epochs', FontSize=20)\n",
    "plt.ylabel('Objective Value', FontSize=20)\n",
    "plt.xticks(FontSize=16)\n",
    "plt.yticks(FontSize=16)\n",
    "plt.legend([line0, line1], ['GD', 'SGD'], fontsize=20)\n",
    "plt.tight_layout()\n",
    "plt.show()\n",
    "fig.savefig('compare_gd_sgd.pdf', format='pdf', dpi=1200)"
   ]
  },
  {
   "cell_type": "markdown",
   "metadata": {},
   "source": [
    "# 5. Prediction"
   ]
  },
  {
   "cell_type": "code",
   "execution_count": 18,
   "metadata": {},
   "outputs": [],
   "source": [
    "# Predict class label\n",
    "# Inputs:\n",
    "#     w: d-by-1 matrix\n",
    "#     X: m-by-d matrix\n",
    "# Return:\n",
    "#     f: m-by-1 matrix, the predictions\n",
    "def predict(w, X):\n",
    "    xw = numpy.dot(X, w)\n",
    "    f = numpy.sign(xw)\n",
    "    return f"
   ]
  },
  {
   "cell_type": "code",
   "execution_count": 19,
   "metadata": {},
   "outputs": [
    {
     "name": "stdout",
     "output_type": "stream",
     "text": [
      "Training classification error is 0.2171875\n"
     ]
    }
   ],
   "source": [
    "# evaluate training error\n",
    "f_train = predict(w, x_train)\n",
    "diff = numpy.abs(f_train - y_train) / 2\n",
    "error_train = numpy.mean(diff)\n",
    "print('Training classification error is ' + str(error_train))"
   ]
  },
  {
   "cell_type": "code",
   "execution_count": 20,
   "metadata": {},
   "outputs": [
    {
     "name": "stdout",
     "output_type": "stream",
     "text": [
      "Test classification error is 0.2734375\n"
     ]
    }
   ],
   "source": [
    "# evaluate test error\n",
    "f_test = predict(w, x_test)\n",
    "diff = numpy.abs(f_test - y_test) / 2\n",
    "error_test = numpy.mean(diff)\n",
    "print('Test classification error is ' + str(error_test))"
   ]
  },
  {
   "cell_type": "markdown",
   "metadata": {},
   "source": [
    "# 6. Mini-batch SGD (fill the code)\n",
    "\n"
   ]
  },
  {
   "cell_type": "markdown",
   "metadata": {},
   "source": [
    "## 6.1. Compute the objective $Q_I$ and its gradient using a batch of samples\n",
    "\n",
    "Define $Q_I (w) = \\frac{1}{b} \\sum_{i \\in I} \\log \\Big( 1 + \\exp \\big( - y_i x_i^T w \\big) \\Big) + \\frac{\\lambda}{2} \\| w \\|_2^2 $, where $I$ is a set containing $b$ indices randomly drawn from $\\{ 1, \\cdots , n \\}$ without replacement.\n",
    "\n",
    "The stochastic gradient at $w$ is $g_I = \\frac{\\partial Q_I }{ \\partial w} = \\frac{1}{b} \\sum_{i \\in I} \\frac{- y_i x_i }{1 + \\exp ( y_i x_i^T w)} + \\lambda w$."
   ]
  },
  {
   "cell_type": "code",
   "execution_count": 2,
   "metadata": {},
   "outputs": [],
   "source": [
    "# Calculate the objective Q_I and the gradient of Q_I\n",
    "# Inputs:\n",
    "#     w: d-by-1 matrix\n",
    "#     xi: b-by-d matrix\n",
    "#     yi: b-by-1 matrix\n",
    "#     lam: scalar, the regularization parameter\n",
    "#     b: integer, the batch size\n",
    "# Return:\n",
    "#     obj: scalar, the objective Q_i\n",
    "#     g: d-by-1 matrix, gradient of Q_i\n",
    "def mb_stochastic_objective_gradient(w, xi, yi, lam, b):\n",
    "    # Follow the implementation of stochastic_objective_gradient\n",
    "    # Use matrix-vector multiplication; do not use FOR LOOP of vector-vector multiplications\n",
    "    obj = objective(w,xi,yi,lam)\n",
    "    g = gradient(w,xi,yi,lam)\n",
    "    return obj, g"
   ]
  },
  {
   "cell_type": "markdown",
   "metadata": {},
   "source": [
    "## 6.2. Implement mini-batch SGD\n",
    "\n",
    "Hints:\n",
    "1. In every epoch, randomly permute the $n$ samples (just like SGD).\n",
    "2. Each epoch has $\\frac{n}{b}$ iterations. In every iteration, use $b$ samples, and compute the gradient and objective using the ``mb_stochastic_objective_gradient`` function. In the next iteration, use the next $b$ samples, and so on.\n"
   ]
  },
  {
   "cell_type": "code",
   "execution_count": 20,
   "metadata": {},
   "outputs": [],
   "source": [
    "# Mini-Batch SGD for solving logistic regression\n",
    "# Inputs:\n",
    "#     x: n-by-d matrix\n",
    "#     y: n-by-1 matrix\n",
    "#     lam: scalar, the regularization parameter\n",
    "#     b: integer, the batch size\n",
    "#     stepsize: scalar\n",
    "#     max_epoch: integer, the maximal epochs\n",
    "#     w: d-by-1 matrix, initialization of w\n",
    "# Return:\n",
    "#     w: the solution\n",
    "#     objvals: record of each iteration's objective value\n",
    "def mb_sgd(x, y, lam, b, stepsize, max_epoch=100, w=None):\n",
    "    # Fill the function\n",
    "    # Follow the implementation of sgd\n",
    "    # Record one objective value per epoch (not per iteration!)\n",
    "    n,d = x.shape\n",
    "    objvals = []\n",
    "    \n",
    "    chunks = n // b\n",
    "    # in the case of bad chunk size\n",
    "    if n % b != 0:\n",
    "        chunks += 1\n",
    "    \n",
    "    # intialization to 0\n",
    "    if w == None:\n",
    "        w = numpy.zeros((d,1))\n",
    "    # iterate through max_epochs\n",
    "    for t in range(max_epoch):\n",
    "        # randomly shuffle the training data and labels\n",
    "        epoch_obj = 0\n",
    "        rand_indices = numpy.random.permutation(n)\n",
    "        x_rand = x[rand_indices, :]\n",
    "        y_rand = y[rand_indices, :]\n",
    "        # divide into minibatches and get the gradient and objval\n",
    "        for i in range(chunks):\n",
    "            # start and stop for the batch\n",
    "            start = i * b\n",
    "            end = (i+1) * b\n",
    "            # acquire a minibatch\n",
    "            xi = x_rand[start:end,:]\n",
    "            yi = y_rand[start:end,:]\n",
    "            \n",
    "            obj, gradient = mb_stochastic_objective_gradient(w,xi,yi,lam,b)\n",
    "            \n",
    "            #update obj_val and gradient\n",
    "            epoch_obj += obj\n",
    "            w -= stepsize * gradient\n",
    "        epoch_obj /= chunks\n",
    "        objvals.append(epoch_obj)\n",
    "        print('Objective value at epoch t=' + str(t) + ' is ' + str(epoch_obj))\n",
    "        \n",
    "    return w, objvals"
   ]
  },
  {
   "cell_type": "markdown",
   "metadata": {},
   "source": [
    "## 6.3. Run MB-SGD"
   ]
  },
  {
   "cell_type": "code",
   "execution_count": 21,
   "metadata": {},
   "outputs": [
    {
     "name": "stdout",
     "output_type": "stream",
     "text": [
      "Objective value at epoch t=0 is 0.545146050993036\n",
      "Objective value at epoch t=1 is 0.4876431722483218\n",
      "Objective value at epoch t=2 is 0.4810078937998382\n",
      "Objective value at epoch t=3 is 0.4803555203875585\n",
      "Objective value at epoch t=4 is 0.48072948898368956\n",
      "Objective value at epoch t=5 is 0.4795427693388176\n",
      "Objective value at epoch t=6 is 0.478945752523269\n",
      "Objective value at epoch t=7 is 0.4781340121961809\n",
      "Objective value at epoch t=8 is 0.4796519257286757\n",
      "Objective value at epoch t=9 is 0.4793390641227691\n",
      "Objective value at epoch t=10 is 0.47919085715328985\n",
      "Objective value at epoch t=11 is 0.47950173298196336\n",
      "Objective value at epoch t=12 is 0.48039057634537324\n",
      "Objective value at epoch t=13 is 0.4788764794067748\n",
      "Objective value at epoch t=14 is 0.48050411774840757\n",
      "Objective value at epoch t=15 is 0.47994679316459826\n",
      "Objective value at epoch t=16 is 0.47953140062948696\n",
      "Objective value at epoch t=17 is 0.4800610291651822\n",
      "Objective value at epoch t=18 is 0.47814226196646137\n",
      "Objective value at epoch t=19 is 0.48013124221200065\n",
      "Objective value at epoch t=20 is 0.4800706966810043\n",
      "Objective value at epoch t=21 is 0.4788683611564504\n",
      "Objective value at epoch t=22 is 0.4792468746560202\n",
      "Objective value at epoch t=23 is 0.4801358693033443\n",
      "Objective value at epoch t=24 is 0.4790856008466277\n",
      "Objective value at epoch t=25 is 0.4801466424782153\n",
      "Objective value at epoch t=26 is 0.4808377400238689\n",
      "Objective value at epoch t=27 is 0.4805076572379858\n",
      "Objective value at epoch t=28 is 0.48092858200376404\n",
      "Objective value at epoch t=29 is 0.47956668825380494\n",
      "Objective value at epoch t=30 is 0.4781901245417215\n",
      "Objective value at epoch t=31 is 0.4794347646030473\n",
      "Objective value at epoch t=32 is 0.4782414648206352\n",
      "Objective value at epoch t=33 is 0.4803091746440559\n",
      "Objective value at epoch t=34 is 0.47885930320742737\n",
      "Objective value at epoch t=35 is 0.47988895295027206\n",
      "Objective value at epoch t=36 is 0.47979711054029534\n",
      "Objective value at epoch t=37 is 0.4796826188328624\n",
      "Objective value at epoch t=38 is 0.4807072265717177\n",
      "Objective value at epoch t=39 is 0.47957939775913666\n",
      "Objective value at epoch t=40 is 0.4801502344519705\n",
      "Objective value at epoch t=41 is 0.4803653413413366\n",
      "Objective value at epoch t=42 is 0.4796907590736371\n",
      "Objective value at epoch t=43 is 0.4792054379147041\n",
      "Objective value at epoch t=44 is 0.4790228866849585\n",
      "Objective value at epoch t=45 is 0.4792954297673696\n",
      "Objective value at epoch t=46 is 0.47879202276600574\n",
      "Objective value at epoch t=47 is 0.48058180003458706\n",
      "Objective value at epoch t=48 is 0.4798687440291876\n",
      "Objective value at epoch t=49 is 0.48008270313985557\n",
      "Objective value at epoch t=50 is 0.47991378123772793\n",
      "Objective value at epoch t=51 is 0.47866926681766575\n",
      "Objective value at epoch t=52 is 0.4800683446049286\n",
      "Objective value at epoch t=53 is 0.48143931275296453\n",
      "Objective value at epoch t=54 is 0.4782578726720022\n",
      "Objective value at epoch t=55 is 0.47874374108205114\n",
      "Objective value at epoch t=56 is 0.4797996777348531\n",
      "Objective value at epoch t=57 is 0.4796989079039645\n",
      "Objective value at epoch t=58 is 0.47862508832363293\n",
      "Objective value at epoch t=59 is 0.4789310462374206\n",
      "Objective value at epoch t=60 is 0.4794647103331037\n",
      "Objective value at epoch t=61 is 0.47966336645564206\n",
      "Objective value at epoch t=62 is 0.47954302753050726\n",
      "Objective value at epoch t=63 is 0.4791185984467347\n",
      "Objective value at epoch t=64 is 0.4803022911631986\n",
      "Objective value at epoch t=65 is 0.4794806465547782\n",
      "Objective value at epoch t=66 is 0.4776797566240999\n",
      "Objective value at epoch t=67 is 0.47942893427023836\n",
      "Objective value at epoch t=68 is 0.4810395510131283\n",
      "Objective value at epoch t=69 is 0.4795223195761348\n",
      "Objective value at epoch t=70 is 0.4783050718334376\n",
      "Objective value at epoch t=71 is 0.47915151471819656\n",
      "Objective value at epoch t=72 is 0.4796714252373507\n",
      "Objective value at epoch t=73 is 0.4793974883538656\n",
      "Objective value at epoch t=74 is 0.4805874101594174\n",
      "Objective value at epoch t=75 is 0.48073208514946497\n",
      "Objective value at epoch t=76 is 0.4802902413016164\n",
      "Objective value at epoch t=77 is 0.47989604780359973\n",
      "Objective value at epoch t=78 is 0.4799243241968777\n",
      "Objective value at epoch t=79 is 0.47885268406349973\n",
      "Objective value at epoch t=80 is 0.4788567935863394\n",
      "Objective value at epoch t=81 is 0.48031886529977613\n",
      "Objective value at epoch t=82 is 0.4801777106936666\n",
      "Objective value at epoch t=83 is 0.47946982130291194\n",
      "Objective value at epoch t=84 is 0.4801969916352604\n",
      "Objective value at epoch t=85 is 0.47958841116322015\n",
      "Objective value at epoch t=86 is 0.4794959405838727\n",
      "Objective value at epoch t=87 is 0.47981798949479415\n",
      "Objective value at epoch t=88 is 0.4798669307910483\n",
      "Objective value at epoch t=89 is 0.48037496819423753\n",
      "Objective value at epoch t=90 is 0.4793650833280013\n",
      "Objective value at epoch t=91 is 0.48005181525844864\n",
      "Objective value at epoch t=92 is 0.48012696969397856\n",
      "Objective value at epoch t=93 is 0.47872306981353707\n",
      "Objective value at epoch t=94 is 0.479350246429113\n",
      "Objective value at epoch t=95 is 0.4799280757671297\n",
      "Objective value at epoch t=96 is 0.47827355809521804\n",
      "Objective value at epoch t=97 is 0.47942725744818304\n",
      "Objective value at epoch t=98 is 0.4810714920335504\n",
      "Objective value at epoch t=99 is 0.4807009960200192\n"
     ]
    }
   ],
   "source": [
    "# MB-SGD with batch size b=8\n",
    "lam = 1E-6 # do not change\n",
    "b = 8 # do not change\n",
    "stepsize = 0.1 # you must tune this parameter\n",
    "\n",
    "w, objvals_mbsgd8 = mb_sgd(x_train, y_train, lam, b, stepsize)"
   ]
  },
  {
   "cell_type": "code",
   "execution_count": null,
   "metadata": {},
   "outputs": [],
   "source": [
    "# MB-SGD with batch size b=64\n",
    "lam = 1E-6 # do not change\n",
    "b = 64 # do not change\n",
    "stepsize = 0.1 # you must tune this parameter\n",
    "\n",
    "w, objvals_mbsgd64 = mb_sgd(x_train, y_train, lam, b, stepsize)"
   ]
  },
  {
   "cell_type": "markdown",
   "metadata": {},
   "source": [
    "# 7. Plot and compare GD, SGD, and MB-SGD"
   ]
  },
  {
   "cell_type": "markdown",
   "metadata": {},
   "source": [
    "You are required to compare the following algorithms:\n",
    "\n",
    "- Gradient descent (GD)\n",
    "\n",
    "- SGD\n",
    "\n",
    "- MB-SGD with b=8\n",
    "\n",
    "- MB-SGD with b=64\n",
    "\n",
    "Follow the code in Section 4 to plot ```objective function value``` against ```epochs```. There should be four curves in the plot; each curve corresponds to one algorithm."
   ]
  },
  {
   "cell_type": "markdown",
   "metadata": {},
   "source": [
    "Hint: Logistic regression with $\\ell_2$-norm regularization is a strongly convex optimization problem. All the algorithms will converge to the same solution. **In the end, the ``objective function value`` of the 4 algorithms will be the same. If not the same, your implementation must be wrong. Do NOT submit wrong code and wrong result!**"
   ]
  },
  {
   "cell_type": "code",
   "execution_count": null,
   "metadata": {},
   "outputs": [],
   "source": [
    "# plot the 4 curves:"
   ]
  },
  {
   "cell_type": "markdown",
   "metadata": {},
   "source": []
  }
 ],
 "metadata": {
  "kernelspec": {
   "display_name": "Python 3",
   "language": "python",
   "name": "python3"
  },
  "language_info": {
   "codemirror_mode": {
    "name": "ipython",
    "version": 3
   },
   "file_extension": ".py",
   "mimetype": "text/x-python",
   "name": "python",
   "nbconvert_exporter": "python",
   "pygments_lexer": "ipython3",
   "version": "3.7.5"
  }
 },
 "nbformat": 4,
 "nbformat_minor": 2
}
