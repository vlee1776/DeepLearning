{
 "cells": [
  {
   "cell_type": "markdown",
   "metadata": {},
   "source": [
    "# HM2: Numerical Optimization for Logistic Regression.\n",
    "\n",
    "### Name: Vincent Lee\n"
   ]
  },
  {
   "cell_type": "markdown",
   "metadata": {},
   "source": [
    "## 0. You will do the following:\n",
    "\n",
    "1. Read the lecture note: [click here](https://github.com/wangshusen/DeepLearning/blob/master/LectureNotes/Logistic/paper/logistic.pdf)\n",
    "\n",
    "2. Read, complete, and run my code.\n",
    "\n",
    "3. **Implement mini-batch SGD** and evaluate the performance.\n",
    "\n",
    "4. Convert the .IPYNB file to .HTML file.\n",
    "\n",
    "    * The HTML file must contain **the code** and **the output after execution**.\n",
    "    \n",
    "    * Missing **the output after execution** will not be graded.\n",
    "    \n",
    "5. Upload this .HTML file to your Google Drive, Dropbox, or your Github repo.  (If you submit the file to Google Drive or Dropbox, you must make the file \"open-access\". The delay caused by \"deny of access\" may result in late penalty.)\n",
    "\n",
    "6. Submit the link to this .HTML file to Canvas.\n",
    "\n",
    "    * Example: https://github.com/wangshusen/CS583-2020S/blob/master/homework/HM2/HM2.html\n",
    "\n",
    "\n",
    "## Grading criteria:\n",
    "\n",
    "1. When computing the ```gradient``` and ```objective function value``` using a batch of samples, use **matrix-vector multiplication** rather than a FOR LOOP of **vector-vector multiplications**.\n",
    "\n",
    "2. Plot ```objective function value``` against ```epochs```. In the plot, compare GD, SGD, and MB-SGD (with $b=8$ and $b=64$). The plot must look reasonable."
   ]
  },
  {
   "cell_type": "code",
   "execution_count": null,
   "metadata": {},
   "outputs": [],
   "source": []
  },
  {
   "cell_type": "markdown",
   "metadata": {},
   "source": [
    "# 1. Data processing\n",
    "\n",
    "- Download the Diabete dataset from https://www.csie.ntu.edu.tw/~cjlin/libsvmtools/datasets/binary/diabetes\n",
    "- Load the data using sklearn.\n",
    "- Preprocess the data."
   ]
  },
  {
   "cell_type": "markdown",
   "metadata": {},
   "source": [
    "## 1.1. Load the data"
   ]
  },
  {
   "cell_type": "code",
   "execution_count": 1,
   "metadata": {},
   "outputs": [
    {
     "name": "stdout",
     "output_type": "stream",
     "text": [
      "Shape of x: (768, 8)\n",
      "Shape of y: (768,)\n"
     ]
    }
   ],
   "source": [
    "from sklearn import datasets\n",
    "import numpy\n",
    "\n",
    "x_sparse, y = datasets.load_svmlight_file('diabetes')\n",
    "x = x_sparse.todense()\n",
    "\n",
    "print('Shape of x: ' + str(x.shape))\n",
    "print('Shape of y: ' + str(y.shape))"
   ]
  },
  {
   "cell_type": "markdown",
   "metadata": {},
   "source": [
    "## 1.2. Partition to training and test sets"
   ]
  },
  {
   "cell_type": "code",
   "execution_count": 2,
   "metadata": {},
   "outputs": [
    {
     "name": "stdout",
     "output_type": "stream",
     "text": [
      "Shape of x_train: (640, 8)\n",
      "Shape of x_test: (128, 8)\n",
      "Shape of y_train: (640, 1)\n",
      "Shape of y_test: (128, 1)\n"
     ]
    }
   ],
   "source": [
    "# partition the data to training and test sets\n",
    "n = x.shape[0]\n",
    "n_train = 640\n",
    "n_test = n - n_train\n",
    "\n",
    "rand_indices = numpy.random.permutation(n)\n",
    "train_indices = rand_indices[0:n_train]\n",
    "test_indices = rand_indices[n_train:n]\n",
    "\n",
    "x_train = x[train_indices, :]\n",
    "x_test = x[test_indices, :]\n",
    "y_train = y[train_indices].reshape(n_train, 1)\n",
    "y_test = y[test_indices].reshape(n_test, 1)\n",
    "\n",
    "print('Shape of x_train: ' + str(x_train.shape))\n",
    "print('Shape of x_test: ' + str(x_test.shape))\n",
    "print('Shape of y_train: ' + str(y_train.shape))\n",
    "print('Shape of y_test: ' + str(y_test.shape))"
   ]
  },
  {
   "cell_type": "markdown",
   "metadata": {},
   "source": [
    "## 1.3. Feature scaling"
   ]
  },
  {
   "cell_type": "markdown",
   "metadata": {},
   "source": [
    "Use the standardization to trainsform both training and test features"
   ]
  },
  {
   "cell_type": "code",
   "execution_count": 3,
   "metadata": {},
   "outputs": [
    {
     "name": "stdout",
     "output_type": "stream",
     "text": [
      "test mean = \n",
      "[[ 0.02709925  0.13108503  0.09608955 -0.1133642  -0.0060206  -0.11251127\n",
      "  -0.04744112  0.14193717]]\n",
      "test std = \n",
      "[[0.93724988 1.04968649 0.98881484 1.0289126  1.05030822 0.99520853\n",
      "  0.93488565 1.17978571]]\n"
     ]
    }
   ],
   "source": [
    "# Standardization\n",
    "import numpy\n",
    "\n",
    "# calculate mu and sig using the training set\n",
    "d = x_train.shape[1]\n",
    "mu = numpy.mean(x_train, axis=0).reshape(1, d)\n",
    "sig = numpy.std(x_train, axis=0).reshape(1, d)\n",
    "\n",
    "# transform the training features\n",
    "x_train = (x_train - mu) / (sig + 1E-6)\n",
    "\n",
    "# transform the test features\n",
    "x_test = (x_test - mu) / (sig + 1E-6)\n",
    "\n",
    "print('test mean = ')\n",
    "print(numpy.mean(x_test, axis=0))\n",
    "\n",
    "print('test std = ')\n",
    "print(numpy.std(x_test, axis=0))"
   ]
  },
  {
   "cell_type": "markdown",
   "metadata": {},
   "source": [
    "## 1.4. Add a dimension of all ones"
   ]
  },
  {
   "cell_type": "code",
   "execution_count": 4,
   "metadata": {},
   "outputs": [
    {
     "name": "stdout",
     "output_type": "stream",
     "text": [
      "Shape of x_train: (640, 9)\n",
      "Shape of x_test: (128, 9)\n"
     ]
    }
   ],
   "source": [
    "n_train, d = x_train.shape\n",
    "x_train = numpy.concatenate((x_train, numpy.ones((n_train, 1))), axis=1)\n",
    "\n",
    "n_test, d = x_test.shape\n",
    "x_test = numpy.concatenate((x_test, numpy.ones((n_test, 1))), axis=1)\n",
    "\n",
    "print('Shape of x_train: ' + str(x_train.shape))\n",
    "print('Shape of x_test: ' + str(x_test.shape))"
   ]
  },
  {
   "cell_type": "markdown",
   "metadata": {},
   "source": [
    "# 2. Logistic regression model\n",
    "\n",
    "The objective function is $Q (w; X, y) = \\frac{1}{n} \\sum_{i=1}^n \\log \\Big( 1 + \\exp \\big( - y_i x_i^T w \\big) \\Big) + \\frac{\\lambda}{2} \\| w \\|_2^2 $."
   ]
  },
  {
   "cell_type": "code",
   "execution_count": 5,
   "metadata": {},
   "outputs": [],
   "source": [
    "# Calculate the objective function value\n",
    "# Inputs:\n",
    "#     w: d-by-1 matrix\n",
    "#     x: n-by-d matrix\n",
    "#     y: n-by-1 matrix\n",
    "#     lam: scalar, the regularization parameter\n",
    "# Return:\n",
    "#     objective function value (scalar)\n",
    "def objective(w, x, y, lam):\n",
    "    n, d = x.shape\n",
    "    yx = numpy.multiply(y, x) # n-by-d matrix\n",
    "    yxw = numpy.dot(yx, w) # n-by-1 matrix\n",
    "    vec1 = numpy.exp(-yxw) # n-by-1 matrix\n",
    "    vec2 = numpy.log(1 + vec1) # n-by-1 matrix\n",
    "    loss = numpy.mean(vec2) # scalar\n",
    "    reg = lam / 2 * numpy.sum(w * w) # scalar\n",
    "    return loss + reg\n",
    "    "
   ]
  },
  {
   "cell_type": "code",
   "execution_count": 6,
   "metadata": {},
   "outputs": [
    {
     "name": "stdout",
     "output_type": "stream",
     "text": [
      "Initial objective function value = 0.6931471805599453\n"
     ]
    }
   ],
   "source": [
    "# initialize w\n",
    "d = x_train.shape[1]\n",
    "w = numpy.zeros((d, 1))\n",
    "\n",
    "# evaluate the objective function value at w\n",
    "lam = 1E-6\n",
    "objval0 = objective(w, x_train, y_train, lam)\n",
    "print('Initial objective function value = ' + str(objval0))"
   ]
  },
  {
   "cell_type": "markdown",
   "metadata": {},
   "source": [
    "# 3. Numerical optimization"
   ]
  },
  {
   "cell_type": "markdown",
   "metadata": {},
   "source": [
    "## 3.1. Gradient descent\n"
   ]
  },
  {
   "cell_type": "markdown",
   "metadata": {},
   "source": [
    "The gradient at $w$ is $g = - \\frac{1}{n} \\sum_{i=1}^n \\frac{y_i x_i }{1 + \\exp ( y_i x_i^T w)} + \\lambda w$"
   ]
  },
  {
   "cell_type": "code",
   "execution_count": 7,
   "metadata": {},
   "outputs": [],
   "source": [
    "# Calculate the gradient\n",
    "# Inputs:\n",
    "#     w: d-by-1 matrix\n",
    "#     x: n-by-d matrix\n",
    "#     y: n-by-1 matrix\n",
    "#     lam: scalar, the regularization parameter\n",
    "# Return:\n",
    "#     g: g: d-by-1 matrix, full gradient\n",
    "def gradient(w, x, y, lam):\n",
    "    n, d = x.shape\n",
    "    yx = numpy.multiply(y, x) # n-by-d matrix\n",
    "    yxw = numpy.dot(yx, w) # n-by-1 matrix\n",
    "    vec1 = numpy.exp(yxw) # n-by-1 matrix\n",
    "    vec2 = numpy.divide(yx, 1+vec1) # n-by-d matrix\n",
    "    vec3 = -numpy.mean(vec2, axis=0).reshape(d, 1) # d-by-1 matrix\n",
    "    g = vec3 + lam * w\n",
    "    return g"
   ]
  },
  {
   "cell_type": "code",
   "execution_count": 8,
   "metadata": {},
   "outputs": [],
   "source": [
    "# Gradient descent for solving logistic regression\n",
    "# Inputs:\n",
    "#     x: n-by-d matrix\n",
    "#     y: n-by-1 matrix\n",
    "#     lam: scalar, the regularization parameter\n",
    "#     stepsize: scalar\n",
    "#     max_iter: integer, the maximal iterations\n",
    "#     w: d-by-1 matrix, initialization of w\n",
    "# Return:\n",
    "#     w: d-by-1 matrix, the solution\n",
    "#     objvals: a record of each iteration's objective value\n",
    "def grad_descent(x, y, lam, stepsize, max_iter=100, w=None):\n",
    "    n, d = x.shape\n",
    "    objvals = numpy.zeros(max_iter) # store the objective values\n",
    "    if w is None:\n",
    "        w = numpy.zeros((d, 1)) # zero initialization\n",
    "    \n",
    "    for t in range(max_iter):\n",
    "        objval = objective(w, x, y, lam)\n",
    "        objvals[t] = objval\n",
    "        print('Objective value at t=' + str(t) + ' is ' + str(objval))\n",
    "        g = gradient(w, x, y, lam)\n",
    "        w -= stepsize * g\n",
    "    \n",
    "    return w, objvals"
   ]
  },
  {
   "cell_type": "markdown",
   "metadata": {},
   "source": [
    "Run gradient descent."
   ]
  },
  {
   "cell_type": "code",
   "execution_count": 9,
   "metadata": {},
   "outputs": [
    {
     "name": "stdout",
     "output_type": "stream",
     "text": [
      "Objective value at t=0 is 0.6931471805599453\n",
      "Objective value at t=1 is 0.5852853646032036\n",
      "Objective value at t=2 is 0.5418807039225398\n",
      "Objective value at t=3 is 0.5187140438633124\n",
      "Objective value at t=4 is 0.5043901695371327\n",
      "Objective value at t=5 is 0.4947945366203373\n",
      "Objective value at t=6 is 0.48804129461731505\n",
      "Objective value at t=7 is 0.4831265647060313\n",
      "Objective value at t=8 is 0.47946100697254657\n",
      "Objective value at t=9 is 0.4766747133427436\n",
      "Objective value at t=10 is 0.474524136963953\n",
      "Objective value at t=11 is 0.47284308395678587\n",
      "Objective value at t=12 is 0.47151492607899764\n",
      "Objective value at t=13 is 0.47045593716970857\n",
      "Objective value at t=14 is 0.469604858088214\n",
      "Objective value at t=15 is 0.46891613391727643\n",
      "Objective value at t=16 is 0.468355406742869\n",
      "Objective value at t=17 is 0.4678964404414406\n",
      "Objective value at t=18 is 0.46751897983099294\n",
      "Objective value at t=19 is 0.4672072337802501\n",
      "Objective value at t=20 is 0.4669487834424378\n",
      "Objective value at t=21 is 0.466733785320343\n",
      "Objective value at t=22 is 0.4665543820733027\n",
      "Objective value at t=23 is 0.46640426182141664\n",
      "Objective value at t=24 is 0.4662783250006887\n",
      "Objective value at t=25 is 0.46617243005827463\n",
      "Objective value at t=26 is 0.4660831975877703\n",
      "Objective value at t=27 is 0.46600785823091684\n",
      "Objective value at t=28 is 0.4659441336703816\n",
      "Objective value at t=29 is 0.46589014286437463\n",
      "Objective value at t=30 is 0.46584432769444556\n",
      "Objective value at t=31 is 0.46580539365803375\n",
      "Objective value at t=32 is 0.4657722623032757\n",
      "Objective value at t=33 is 0.4657440328890999\n",
      "Objective value at t=34 is 0.4657199513376814\n",
      "Objective value at t=35 is 0.46569938498425006\n",
      "Objective value at t=36 is 0.46568180196021525\n",
      "Objective value at t=37 is 0.46566675429756965\n",
      "Objective value at t=38 is 0.46565386403579767\n",
      "Objective value at t=39 is 0.4656428117616877\n",
      "Objective value at t=40 is 0.4656333271283505\n",
      "Objective value at t=41 is 0.4656251809903019\n",
      "Objective value at t=42 is 0.46561817886265344\n",
      "Objective value at t=43 is 0.4656121554686751\n",
      "Objective value at t=44 is 0.4656069701846452\n",
      "Objective value at t=45 is 0.46560250322651836\n",
      "Objective value at t=46 is 0.46559865245147286\n",
      "Objective value at t=47 is 0.46559533067037295\n",
      "Objective value at t=48 is 0.46559246338571597\n",
      "Objective value at t=49 is 0.46558998688468617\n",
      "Objective value at t=50 is 0.46558784662916286\n",
      "Objective value at t=51 is 0.46558599589452626\n",
      "Objective value at t=52 is 0.4655843946172778\n",
      "Objective value at t=53 is 0.465583008418212\n",
      "Objective value at t=54 is 0.4655818077734024\n",
      "Objective value at t=55 is 0.465580767309837\n",
      "Objective value at t=56 is 0.46557986520630834\n",
      "Objective value at t=57 is 0.4655790826833058\n",
      "Objective value at t=58 is 0.46557840356825664\n",
      "Objective value at t=59 is 0.46557781392463765\n",
      "Objective value at t=60 is 0.4655773017352835\n",
      "Objective value at t=61 is 0.4655768566317388\n",
      "Objective value at t=62 is 0.46557646966276506\n",
      "Objective value at t=63 is 0.4655761330961768\n",
      "Objective value at t=64 is 0.46557584024907533\n",
      "Objective value at t=65 is 0.4655755853423038\n",
      "Objective value at t=66 is 0.46557536337557226\n",
      "Objective value at t=67 is 0.46557517002024446\n",
      "Objective value at t=68 is 0.465575001527224\n",
      "Objective value at t=69 is 0.46557485464775994\n",
      "Objective value at t=70 is 0.4655747265653171\n",
      "Objective value at t=71 is 0.46557461483692625\n",
      "Objective value at t=72 is 0.46557451734266503\n",
      "Objective value at t=73 is 0.4655744322421168\n",
      "Objective value at t=74 is 0.4655743579368202\n",
      "Objective value at t=75 is 0.46557429303786746\n",
      "Objective value at t=76 is 0.4655742363379305\n",
      "Objective value at t=77 is 0.4655741867870955\n",
      "Objective value at t=78 is 0.4655741434719763\n",
      "Objective value at t=79 is 0.4655741055976535\n",
      "Objective value at t=80 is 0.46557407247204763\n",
      "Objective value at t=81 is 0.4655740434923925\n",
      "Objective value at t=82 is 0.46557401813352084\n",
      "Objective value at t=83 is 0.46557399593771354\n",
      "Objective value at t=84 is 0.46557397650590066\n",
      "Objective value at t=85 is 0.46557395949003116\n",
      "Objective value at t=86 is 0.46557394458645057\n",
      "Objective value at t=87 is 0.4655739315301547\n",
      "Objective value at t=88 is 0.46557392008979875\n",
      "Objective value at t=89 is 0.46557391006336096\n",
      "Objective value at t=90 is 0.4655739012743743\n",
      "Objective value at t=91 is 0.4655738935686502\n",
      "Objective value at t=92 is 0.46557388681142803\n",
      "Objective value at t=93 is 0.46557388088489576\n",
      "Objective value at t=94 is 0.46557387568603126\n",
      "Objective value at t=95 is 0.465573871124722\n",
      "Objective value at t=96 is 0.4655738671221285\n",
      "Objective value at t=97 is 0.46557386360925673\n",
      "Objective value at t=98 is 0.46557386052571487\n",
      "Objective value at t=99 is 0.4655738578186282\n"
     ]
    }
   ],
   "source": [
    "lam = 1E-6\n",
    "stepsize = 1.0\n",
    "w, objvals_gd = grad_descent(x_train, y_train, lam, stepsize)"
   ]
  },
  {
   "cell_type": "markdown",
   "metadata": {},
   "source": [
    "## 3.2. Stochastic gradient descent (SGD)\n",
    "\n",
    "Define $Q_i (w) = \\log \\Big( 1 + \\exp \\big( - y_i x_i^T w \\big) \\Big) + \\frac{\\lambda}{2} \\| w \\|_2^2 $.\n",
    "\n",
    "The stochastic gradient at $w$ is $g_i = \\frac{\\partial Q_i }{ \\partial w} = -\\frac{y_i x_i }{1 + \\exp ( y_i x_i^T w)} + \\lambda w$."
   ]
  },
  {
   "cell_type": "code",
   "execution_count": 10,
   "metadata": {},
   "outputs": [],
   "source": [
    "# Calculate the objective Q_i and the gradient of Q_i\n",
    "# Inputs:\n",
    "#     w: d-by-1 matrix\n",
    "#     xi: 1-by-d matrix\n",
    "#     yi: scalar\n",
    "#     lam: scalar, the regularization parameter\n",
    "# Return:\n",
    "#     obj: scalar, the objective Q_i\n",
    "#     g: d-by-1 matrix, gradient of Q_i\n",
    "def stochastic_objective_gradient(w, xi, yi, lam):\n",
    "    d = xi.shape[0]\n",
    "    yx = yi * xi # 1-by-d matrix\n",
    "    yxw = float(numpy.dot(yx, w)) # scalar\n",
    "    \n",
    "    # calculate objective function Q_i\n",
    "    loss = numpy.log(1 + numpy.exp(-yxw)) # scalar\n",
    "    reg = lam / 2 * numpy.sum(w * w) # scalar\n",
    "    obj = loss + reg\n",
    "    \n",
    "    # calculate stochastic gradient\n",
    "    g_loss = -yx.T / (1 + numpy.exp(yxw)) # d-by-1 matrix\n",
    "    g = g_loss + lam * w # d-by-1 matrix\n",
    "    \n",
    "    return obj, g"
   ]
  },
  {
   "cell_type": "code",
   "execution_count": 11,
   "metadata": {},
   "outputs": [],
   "source": [
    "# SGD for solving logistic regression\n",
    "# Inputs:\n",
    "#     x: n-by-d matrix\n",
    "#     y: n-by-1 matrix\n",
    "#     lam: scalar, the regularization parameter\n",
    "#     stepsize: scalar\n",
    "#     max_epoch: integer, the maximal epochs\n",
    "#     w: d-by-1 matrix, initialization of w\n",
    "# Return:\n",
    "#     w: the solution\n",
    "#     objvals: record of each iteration's objective value\n",
    "def sgd(x, y, lam, stepsize, max_epoch=100, w=None):\n",
    "    n, d = x.shape\n",
    "    objvals = numpy.zeros(max_epoch) # store the objective values\n",
    "    if w is None:\n",
    "        w = numpy.zeros((d, 1)) # zero initialization\n",
    "    \n",
    "    for t in range(max_epoch):\n",
    "        # randomly shuffle the samples\n",
    "        rand_indices = numpy.random.permutation(n)\n",
    "        x_rand = x[rand_indices, :]\n",
    "        y_rand = y[rand_indices, :]\n",
    "        \n",
    "        objval = 0 # accumulate the objective values\n",
    "        for i in range(n):\n",
    "            xi = x_rand[i, :] # 1-by-d matrix\n",
    "            yi = float(y_rand[i, :]) # scalar\n",
    "            obj, g = stochastic_objective_gradient(w, xi, yi, lam)\n",
    "            objval += obj\n",
    "            w -= stepsize * g\n",
    "        \n",
    "        stepsize *= 0.9 # decrease step size\n",
    "        objval /= n\n",
    "        objvals[t] = objval\n",
    "        print('Objective value at epoch t=' + str(t) + ' is ' + str(objval))\n",
    "    \n",
    "    return w, objvals"
   ]
  },
  {
   "cell_type": "markdown",
   "metadata": {},
   "source": [
    "Run SGD."
   ]
  },
  {
   "cell_type": "code",
   "execution_count": 12,
   "metadata": {},
   "outputs": [
    {
     "name": "stdout",
     "output_type": "stream",
     "text": [
      "Objective value at epoch t=0 is 0.5240230252515283\n",
      "Objective value at epoch t=1 is 0.5173773382729522\n",
      "Objective value at epoch t=2 is 0.5142629675448512\n",
      "Objective value at epoch t=3 is 0.5080273652947522\n",
      "Objective value at epoch t=4 is 0.503018741477364\n",
      "Objective value at epoch t=5 is 0.49976146706635305\n",
      "Objective value at epoch t=6 is 0.49182991217797467\n",
      "Objective value at epoch t=7 is 0.49186391226961507\n",
      "Objective value at epoch t=8 is 0.4872072353643125\n",
      "Objective value at epoch t=9 is 0.48682745391250554\n",
      "Objective value at epoch t=10 is 0.4810552935630878\n",
      "Objective value at epoch t=11 is 0.48351843793716964\n",
      "Objective value at epoch t=12 is 0.48351339213449973\n",
      "Objective value at epoch t=13 is 0.4808944358738853\n",
      "Objective value at epoch t=14 is 0.47525083547821445\n",
      "Objective value at epoch t=15 is 0.4776210126537902\n",
      "Objective value at epoch t=16 is 0.4787027783219928\n",
      "Objective value at epoch t=17 is 0.47640113393460365\n",
      "Objective value at epoch t=18 is 0.47534830458830246\n",
      "Objective value at epoch t=19 is 0.47403097135265365\n",
      "Objective value at epoch t=20 is 0.47211466349879494\n",
      "Objective value at epoch t=21 is 0.47424208599196904\n",
      "Objective value at epoch t=22 is 0.471329027189768\n",
      "Objective value at epoch t=23 is 0.4720371512272824\n",
      "Objective value at epoch t=24 is 0.4707951142404685\n",
      "Objective value at epoch t=25 is 0.47073775663557005\n",
      "Objective value at epoch t=26 is 0.4701879258788967\n",
      "Objective value at epoch t=27 is 0.46904755108978097\n",
      "Objective value at epoch t=28 is 0.46931226132091985\n",
      "Objective value at epoch t=29 is 0.4686711508389438\n",
      "Objective value at epoch t=30 is 0.4686973414364912\n",
      "Objective value at epoch t=31 is 0.46831993820777484\n",
      "Objective value at epoch t=32 is 0.4680724862557041\n",
      "Objective value at epoch t=33 is 0.46782749885940256\n",
      "Objective value at epoch t=34 is 0.46762800140168703\n",
      "Objective value at epoch t=35 is 0.46744846679171437\n",
      "Objective value at epoch t=36 is 0.4672560132885956\n",
      "Objective value at epoch t=37 is 0.46708232932099103\n",
      "Objective value at epoch t=38 is 0.4669446545592434\n",
      "Objective value at epoch t=39 is 0.46679947128081817\n",
      "Objective value at epoch t=40 is 0.4666483835636874\n",
      "Objective value at epoch t=41 is 0.4665766545290008\n",
      "Objective value at epoch t=42 is 0.4664748292803333\n",
      "Objective value at epoch t=43 is 0.4663851078154858\n",
      "Objective value at epoch t=44 is 0.4663037878888952\n",
      "Objective value at epoch t=45 is 0.46623243778427703\n",
      "Objective value at epoch t=46 is 0.4661680653872692\n",
      "Objective value at epoch t=47 is 0.46611016275940187\n",
      "Objective value at epoch t=48 is 0.46605529868928686\n",
      "Objective value at epoch t=49 is 0.4660083771153233\n",
      "Objective value at epoch t=50 is 0.4659642641708837\n",
      "Objective value at epoch t=51 is 0.46592616346712745\n",
      "Objective value at epoch t=52 is 0.4658915779775182\n",
      "Objective value at epoch t=53 is 0.4658600382469924\n",
      "Objective value at epoch t=54 is 0.4658304253422655\n",
      "Objective value at epoch t=55 is 0.46580493059964023\n",
      "Objective value at epoch t=56 is 0.4657814088310814\n",
      "Objective value at epoch t=57 is 0.46576151557735523\n",
      "Objective value at epoch t=58 is 0.465742508860359\n",
      "Objective value at epoch t=59 is 0.4657255828703356\n",
      "Objective value at epoch t=60 is 0.46571040841446437\n",
      "Objective value at epoch t=61 is 0.4656969572063427\n",
      "Objective value at epoch t=62 is 0.46568459002271945\n",
      "Objective value at epoch t=63 is 0.46567381725352935\n",
      "Objective value at epoch t=64 is 0.4656638291491748\n",
      "Objective value at epoch t=65 is 0.4656548903269117\n",
      "Objective value at epoch t=66 is 0.4656467142801488\n",
      "Objective value at epoch t=67 is 0.46563952592497093\n",
      "Objective value at epoch t=68 is 0.4656329444198283\n",
      "Objective value at epoch t=69 is 0.46562699471619473\n",
      "Objective value at epoch t=70 is 0.4656217184116045\n",
      "Objective value at epoch t=71 is 0.4656169288339168\n",
      "Objective value at epoch t=72 is 0.46561264677177033\n",
      "Objective value at epoch t=73 is 0.4656087858715467\n",
      "Objective value at epoch t=74 is 0.465605319584942\n",
      "Objective value at epoch t=75 is 0.4656021731704819\n",
      "Objective value at epoch t=76 is 0.4655993439534057\n",
      "Objective value at epoch t=77 is 0.46559680643408463\n",
      "Objective value at epoch t=78 is 0.465594517809303\n",
      "Objective value at epoch t=79 is 0.46559246070340493\n",
      "Objective value at epoch t=80 is 0.4655906016093879\n",
      "Objective value at epoch t=81 is 0.4655889379522361\n",
      "Objective value at epoch t=82 is 0.4655874347322029\n",
      "Objective value at epoch t=83 is 0.46558608566173926\n",
      "Objective value at epoch t=84 is 0.46558486843321595\n",
      "Objective value at epoch t=85 is 0.46558377384812266\n",
      "Objective value at epoch t=86 is 0.4655827888905099\n",
      "Objective value at epoch t=87 is 0.4655819007658805\n",
      "Objective value at epoch t=88 is 0.4655811041591158\n",
      "Objective value at epoch t=89 is 0.46558038547201364\n",
      "Objective value at epoch t=90 is 0.4655797382081593\n",
      "Objective value at epoch t=91 is 0.4655791567138913\n",
      "Objective value at epoch t=92 is 0.4655786331767694\n",
      "Objective value at epoch t=93 is 0.46557816198267393\n",
      "Objective value at epoch t=94 is 0.4655777375756259\n",
      "Objective value at epoch t=95 is 0.4655773558091038\n",
      "Objective value at epoch t=96 is 0.46557701201822094\n",
      "Objective value at epoch t=97 is 0.46557670282218266\n",
      "Objective value at epoch t=98 is 0.4655764244987132\n",
      "Objective value at epoch t=99 is 0.46557617388123934\n"
     ]
    }
   ],
   "source": [
    "lam = 1E-6\n",
    "stepsize = 0.1\n",
    "w, objvals_sgd = sgd(x_train, y_train, lam, stepsize)"
   ]
  },
  {
   "cell_type": "markdown",
   "metadata": {},
   "source": [
    "# 4. Compare GD with SGD\n",
    "\n",
    "Plot objective function values against epochs."
   ]
  },
  {
   "cell_type": "code",
   "execution_count": 13,
   "metadata": {},
   "outputs": [
    {
     "data": {
      "image/png": "[encoded data removed]",
      "text/plain": [
       "<Figure size 432x288 with 1 Axes>"
      ]
     },
     "metadata": {
      "needs_background": "light"
     },
     "output_type": "display_data"
    }
   ],
   "source": [
    "import matplotlib.pyplot as plt\n",
    "%matplotlib inline\n",
    "\n",
    "fig = plt.figure(figsize=(6, 4))\n",
    "\n",
    "epochs_gd = range(len(objvals_gd))\n",
    "epochs_sgd = range(len(objvals_sgd))\n",
    "\n",
    "line0, = plt.plot(epochs_gd, objvals_gd, '--b', LineWidth=4)\n",
    "line1, = plt.plot(epochs_sgd, objvals_sgd, '-r', LineWidth=2)\n",
    "plt.xlabel('Epochs', FontSize=20)\n",
    "plt.ylabel('Objective Value', FontSize=20)\n",
    "plt.xticks(FontSize=16)\n",
    "plt.yticks(FontSize=16)\n",
    "plt.legend([line0, line1], ['GD', 'SGD'], fontsize=20)\n",
    "plt.tight_layout()\n",
    "plt.show()\n",
    "fig.savefig('compare_gd_sgd.pdf', format='pdf', dpi=1200)"
   ]
  },
  {
   "cell_type": "markdown",
   "metadata": {},
   "source": [
    "# 5. Prediction"
   ]
  },
  {
   "cell_type": "code",
   "execution_count": 14,
   "metadata": {},
   "outputs": [],
   "source": [
    "# Predict class label\n",
    "# Inputs:\n",
    "#     w: d-by-1 matrix\n",
    "#     X: m-by-d matrix\n",
    "# Return:\n",
    "#     f: m-by-1 matrix, the predictions\n",
    "def predict(w, X):\n",
    "    xw = numpy.dot(X, w)\n",
    "    f = numpy.sign(xw)\n",
    "    return f"
   ]
  },
  {
   "cell_type": "code",
   "execution_count": 15,
   "metadata": {},
   "outputs": [
    {
     "name": "stdout",
     "output_type": "stream",
     "text": [
      "Training classification error is 0.2265625\n"
     ]
    }
   ],
   "source": [
    "# evaluate training error\n",
    "f_train = predict(w, x_train)\n",
    "diff = numpy.abs(f_train - y_train) / 2\n",
    "error_train = numpy.mean(diff)\n",
    "print('Training classification error is ' + str(error_train))"
   ]
  },
  {
   "cell_type": "code",
   "execution_count": 16,
   "metadata": {},
   "outputs": [
    {
     "name": "stdout",
     "output_type": "stream",
     "text": [
      "Test classification error is 0.1953125\n"
     ]
    }
   ],
   "source": [
    "# evaluate test error\n",
    "f_test = predict(w, x_test)\n",
    "diff = numpy.abs(f_test - y_test) / 2\n",
    "error_test = numpy.mean(diff)\n",
    "print('Test classification error is ' + str(error_test))"
   ]
  },
  {
   "cell_type": "markdown",
   "metadata": {},
   "source": [
    "# 6. Mini-batch SGD (fill the code)\n",
    "\n"
   ]
  },
  {
   "cell_type": "markdown",
   "metadata": {},
   "source": [
    "## 6.1. Compute the objective $Q_I$ and its gradient using a batch of samples\n",
    "\n",
    "Define $Q_I (w) = \\frac{1}{b} \\sum_{i \\in I} \\log \\Big( 1 + \\exp \\big( - y_i x_i^T w \\big) \\Big) + \\frac{\\lambda}{2} \\| w \\|_2^2 $, where $I$ is a set containing $b$ indices randomly drawn from $\\{ 1, \\cdots , n \\}$ without replacement.\n",
    "\n",
    "The stochastic gradient at $w$ is $g_I = \\frac{\\partial Q_I }{ \\partial w} = \\frac{1}{b} \\sum_{i \\in I} \\frac{- y_i x_i }{1 + \\exp ( y_i x_i^T w)} + \\lambda w$."
   ]
  },
  {
   "cell_type": "code",
   "execution_count": 17,
   "metadata": {},
   "outputs": [],
   "source": [
    "# Calculate the objective Q_I and the gradient of Q_I\n",
    "# Inputs:\n",
    "#     w: d-by-1 matrix\n",
    "#     xi: b-by-d matrix\n",
    "#     yi: b-by-1 matrix\n",
    "#     lam: scalar, the regularization parameter\n",
    "#     b: integer, the batch size\n",
    "# Return:\n",
    "#     obj: scalar, the objective Q_i\n",
    "#     g: d-by-1 matrix, gradient of Q_i\n",
    "def mb_stochastic_objective_gradient(w, xi, yi, lam, b):\n",
    "    b, d = xi.shape\n",
    "    yx = numpy.multiply(yi,xi) # b by d matrix\n",
    "    yxw = numpy.dot(yx,w) # b by 1 vector\n",
    "    vec1 = numpy.exp(-1 * yxw) \n",
    "    vec2 = numpy.log(1+vec1) \n",
    "    loss = numpy.mean(vec2)\n",
    "    reg = lam / 2 * numpy.sum(w * w)\n",
    "    obj = loss + reg\n",
    "    \n",
    "    g_vec = -yx / (1 + numpy.exp(yxw))\n",
    "    g = numpy.mean(g_vec,axis=0).reshape(d,1)\n",
    "    g += lam * w\n",
    "    \n",
    "    return obj, g"
   ]
  },
  {
   "cell_type": "markdown",
   "metadata": {},
   "source": [
    "## 6.2. Implement mini-batch SGD\n",
    "\n",
    "Hints:\n",
    "1. In every epoch, randomly permute the $n$ samples (just like SGD).\n",
    "2. Each epoch has $\\frac{n}{b}$ iterations. In every iteration, use $b$ samples, and compute the gradient and objective using the ``mb_stochastic_objective_gradient`` function. In the next iteration, use the next $b$ samples, and so on.\n"
   ]
  },
  {
   "cell_type": "code",
   "execution_count": 28,
   "metadata": {},
   "outputs": [],
   "source": [
    "# Mini-Batch SGD for solving logistic regression\n",
    "# Inputs:\n",
    "#     x: n-by-d matrix\n",
    "#     y: n-by-1 matrix\n",
    "#     lam: scalar, the regularization parameter\n",
    "#     b: integer, the batch size\n",
    "#     stepsize: scalar\n",
    "#     max_epoch: integer, the maximal epochs\n",
    "#     w: d-by-1 matrix, initialization of w\n",
    "# Return:\n",
    "#     w: the solution\n",
    "#     objvals: record of each iteration's objective value\n",
    "def mb_sgd(x, y, lam, b, stepsize, max_epoch=100, w=None):\n",
    "    # Fill the function\n",
    "    # Follow the implementation of sgd\n",
    "    # Record one objective value per epoch (not per iteration!)\n",
    "    n,d = x.shape\n",
    "    objvals = []\n",
    "    \n",
    "    chunks = n // b\n",
    "    # in the case of bad chunk size\n",
    "    if n % b != 0:\n",
    "        chunks += 1\n",
    "    \n",
    "    # intialization to 0\n",
    "    if w == None:\n",
    "        w = numpy.zeros((d,1))\n",
    "    # iterate through max_epochs\n",
    "    for t in range(max_epoch):\n",
    "        # randomly shuffle the training data and labels\n",
    "        epoch_obj = 0\n",
    "        rand_indices = numpy.random.permutation(n)\n",
    "        x_rand = x[rand_indices, :]\n",
    "        y_rand = y[rand_indices, :]\n",
    "        # divide into minibatches and get the gradient and objval\n",
    "        for i in range(chunks):\n",
    "            # start and stop for the batch\n",
    "            start = i * b\n",
    "            end = (i+1) * b\n",
    "            # acquire a minibatch\n",
    "            xi = x_rand[start:end,:]\n",
    "            yi = y_rand[start:end,:]\n",
    "            \n",
    "            obj, gradient = mb_stochastic_objective_gradient(w,xi,yi,lam,b)\n",
    "            \n",
    "            #update obj_val and gradient\n",
    "            epoch_obj += obj\n",
    "            w -= stepsize * gradient\n",
    "        stepsize *= .9\n",
    "        epoch_obj /= chunks\n",
    "        objvals.append(epoch_obj)\n",
    "        print('Objective value at epoch t=' + str(t) + ' is ' + str(epoch_obj))\n",
    "        \n",
    "    return w, objvals"
   ]
  },
  {
   "cell_type": "markdown",
   "metadata": {},
   "source": [
    "## 6.3. Run MB-SGD"
   ]
  },
  {
   "cell_type": "code",
   "execution_count": 29,
   "metadata": {},
   "outputs": [
    {
     "name": "stdout",
     "output_type": "stream",
     "text": [
      "Objective value at epoch t=0 is 0.5082033885025725\n",
      "Objective value at epoch t=1 is 0.4913214325475795\n",
      "Objective value at epoch t=2 is 0.4918284170486203\n",
      "Objective value at epoch t=3 is 0.48398856484139285\n",
      "Objective value at epoch t=4 is 0.4845295946613314\n",
      "Objective value at epoch t=5 is 0.4825071931556252\n",
      "Objective value at epoch t=6 is 0.48440354364028765\n",
      "Objective value at epoch t=7 is 0.48140617776729105\n",
      "Objective value at epoch t=8 is 0.47976024442403\n",
      "Objective value at epoch t=9 is 0.47685092547214813\n",
      "Objective value at epoch t=10 is 0.4733542585760676\n",
      "Objective value at epoch t=11 is 0.47550846914432504\n",
      "Objective value at epoch t=12 is 0.47281392345462764\n",
      "Objective value at epoch t=13 is 0.47437535814031684\n",
      "Objective value at epoch t=14 is 0.47289681982764187\n",
      "Objective value at epoch t=15 is 0.47211522755473323\n",
      "Objective value at epoch t=16 is 0.47201356868753325\n",
      "Objective value at epoch t=17 is 0.4712062662823867\n",
      "Objective value at epoch t=18 is 0.4706175178879984\n",
      "Objective value at epoch t=19 is 0.4700556448789843\n",
      "Objective value at epoch t=20 is 0.4696584673169881\n",
      "Objective value at epoch t=21 is 0.4700979419218362\n",
      "Objective value at epoch t=22 is 0.4692394519860196\n",
      "Objective value at epoch t=23 is 0.4690373097797834\n",
      "Objective value at epoch t=24 is 0.46818154207042895\n",
      "Objective value at epoch t=25 is 0.4680347842352915\n",
      "Objective value at epoch t=26 is 0.46766593355515207\n",
      "Objective value at epoch t=27 is 0.467721589426501\n",
      "Objective value at epoch t=28 is 0.4675130020376243\n",
      "Objective value at epoch t=29 is 0.46730978298082915\n",
      "Objective value at epoch t=30 is 0.4671482014930911\n",
      "Objective value at epoch t=31 is 0.466990604355275\n",
      "Objective value at epoch t=32 is 0.46683501280987416\n",
      "Objective value at epoch t=33 is 0.46669270310024025\n",
      "Objective value at epoch t=34 is 0.46657762711246464\n",
      "Objective value at epoch t=35 is 0.46639596471121514\n",
      "Objective value at epoch t=36 is 0.46642546371949284\n",
      "Objective value at epoch t=37 is 0.4663177081596855\n",
      "Objective value at epoch t=38 is 0.46625563815589705\n",
      "Objective value at epoch t=39 is 0.46619257228943656\n",
      "Objective value at epoch t=40 is 0.4661496717681479\n",
      "Objective value at epoch t=41 is 0.4661133698727446\n",
      "Objective value at epoch t=42 is 0.46600181739827856\n",
      "Objective value at epoch t=43 is 0.465973734413258\n",
      "Objective value at epoch t=44 is 0.46592133151191295\n",
      "Objective value at epoch t=45 is 0.46591185057193424\n",
      "Objective value at epoch t=46 is 0.46585282386930305\n",
      "Objective value at epoch t=47 is 0.4658328346195974\n",
      "Objective value at epoch t=48 is 0.4657753540588777\n",
      "Objective value at epoch t=49 is 0.4657841007009112\n",
      "Objective value at epoch t=50 is 0.46575072243333837\n",
      "Objective value at epoch t=51 is 0.4657560273165203\n",
      "Objective value at epoch t=52 is 0.46573457147544844\n",
      "Objective value at epoch t=53 is 0.4657109486912761\n",
      "Objective value at epoch t=54 is 0.4657023788338302\n",
      "Objective value at epoch t=55 is 0.4656871925338435\n",
      "Objective value at epoch t=56 is 0.4656745837677766\n",
      "Objective value at epoch t=57 is 0.4656778167771076\n",
      "Objective value at epoch t=58 is 0.4656555871758514\n",
      "Objective value at epoch t=59 is 0.46564798034750937\n",
      "Objective value at epoch t=60 is 0.46564094187876737\n",
      "Objective value at epoch t=61 is 0.4656371666697131\n",
      "Objective value at epoch t=62 is 0.46562910889516707\n",
      "Objective value at epoch t=63 is 0.4656204182826585\n",
      "Objective value at epoch t=64 is 0.4656176729464601\n",
      "Objective value at epoch t=65 is 0.465613926213571\n",
      "Objective value at epoch t=66 is 0.4656104598112855\n",
      "Objective value at epoch t=67 is 0.46560647539597355\n",
      "Objective value at epoch t=68 is 0.4656051249053427\n",
      "Objective value at epoch t=69 is 0.4656049987151968\n",
      "Objective value at epoch t=70 is 0.4655990276218164\n",
      "Objective value at epoch t=71 is 0.4655968805678373\n",
      "Objective value at epoch t=72 is 0.4655935486203039\n",
      "Objective value at epoch t=73 is 0.4655895415318021\n",
      "Objective value at epoch t=74 is 0.4655906306959137\n",
      "Objective value at epoch t=75 is 0.465586667910377\n",
      "Objective value at epoch t=76 is 0.4655865891007734\n",
      "Objective value at epoch t=77 is 0.4655850491063111\n",
      "Objective value at epoch t=78 is 0.4655839691735352\n",
      "Objective value at epoch t=79 is 0.46558245197215\n",
      "Objective value at epoch t=80 is 0.4655820403785131\n",
      "Objective value at epoch t=81 is 0.4655814430267927\n",
      "Objective value at epoch t=82 is 0.4655809878038871\n",
      "Objective value at epoch t=83 is 0.46558050967846054\n",
      "Objective value at epoch t=84 is 0.4655793263112222\n",
      "Objective value at epoch t=85 is 0.4655789137126769\n",
      "Objective value at epoch t=86 is 0.4655783692637915\n",
      "Objective value at epoch t=87 is 0.46557800813722333\n",
      "Objective value at epoch t=88 is 0.46557735187944227\n",
      "Objective value at epoch t=89 is 0.4655770942854459\n",
      "Objective value at epoch t=90 is 0.4655767975766886\n",
      "Objective value at epoch t=91 is 0.4655766968156474\n",
      "Objective value at epoch t=92 is 0.4655764479257569\n",
      "Objective value at epoch t=93 is 0.4655759900836677\n",
      "Objective value at epoch t=94 is 0.46557594193374136\n",
      "Objective value at epoch t=95 is 0.46557555587506566\n",
      "Objective value at epoch t=96 is 0.4655755061540017\n",
      "Objective value at epoch t=97 is 0.46557523218121766\n",
      "Objective value at epoch t=98 is 0.46557521695085013\n",
      "Objective value at epoch t=99 is 0.46557504395791727\n"
     ]
    }
   ],
   "source": [
    "# MB-SGD with batch size b=8\n",
    "lam = 1E-6 # do not change\n",
    "b = 8 # do not change\n",
    "stepsize = 0.4 # you must tune this parameter\n",
    "\n",
    "w, objvals_mbsgd8 = mb_sgd(x_train, y_train, lam, b, stepsize)"
   ]
  },
  {
   "cell_type": "code",
   "execution_count": 30,
   "metadata": {},
   "outputs": [
    {
     "name": "stdout",
     "output_type": "stream",
     "text": [
      "Objective value at epoch t=0 is 0.5434313219780601\n",
      "Objective value at epoch t=1 is 0.4796310754560345\n",
      "Objective value at epoch t=2 is 0.47798294742658143\n",
      "Objective value at epoch t=3 is 0.47316310951549256\n",
      "Objective value at epoch t=4 is 0.4752205234331499\n",
      "Objective value at epoch t=5 is 0.4730061386718954\n",
      "Objective value at epoch t=6 is 0.4694357766245772\n",
      "Objective value at epoch t=7 is 0.4696935370081616\n",
      "Objective value at epoch t=8 is 0.47015159104155935\n",
      "Objective value at epoch t=9 is 0.4697772804742435\n",
      "Objective value at epoch t=10 is 0.4687935958331478\n",
      "Objective value at epoch t=11 is 0.46927532691050605\n",
      "Objective value at epoch t=12 is 0.4689217425462385\n",
      "Objective value at epoch t=13 is 0.46772692672518207\n",
      "Objective value at epoch t=14 is 0.4684141256370625\n",
      "Objective value at epoch t=15 is 0.4676238195551309\n",
      "Objective value at epoch t=16 is 0.46821364996616144\n",
      "Objective value at epoch t=17 is 0.46739274224237626\n",
      "Objective value at epoch t=18 is 0.46734855971908085\n",
      "Objective value at epoch t=19 is 0.4671315907253758\n",
      "Objective value at epoch t=20 is 0.4668065876268156\n",
      "Objective value at epoch t=21 is 0.4664815795941153\n",
      "Objective value at epoch t=22 is 0.4666006495897744\n",
      "Objective value at epoch t=23 is 0.4665377924876467\n",
      "Objective value at epoch t=24 is 0.4663075231717456\n",
      "Objective value at epoch t=25 is 0.4665451330125624\n",
      "Objective value at epoch t=26 is 0.4661793309534902\n",
      "Objective value at epoch t=27 is 0.4662835348259162\n",
      "Objective value at epoch t=28 is 0.4659872458590467\n",
      "Objective value at epoch t=29 is 0.4660059722242438\n",
      "Objective value at epoch t=30 is 0.46607952442767464\n",
      "Objective value at epoch t=31 is 0.4659792511440067\n",
      "Objective value at epoch t=32 is 0.46585995869762664\n",
      "Objective value at epoch t=33 is 0.46589101137748024\n",
      "Objective value at epoch t=34 is 0.46577615285268587\n",
      "Objective value at epoch t=35 is 0.46584203311666156\n",
      "Objective value at epoch t=36 is 0.4658601617124007\n",
      "Objective value at epoch t=37 is 0.46580134993409394\n",
      "Objective value at epoch t=38 is 0.4657483174312115\n",
      "Objective value at epoch t=39 is 0.4656954527607538\n",
      "Objective value at epoch t=40 is 0.46571489480981015\n",
      "Objective value at epoch t=41 is 0.4657022661136396\n",
      "Objective value at epoch t=42 is 0.46568640436314634\n",
      "Objective value at epoch t=43 is 0.4656969586674499\n",
      "Objective value at epoch t=44 is 0.46568417940191387\n",
      "Objective value at epoch t=45 is 0.46566120509661796\n",
      "Objective value at epoch t=46 is 0.4656954112882394\n",
      "Objective value at epoch t=47 is 0.46562973942960745\n",
      "Objective value at epoch t=48 is 0.4656431012765963\n",
      "Objective value at epoch t=49 is 0.46563331469017444\n",
      "Objective value at epoch t=50 is 0.46563137617365796\n",
      "Objective value at epoch t=51 is 0.4656180019977598\n",
      "Objective value at epoch t=52 is 0.46560690956822437\n",
      "Objective value at epoch t=53 is 0.46561522844617526\n",
      "Objective value at epoch t=54 is 0.46562376214356654\n",
      "Objective value at epoch t=55 is 0.46561297889175474\n",
      "Objective value at epoch t=56 is 0.46560659750576977\n",
      "Objective value at epoch t=57 is 0.46560332403311644\n",
      "Objective value at epoch t=58 is 0.4655903918849442\n",
      "Objective value at epoch t=59 is 0.46560844588865713\n",
      "Objective value at epoch t=60 is 0.4655901787485865\n",
      "Objective value at epoch t=61 is 0.4655861551890079\n",
      "Objective value at epoch t=62 is 0.46558911514647267\n",
      "Objective value at epoch t=63 is 0.46558672629472914\n",
      "Objective value at epoch t=64 is 0.46558772269349086\n",
      "Objective value at epoch t=65 is 0.4655875022301756\n",
      "Objective value at epoch t=66 is 0.46558430844451226\n",
      "Objective value at epoch t=67 is 0.465582696514199\n",
      "Objective value at epoch t=68 is 0.4655840716599677\n",
      "Objective value at epoch t=69 is 0.4655818994025448\n",
      "Objective value at epoch t=70 is 0.4655794636188479\n",
      "Objective value at epoch t=71 is 0.46558191311623737\n",
      "Objective value at epoch t=72 is 0.4655806245892327\n",
      "Objective value at epoch t=73 is 0.4655786874016348\n",
      "Objective value at epoch t=74 is 0.465577996451305\n",
      "Objective value at epoch t=75 is 0.46557899863799596\n",
      "Objective value at epoch t=76 is 0.4655778680391994\n",
      "Objective value at epoch t=77 is 0.4655767853174644\n",
      "Objective value at epoch t=78 is 0.46557719003777115\n",
      "Objective value at epoch t=79 is 0.46557765038984533\n",
      "Objective value at epoch t=80 is 0.4655764336873672\n",
      "Objective value at epoch t=81 is 0.4655769778673295\n",
      "Objective value at epoch t=82 is 0.4655764980577698\n",
      "Objective value at epoch t=83 is 0.46557564518734224\n",
      "Objective value at epoch t=84 is 0.4655758369641415\n",
      "Objective value at epoch t=85 is 0.46557587664858896\n",
      "Objective value at epoch t=86 is 0.4655755133734524\n",
      "Objective value at epoch t=87 is 0.4655753779738358\n",
      "Objective value at epoch t=88 is 0.46557547132563765\n",
      "Objective value at epoch t=89 is 0.4655751159952957\n",
      "Objective value at epoch t=90 is 0.4655750945210211\n",
      "Objective value at epoch t=91 is 0.4655750541926368\n",
      "Objective value at epoch t=92 is 0.46557476763290245\n",
      "Objective value at epoch t=93 is 0.46557480191326606\n",
      "Objective value at epoch t=94 is 0.46557476486563554\n",
      "Objective value at epoch t=95 is 0.4655747487580496\n",
      "Objective value at epoch t=96 is 0.4655746799209857\n",
      "Objective value at epoch t=97 is 0.4655746014813754\n",
      "Objective value at epoch t=98 is 0.4655745606156481\n",
      "Objective value at epoch t=99 is 0.46557460145692786\n"
     ]
    }
   ],
   "source": [
    "# MB-SGD with batch size b=64\n",
    "lam = 1E-6 # do not change\n",
    "b = 64 # do not change\n",
    "stepsize = 1.0 # you must tune this parameter\n",
    "\n",
    "w, objvals_mbsgd64 = mb_sgd(x_train, y_train, lam, b, stepsize)"
   ]
  },
  {
   "cell_type": "markdown",
   "metadata": {},
   "source": [
    "# 7. Plot and compare GD, SGD, and MB-SGD"
   ]
  },
  {
   "cell_type": "markdown",
   "metadata": {},
   "source": [
    "You are required to compare the following algorithms:\n",
    "\n",
    "- Gradient descent (GD)\n",
    "\n",
    "- SGD\n",
    "\n",
    "- MB-SGD with b=8\n",
    "\n",
    "- MB-SGD with b=64\n",
    "\n",
    "Follow the code in Section 4 to plot ```objective function value``` against ```epochs```. There should be four curves in the plot; each curve corresponds to one algorithm."
   ]
  },
  {
   "cell_type": "markdown",
   "metadata": {},
   "source": [
    "Hint: Logistic regression with $\\ell_2$-norm regularization is a strongly convex optimization problem. All the algorithms will converge to the same solution. **In the end, the ``objective function value`` of the 4 algorithms will be the same. If not the same, your implementation must be wrong. Do NOT submit wrong code and wrong result!**"
   ]
  },
  {
   "cell_type": "code",
   "execution_count": 32,
   "metadata": {},
   "outputs": [
    {
     "data": {
      "image/png": "[encoded data removed]",
      "text/plain": [
       "<Figure size 432x288 with 1 Axes>"
      ]
     },
     "metadata": {
      "needs_background": "light"
     },
     "output_type": "display_data"
    }
   ],
   "source": [
    "# plot the 4 curves:\n",
    "import matplotlib.pyplot as plt\n",
    "%matplotlib inline\n",
    "\n",
    "fig = plt.figure(figsize=(6, 4))\n",
    "\n",
    "epochs_gd = range(len(objvals_gd))\n",
    "epochs_sgd = range(len(objvals_sgd))\n",
    "epochs_mb_8 = range(len(objvals_mbsgd8))\n",
    "epochs_mb_64 = range(len(objvals_mbsgd64))\n",
    "\n",
    "line0, = plt.plot(epochs_gd, objvals_gd, '--b', LineWidth=4)\n",
    "line1, = plt.plot(epochs_sgd, objvals_sgd, '-r', LineWidth=1)\n",
    "line2, = plt.plot(epochs_mb_8, objvals_mbsgd8, '-g', LineWidth=2)\n",
    "line3, = plt.plot(epochs_mb_64, objvals_mbsgd64, '-m', LineWidth=2)\n",
    "\n",
    "plt.xlabel('Epochs', FontSize=20)\n",
    "plt.ylabel('Objective Value', FontSize=20)\n",
    "plt.xticks(FontSize=16)\n",
    "plt.yticks(FontSize=16)\n",
    "plt.legend([line0, line1,line2,line3], ['GD', 'SGD','MB_8','MB_64'], fontsize=20)\n",
    "plt.tight_layout()\n",
    "plt.show()\n",
    "fig.savefig('compare_gd_sgd_mb8_mb64.pdf', format='pdf', dpi=1200)"
   ]
  },
  {
   "cell_type": "markdown",
   "metadata": {},
   "source": []
  }
 ],
 "metadata": {
  "kernelspec": {
   "display_name": "Python 3",
   "language": "python",
   "name": "python3"
  },
  "language_info": {
   "codemirror_mode": {
    "name": "ipython",
    "version": 3
   },
   "file_extension": ".py",
   "mimetype": "text/x-python",
   "name": "python",
   "nbconvert_exporter": "python",
   "pygments_lexer": "ipython3",
   "version": "3.7.4"
  }
 },
 "nbformat": 4,
 "nbformat_minor": 2
}
