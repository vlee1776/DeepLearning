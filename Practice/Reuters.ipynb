{
 "cells": [
  {
   "cell_type": "code",
   "execution_count": 1,
   "metadata": {},
   "outputs": [
    {
     "name": "stderr",
     "output_type": "stream",
     "text": [
      "Using TensorFlow backend.\n"
     ]
    }
   ],
   "source": [
    "from keras.datasets import reuters\n",
    "\n",
    "(train_data, train_labels), (test_data, test_labels) = reuters.load_data( num_words=10000)"
   ]
  },
  {
   "cell_type": "code",
   "execution_count": 2,
   "metadata": {},
   "outputs": [
    {
     "name": "stdout",
     "output_type": "stream",
     "text": [
      "? generale de banque sa lt ? br and lt heller overseas corp of chicago have each taken 50 pct stakes in ? company sa ? factors generale de banque said in a statement it gave no financial details of the transaction sa ? ? turnover in 1986 was 17 5 billion belgian francs reuter 3\n"
     ]
    }
   ],
   "source": [
    "word_index = reuters.get_word_index()\n",
    "\n",
    "reverse_word_index = dict([(value,key) for (key,value) in word_index.items()])\n",
    "translation = ' '.join([reverse_word_index.get(index-3,'?') for index in train_data[1]])\n",
    "print(translation)"
   ]
  },
  {
   "cell_type": "code",
   "execution_count": 3,
   "metadata": {},
   "outputs": [],
   "source": [
    "import numpy as np\n",
    "def vectorize_sequences(sequences, dimensions=10000):\n",
    "    result = np.zeros((len(sequences),dimensions))\n",
    "    for index, sequence in enumerate(sequences):\n",
    "        result[index,sequence] = 1.\n",
    "    return result\n",
    "x_train = vectorize_sequences(train_data)\n",
    "x_test = vectorize_sequences(test_data)"
   ]
  },
  {
   "cell_type": "code",
   "execution_count": 4,
   "metadata": {},
   "outputs": [],
   "source": [
    "def to_one_hot(labels, dimension=46):\n",
    "    results = np.zeros((len(labels), dimension)) \n",
    "    for i, label in enumerate(labels):\n",
    "        results[i, label] = 1. \n",
    "    return results\n",
    "\n",
    "one_hot_train_labels = to_one_hot(train_labels)\n",
    "one_hot_test_labels = to_one_hot(test_labels)"
   ]
  },
  {
   "cell_type": "code",
   "execution_count": 50,
   "metadata": {},
   "outputs": [],
   "source": [
    "from keras import models \n",
    "from keras import layers\n",
    "\n",
    "model = models.Sequential()\n",
    "model.add(layers.Dense(64,activation='relu', input_shape=(10000,) ))\n",
    "#model.add(layers.Dense(128,activation='relu'))\n",
    "model.add(layers.Dense(46,activation='softmax'))"
   ]
  },
  {
   "cell_type": "code",
   "execution_count": 51,
   "metadata": {},
   "outputs": [],
   "source": [
    "model.compile(optimizer='rmsprop', loss='categorical_crossentropy', metrics=['accuracy'])"
   ]
  },
  {
   "cell_type": "code",
   "execution_count": 52,
   "metadata": {},
   "outputs": [],
   "source": [
    "validation_x = x_train[:1000]\n",
    "partial_x = x_train[1000:]\n",
    "validation_y = one_hot_train_labels[:1000]\n",
    "partial_y = one_hot_train_labels[1000:]"
   ]
  },
  {
   "cell_type": "code",
   "execution_count": 53,
   "metadata": {},
   "outputs": [
    {
     "name": "stdout",
     "output_type": "stream",
     "text": [
      "Train on 7982 samples, validate on 1000 samples\n",
      "Epoch 1/20\n",
      "7982/7982 [==============================] - 0s 46us/step - loss: 2.4847 - accuracy: 0.5689 - val_loss: 1.7530 - val_accuracy: 0.6660\n",
      "Epoch 2/20\n",
      "7982/7982 [==============================] - 0s 39us/step - loss: 1.4450 - accuracy: 0.7223 - val_loss: 1.3304 - val_accuracy: 0.7290\n",
      "Epoch 3/20\n",
      "7982/7982 [==============================] - 0s 39us/step - loss: 1.0637 - accuracy: 0.7876 - val_loss: 1.1269 - val_accuracy: 0.7670\n",
      "Epoch 4/20\n",
      "7982/7982 [==============================] - 0s 35us/step - loss: 0.8329 - accuracy: 0.8319 - val_loss: 1.0185 - val_accuracy: 0.7970\n",
      "Epoch 5/20\n",
      "7982/7982 [==============================] - 0s 35us/step - loss: 0.6695 - accuracy: 0.8686 - val_loss: 0.9425 - val_accuracy: 0.8110\n",
      "Epoch 6/20\n",
      "7982/7982 [==============================] - 0s 35us/step - loss: 0.5474 - accuracy: 0.8930 - val_loss: 0.8952 - val_accuracy: 0.8160\n",
      "Epoch 7/20\n",
      "7982/7982 [==============================] - 0s 41us/step - loss: 0.4517 - accuracy: 0.9112 - val_loss: 0.8678 - val_accuracy: 0.8200\n",
      "Epoch 8/20\n",
      "7982/7982 [==============================] - 0s 42us/step - loss: 0.3756 - accuracy: 0.9219 - val_loss: 0.8498 - val_accuracy: 0.8210\n",
      "Epoch 9/20\n",
      "7982/7982 [==============================] - 0s 41us/step - loss: 0.3157 - accuracy: 0.9352 - val_loss: 0.8343 - val_accuracy: 0.8220\n",
      "Epoch 10/20\n",
      "7982/7982 [==============================] - 0s 41us/step - loss: 0.2698 - accuracy: 0.9414 - val_loss: 0.8429 - val_accuracy: 0.8170\n",
      "Epoch 11/20\n",
      "7982/7982 [==============================] - 0s 41us/step - loss: 0.2331 - accuracy: 0.9464 - val_loss: 0.8420 - val_accuracy: 0.8200\n",
      "Epoch 12/20\n",
      "7982/7982 [==============================] - 0s 41us/step - loss: 0.2028 - accuracy: 0.9488 - val_loss: 0.8451 - val_accuracy: 0.8300\n",
      "Epoch 13/20\n",
      "7982/7982 [==============================] - 0s 41us/step - loss: 0.1806 - accuracy: 0.9519 - val_loss: 0.8813 - val_accuracy: 0.8080\n",
      "Epoch 14/20\n",
      "7982/7982 [==============================] - 0s 41us/step - loss: 0.1633 - accuracy: 0.9521 - val_loss: 0.8665 - val_accuracy: 0.8210\n",
      "Epoch 15/20\n",
      "7982/7982 [==============================] - 0s 41us/step - loss: 0.1492 - accuracy: 0.9550 - val_loss: 0.8834 - val_accuracy: 0.8160\n",
      "Epoch 16/20\n",
      "7982/7982 [==============================] - 0s 42us/step - loss: 0.1371 - accuracy: 0.9570 - val_loss: 0.8980 - val_accuracy: 0.8230\n",
      "Epoch 17/20\n",
      "7982/7982 [==============================] - 0s 41us/step - loss: 0.1301 - accuracy: 0.9568 - val_loss: 0.9028 - val_accuracy: 0.8210\n",
      "Epoch 18/20\n",
      "7982/7982 [==============================] - 0s 41us/step - loss: 0.1211 - accuracy: 0.9559 - val_loss: 0.9424 - val_accuracy: 0.8110\n",
      "Epoch 19/20\n",
      "7982/7982 [==============================] - 0s 41us/step - loss: 0.1127 - accuracy: 0.9582 - val_loss: 0.9517 - val_accuracy: 0.8230\n",
      "Epoch 20/20\n",
      "7982/7982 [==============================] - 0s 42us/step - loss: 0.1107 - accuracy: 0.9570 - val_loss: 0.9581 - val_accuracy: 0.8090\n"
     ]
    }
   ],
   "source": [
    "history = model.fit(partial_x,partial_y,epochs=20,batch_size=512,validation_data=(validation_x,validation_y))\n"
   ]
  },
  {
   "cell_type": "code",
   "execution_count": 54,
   "metadata": {},
   "outputs": [
    {
     "name": "stdout",
     "output_type": "stream",
     "text": [
      "2246/2246 [==============================] - 0s 26us/step\n",
      "[1.0749147919173339, 0.7916295528411865]\n"
     ]
    }
   ],
   "source": [
    "results = model.evaluate(x_test, one_hot_test_labels)\n",
    "print(results)"
   ]
  },
  {
   "cell_type": "code",
   "execution_count": 55,
   "metadata": {},
   "outputs": [
    {
     "data": {
      "image/png": "[encoded data removed]",
      "text/plain": [
       "<Figure size 432x288 with 1 Axes>"
      ]
     },
     "metadata": {
      "needs_background": "light"
     },
     "output_type": "display_data"
    }
   ],
   "source": [
    "import matplotlib.pyplot as plt \n",
    "\n",
    "loss = history.history['loss']\n",
    "val_loss = history.history['val_loss']\n",
    "\n",
    "epochs = range(1,len(loss)+1)\n",
    "\n",
    "plt.plot(epochs, loss, 'bo', label='Training loss')\n",
    "plt.plot(epochs, val_loss, 'b', label='Validation loss') \n",
    "plt.title('Training and validation loss') \n",
    "plt.xlabel('Epochs')\n",
    "plt.ylabel('Loss') \n",
    "plt.legend()\n",
    "plt.show()\n"
   ]
  },
  {
   "cell_type": "code",
   "execution_count": 49,
   "metadata": {},
   "outputs": [
    {
     "data": {
      "image/png": "[encoded data removed]",
      "text/plain": [
       "<Figure size 432x288 with 1 Axes>"
      ]
     },
     "metadata": {
      "needs_background": "light"
     },
     "output_type": "display_data"
    }
   ],
   "source": [
    "plt.clf()\n",
    "acc = history.history['accuracy']\n",
    "val_acc = history.history['val_accuracy']\n",
    "plt.plot(epochs, acc, 'bo', label='Training acc') \n",
    "plt.plot(epochs, val_acc, 'b', label='Validation acc') \n",
    "plt.title('Training and validation accuracy') \n",
    "plt.xlabel('Epochs')\n",
    "plt.ylabel('Loss') \n",
    "plt.legend()\n",
    "plt.show()"
   ]
  },
  {
   "cell_type": "code",
   "execution_count": 13,
   "metadata": {},
   "outputs": [],
   "source": [
    "predictions = model.predict(x_test)"
   ]
  },
  {
   "cell_type": "code",
   "execution_count": 18,
   "metadata": {},
   "outputs": [
    {
     "data": {
      "text/plain": [
       "1.0"
      ]
     },
     "execution_count": 18,
     "metadata": {},
     "output_type": "execute_result"
    }
   ],
   "source": [
    "np.sum(predictions[0])"
   ]
  },
  {
   "cell_type": "code",
   "execution_count": 17,
   "metadata": {},
   "outputs": [
    {
     "data": {
      "text/plain": [
       "3"
      ]
     },
     "execution_count": 17,
     "metadata": {},
     "output_type": "execute_result"
    }
   ],
   "source": [
    "np.argmax(predictions[0])"
   ]
  },
  {
   "cell_type": "code",
   "execution_count": null,
   "metadata": {},
   "outputs": [],
   "source": []
  }
 ],
 "metadata": {
  "kernelspec": {
   "display_name": "Python 3",
   "language": "python",
   "name": "python3"
  },
  "language_info": {
   "codemirror_mode": {
    "name": "ipython",
    "version": 3
   },
   "file_extension": ".py",
   "mimetype": "text/x-python",
   "name": "python",
   "nbconvert_exporter": "python",
   "pygments_lexer": "ipython3",
   "version": "3.7.5"
  }
 },
 "nbformat": 4,
 "nbformat_minor": 2
}
